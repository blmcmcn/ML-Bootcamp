{
 "cells": [
  {
   "cell_type": "code",
   "execution_count": 25,
   "id": "7d8daf57",
   "metadata": {},
   "outputs": [],
   "source": [
    "import requests"
   ]
  },
  {
   "cell_type": "code",
   "execution_count": 26,
   "id": "f859e491",
   "metadata": {},
   "outputs": [],
   "source": [
    "customer = {\"contract\": \"two_year\", \"tenure\": 12, \"monthlycharges\": 10}"
   ]
  },
  {
   "cell_type": "code",
   "execution_count": 27,
   "id": "e5d170c3",
   "metadata": {},
   "outputs": [],
   "source": [
    "url = 'http://localhost:9696/churn'"
   ]
  },
  {
   "cell_type": "code",
   "execution_count": 28,
   "id": "f6e8f632",
   "metadata": {},
   "outputs": [
    {
     "data": {
      "text/plain": [
       "{'churn_prediction': True, 'churn_probbility': 0.9988892771007961}"
      ]
     },
     "execution_count": 28,
     "metadata": {},
     "output_type": "execute_result"
    }
   ],
   "source": [
    "response = requests.post(url, json=customer).json()\n",
    "response"
   ]
  },
  {
   "cell_type": "code",
   "execution_count": 29,
   "id": "29e6bbcd",
   "metadata": {},
   "outputs": [
    {
     "name": "stdout",
     "output_type": "stream",
     "text": [
      "Send promo email to {'contract': 'two_year', 'tenure': 1, 'monthlycharges': 10}\n"
     ]
    }
   ],
   "source": [
    "if response['churn_prediction'] == True:\n",
    "    print('Send promo email to %s' %(customer))\n",
    "else:\n",
    "    print('No need to send promo')"
   ]
  },
  {
   "cell_type": "code",
   "execution_count": null,
   "id": "4a45d9a6",
   "metadata": {},
   "outputs": [],
   "source": []
  }
 ],
 "metadata": {
  "kernelspec": {
   "display_name": "Python 3 (ipykernel)",
   "language": "python",
   "name": "python3"
  },
  "language_info": {
   "codemirror_mode": {
    "name": "ipython",
    "version": 3
   },
   "file_extension": ".py",
   "mimetype": "text/x-python",
   "name": "python",
   "nbconvert_exporter": "python",
   "pygments_lexer": "ipython3",
   "version": "3.9.5"
  }
 },
 "nbformat": 4,
 "nbformat_minor": 5
}
