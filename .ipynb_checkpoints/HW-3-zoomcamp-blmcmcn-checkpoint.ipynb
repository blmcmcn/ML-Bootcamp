{
 "cells": [
  {
   "cell_type": "code",
   "execution_count": 65,
   "metadata": {
    "_cell_guid": "b1076dfc-b9ad-4769-8c92-a6c4dae69d19",
    "_uuid": "8f2839f25d086af736a60e9eeb907d3b93b6e0e5",
    "execution": {
     "iopub.execute_input": "2021-09-26T06:06:53.953387Z",
     "iopub.status.busy": "2021-09-26T06:06:53.953098Z",
     "iopub.status.idle": "2021-09-26T06:06:53.958373Z",
     "shell.execute_reply": "2021-09-26T06:06:53.957206Z",
     "shell.execute_reply.started": "2021-09-26T06:06:53.953358Z"
    }
   },
   "outputs": [],
   "source": [
    "import numpy as np # linear algebra\n",
    "import pandas as pd # data processing, CSV file I/O (e.g. pd.read_csv)\n",
    "import matplotlib.pyplot as plt"
   ]
  },
  {
   "cell_type": "code",
   "execution_count": 66,
   "metadata": {
    "execution": {
     "iopub.execute_input": "2021-09-26T06:06:54.947193Z",
     "iopub.status.busy": "2021-09-26T06:06:54.946912Z",
     "iopub.status.idle": "2021-09-26T06:06:56.241336Z",
     "shell.execute_reply": "2021-09-26T06:06:56.240293Z",
     "shell.execute_reply.started": "2021-09-26T06:06:54.947167Z"
    }
   },
   "outputs": [
    {
     "name": "stdout",
     "output_type": "stream",
     "text": [
      "--2021-09-26 23:21:37--  https://raw.githubusercontent.com/alexeygrigorev/datasets/master/AB_NYC_2019.csv\n",
      "Resolving raw.githubusercontent.com (raw.githubusercontent.com)... 185.199.109.133, 185.199.108.133, 185.199.111.133, ...\n",
      "Connecting to raw.githubusercontent.com (raw.githubusercontent.com)|185.199.109.133|:443... connected.\n",
      "HTTP request sent, awaiting response... 200 OK\n",
      "Length: 7077973 (6.8M) [text/plain]\n",
      "Saving to: ‘ny-airbnb.csv’\n",
      "\n",
      "ny-airbnb.csv       100%[===================>]   6.75M  10.5MB/s    in 0.6s    \n",
      "\n",
      "2021-09-26 23:21:38 (10.5 MB/s) - ‘ny-airbnb.csv’ saved [7077973/7077973]\n",
      "\n"
     ]
    }
   ],
   "source": [
    "!wget $'https://raw.githubusercontent.com/alexeygrigorev/datasets/master/AB_NYC_2019.csv' -O ny-airbnb.csv"
   ]
  },
  {
   "cell_type": "code",
   "execution_count": 67,
   "metadata": {
    "execution": {
     "iopub.execute_input": "2021-09-26T06:06:56.401024Z",
     "iopub.status.busy": "2021-09-26T06:06:56.400691Z",
     "iopub.status.idle": "2021-09-26T06:06:56.661808Z",
     "shell.execute_reply": "2021-09-26T06:06:56.660847Z",
     "shell.execute_reply.started": "2021-09-26T06:06:56.400989Z"
    }
   },
   "outputs": [
    {
     "data": {
      "text/html": [
       "<div>\n",
       "<style scoped>\n",
       "    .dataframe tbody tr th:only-of-type {\n",
       "        vertical-align: middle;\n",
       "    }\n",
       "\n",
       "    .dataframe tbody tr th {\n",
       "        vertical-align: top;\n",
       "    }\n",
       "\n",
       "    .dataframe thead th {\n",
       "        text-align: right;\n",
       "    }\n",
       "</style>\n",
       "<table border=\"1\" class=\"dataframe\">\n",
       "  <thead>\n",
       "    <tr style=\"text-align: right;\">\n",
       "      <th></th>\n",
       "      <th>id</th>\n",
       "      <th>name</th>\n",
       "      <th>host_id</th>\n",
       "      <th>host_name</th>\n",
       "      <th>neighbourhood_group</th>\n",
       "      <th>neighbourhood</th>\n",
       "      <th>latitude</th>\n",
       "      <th>longitude</th>\n",
       "      <th>room_type</th>\n",
       "      <th>price</th>\n",
       "      <th>minimum_nights</th>\n",
       "      <th>number_of_reviews</th>\n",
       "      <th>last_review</th>\n",
       "      <th>reviews_per_month</th>\n",
       "      <th>calculated_host_listings_count</th>\n",
       "      <th>availability_365</th>\n",
       "    </tr>\n",
       "  </thead>\n",
       "  <tbody>\n",
       "    <tr>\n",
       "      <th>0</th>\n",
       "      <td>2539</td>\n",
       "      <td>Clean &amp; quiet apt home by the park</td>\n",
       "      <td>2787</td>\n",
       "      <td>John</td>\n",
       "      <td>Brooklyn</td>\n",
       "      <td>Kensington</td>\n",
       "      <td>40.64749</td>\n",
       "      <td>-73.97237</td>\n",
       "      <td>Private room</td>\n",
       "      <td>149</td>\n",
       "      <td>1</td>\n",
       "      <td>9</td>\n",
       "      <td>2018-10-19</td>\n",
       "      <td>0.21</td>\n",
       "      <td>6</td>\n",
       "      <td>365</td>\n",
       "    </tr>\n",
       "    <tr>\n",
       "      <th>1</th>\n",
       "      <td>2595</td>\n",
       "      <td>Skylit Midtown Castle</td>\n",
       "      <td>2845</td>\n",
       "      <td>Jennifer</td>\n",
       "      <td>Manhattan</td>\n",
       "      <td>Midtown</td>\n",
       "      <td>40.75362</td>\n",
       "      <td>-73.98377</td>\n",
       "      <td>Entire home/apt</td>\n",
       "      <td>225</td>\n",
       "      <td>1</td>\n",
       "      <td>45</td>\n",
       "      <td>2019-05-21</td>\n",
       "      <td>0.38</td>\n",
       "      <td>2</td>\n",
       "      <td>355</td>\n",
       "    </tr>\n",
       "    <tr>\n",
       "      <th>2</th>\n",
       "      <td>3647</td>\n",
       "      <td>THE VILLAGE OF HARLEM....NEW YORK !</td>\n",
       "      <td>4632</td>\n",
       "      <td>Elisabeth</td>\n",
       "      <td>Manhattan</td>\n",
       "      <td>Harlem</td>\n",
       "      <td>40.80902</td>\n",
       "      <td>-73.94190</td>\n",
       "      <td>Private room</td>\n",
       "      <td>150</td>\n",
       "      <td>3</td>\n",
       "      <td>0</td>\n",
       "      <td>NaN</td>\n",
       "      <td>NaN</td>\n",
       "      <td>1</td>\n",
       "      <td>365</td>\n",
       "    </tr>\n",
       "    <tr>\n",
       "      <th>3</th>\n",
       "      <td>3831</td>\n",
       "      <td>Cozy Entire Floor of Brownstone</td>\n",
       "      <td>4869</td>\n",
       "      <td>LisaRoxanne</td>\n",
       "      <td>Brooklyn</td>\n",
       "      <td>Clinton Hill</td>\n",
       "      <td>40.68514</td>\n",
       "      <td>-73.95976</td>\n",
       "      <td>Entire home/apt</td>\n",
       "      <td>89</td>\n",
       "      <td>1</td>\n",
       "      <td>270</td>\n",
       "      <td>2019-07-05</td>\n",
       "      <td>4.64</td>\n",
       "      <td>1</td>\n",
       "      <td>194</td>\n",
       "    </tr>\n",
       "    <tr>\n",
       "      <th>4</th>\n",
       "      <td>5022</td>\n",
       "      <td>Entire Apt: Spacious Studio/Loft by central park</td>\n",
       "      <td>7192</td>\n",
       "      <td>Laura</td>\n",
       "      <td>Manhattan</td>\n",
       "      <td>East Harlem</td>\n",
       "      <td>40.79851</td>\n",
       "      <td>-73.94399</td>\n",
       "      <td>Entire home/apt</td>\n",
       "      <td>80</td>\n",
       "      <td>10</td>\n",
       "      <td>9</td>\n",
       "      <td>2018-11-19</td>\n",
       "      <td>0.10</td>\n",
       "      <td>1</td>\n",
       "      <td>0</td>\n",
       "    </tr>\n",
       "  </tbody>\n",
       "</table>\n",
       "</div>"
      ],
      "text/plain": [
       "     id                                              name  host_id  \\\n",
       "0  2539                Clean & quiet apt home by the park     2787   \n",
       "1  2595                             Skylit Midtown Castle     2845   \n",
       "2  3647               THE VILLAGE OF HARLEM....NEW YORK !     4632   \n",
       "3  3831                   Cozy Entire Floor of Brownstone     4869   \n",
       "4  5022  Entire Apt: Spacious Studio/Loft by central park     7192   \n",
       "\n",
       "     host_name neighbourhood_group neighbourhood  latitude  longitude  \\\n",
       "0         John            Brooklyn    Kensington  40.64749  -73.97237   \n",
       "1     Jennifer           Manhattan       Midtown  40.75362  -73.98377   \n",
       "2    Elisabeth           Manhattan        Harlem  40.80902  -73.94190   \n",
       "3  LisaRoxanne            Brooklyn  Clinton Hill  40.68514  -73.95976   \n",
       "4        Laura           Manhattan   East Harlem  40.79851  -73.94399   \n",
       "\n",
       "         room_type  price  minimum_nights  number_of_reviews last_review  \\\n",
       "0     Private room    149               1                  9  2018-10-19   \n",
       "1  Entire home/apt    225               1                 45  2019-05-21   \n",
       "2     Private room    150               3                  0         NaN   \n",
       "3  Entire home/apt     89               1                270  2019-07-05   \n",
       "4  Entire home/apt     80              10                  9  2018-11-19   \n",
       "\n",
       "   reviews_per_month  calculated_host_listings_count  availability_365  \n",
       "0               0.21                               6               365  \n",
       "1               0.38                               2               355  \n",
       "2                NaN                               1               365  \n",
       "3               4.64                               1               194  \n",
       "4               0.10                               1                 0  "
      ]
     },
     "execution_count": 67,
     "metadata": {},
     "output_type": "execute_result"
    }
   ],
   "source": [
    "df = pd.read_csv('ny-airbnb.csv')\n",
    "df.head()"
   ]
  },
  {
   "cell_type": "code",
   "execution_count": 68,
   "metadata": {
    "execution": {
     "iopub.execute_input": "2021-09-26T06:06:57.498546Z",
     "iopub.status.busy": "2021-09-26T06:06:57.498238Z",
     "iopub.status.idle": "2021-09-26T06:06:57.520474Z",
     "shell.execute_reply": "2021-09-26T06:06:57.519834Z",
     "shell.execute_reply.started": "2021-09-26T06:06:57.498511Z"
    }
   },
   "outputs": [
    {
     "data": {
      "text/html": [
       "<div>\n",
       "<style scoped>\n",
       "    .dataframe tbody tr th:only-of-type {\n",
       "        vertical-align: middle;\n",
       "    }\n",
       "\n",
       "    .dataframe tbody tr th {\n",
       "        vertical-align: top;\n",
       "    }\n",
       "\n",
       "    .dataframe thead th {\n",
       "        text-align: right;\n",
       "    }\n",
       "</style>\n",
       "<table border=\"1\" class=\"dataframe\">\n",
       "  <thead>\n",
       "    <tr style=\"text-align: right;\">\n",
       "      <th></th>\n",
       "      <th>neighbourhood_group</th>\n",
       "      <th>room_type</th>\n",
       "      <th>latitude</th>\n",
       "      <th>longitude</th>\n",
       "      <th>price</th>\n",
       "      <th>minimum_nights</th>\n",
       "      <th>number_of_reviews</th>\n",
       "      <th>reviews_per_month</th>\n",
       "      <th>calculated_host_listings_count</th>\n",
       "      <th>availability_365</th>\n",
       "    </tr>\n",
       "  </thead>\n",
       "  <tbody>\n",
       "    <tr>\n",
       "      <th>0</th>\n",
       "      <td>Brooklyn</td>\n",
       "      <td>Private room</td>\n",
       "      <td>40.64749</td>\n",
       "      <td>-73.97237</td>\n",
       "      <td>149</td>\n",
       "      <td>1</td>\n",
       "      <td>9</td>\n",
       "      <td>0.21</td>\n",
       "      <td>6</td>\n",
       "      <td>365</td>\n",
       "    </tr>\n",
       "    <tr>\n",
       "      <th>1</th>\n",
       "      <td>Manhattan</td>\n",
       "      <td>Entire home/apt</td>\n",
       "      <td>40.75362</td>\n",
       "      <td>-73.98377</td>\n",
       "      <td>225</td>\n",
       "      <td>1</td>\n",
       "      <td>45</td>\n",
       "      <td>0.38</td>\n",
       "      <td>2</td>\n",
       "      <td>355</td>\n",
       "    </tr>\n",
       "    <tr>\n",
       "      <th>2</th>\n",
       "      <td>Manhattan</td>\n",
       "      <td>Private room</td>\n",
       "      <td>40.80902</td>\n",
       "      <td>-73.94190</td>\n",
       "      <td>150</td>\n",
       "      <td>3</td>\n",
       "      <td>0</td>\n",
       "      <td>NaN</td>\n",
       "      <td>1</td>\n",
       "      <td>365</td>\n",
       "    </tr>\n",
       "    <tr>\n",
       "      <th>3</th>\n",
       "      <td>Brooklyn</td>\n",
       "      <td>Entire home/apt</td>\n",
       "      <td>40.68514</td>\n",
       "      <td>-73.95976</td>\n",
       "      <td>89</td>\n",
       "      <td>1</td>\n",
       "      <td>270</td>\n",
       "      <td>4.64</td>\n",
       "      <td>1</td>\n",
       "      <td>194</td>\n",
       "    </tr>\n",
       "    <tr>\n",
       "      <th>4</th>\n",
       "      <td>Manhattan</td>\n",
       "      <td>Entire home/apt</td>\n",
       "      <td>40.79851</td>\n",
       "      <td>-73.94399</td>\n",
       "      <td>80</td>\n",
       "      <td>10</td>\n",
       "      <td>9</td>\n",
       "      <td>0.10</td>\n",
       "      <td>1</td>\n",
       "      <td>0</td>\n",
       "    </tr>\n",
       "  </tbody>\n",
       "</table>\n",
       "</div>"
      ],
      "text/plain": [
       "  neighbourhood_group        room_type  latitude  longitude  price  \\\n",
       "0            Brooklyn     Private room  40.64749  -73.97237    149   \n",
       "1           Manhattan  Entire home/apt  40.75362  -73.98377    225   \n",
       "2           Manhattan     Private room  40.80902  -73.94190    150   \n",
       "3            Brooklyn  Entire home/apt  40.68514  -73.95976     89   \n",
       "4           Manhattan  Entire home/apt  40.79851  -73.94399     80   \n",
       "\n",
       "   minimum_nights  number_of_reviews  reviews_per_month  \\\n",
       "0               1                  9               0.21   \n",
       "1               1                 45               0.38   \n",
       "2               3                  0                NaN   \n",
       "3               1                270               4.64   \n",
       "4              10                  9               0.10   \n",
       "\n",
       "   calculated_host_listings_count  availability_365  \n",
       "0                               6               365  \n",
       "1                               2               355  \n",
       "2                               1               365  \n",
       "3                               1               194  \n",
       "4                               1                 0  "
      ]
     },
     "execution_count": 68,
     "metadata": {},
     "output_type": "execute_result"
    }
   ],
   "source": [
    "feat_lst = ['neighbourhood_group', 'room_type', 'latitude', 'longitude', 'price', 'minimum_nights', 'number_of_reviews', 'reviews_per_month','calculated_host_listings_count', 'availability_365']\n",
    "df = df[feat_lst]\n",
    "df.head()"
   ]
  },
  {
   "cell_type": "code",
   "execution_count": 45,
   "metadata": {
    "execution": {
     "iopub.execute_input": "2021-09-26T06:06:58.377410Z",
     "iopub.status.busy": "2021-09-26T06:06:58.376443Z",
     "iopub.status.idle": "2021-09-26T06:06:58.386841Z",
     "shell.execute_reply": "2021-09-26T06:06:58.385644Z",
     "shell.execute_reply.started": "2021-09-26T06:06:58.377364Z"
    }
   },
   "outputs": [
    {
     "data": {
      "text/plain": [
       "Index(['neighbourhood_group', 'room_type', 'latitude', 'longitude', 'price',\n",
       "       'minimum_nights', 'number_of_reviews', 'reviews_per_month',\n",
       "       'calculated_host_listings_count', 'availability_365'],\n",
       "      dtype='object')"
      ]
     },
     "execution_count": 45,
     "metadata": {},
     "output_type": "execute_result"
    }
   ],
   "source": [
    "df.columns = df.columns.str.lower().str.strip().str.replace(' ','_')\n",
    "df.columns"
   ]
  },
  {
   "cell_type": "code",
   "execution_count": 46,
   "metadata": {
    "execution": {
     "iopub.execute_input": "2021-09-26T06:06:59.377271Z",
     "iopub.status.busy": "2021-09-26T06:06:59.376332Z",
     "iopub.status.idle": "2021-09-26T06:06:59.383677Z",
     "shell.execute_reply": "2021-09-26T06:06:59.382999Z",
     "shell.execute_reply.started": "2021-09-26T06:06:59.377229Z"
    }
   },
   "outputs": [
    {
     "name": "stdout",
     "output_type": "stream",
     "text": [
      "['calculated_host_listings_count', 'number_of_reviews', 'latitude', 'reviews_per_month', 'minimum_nights', 'availability_365', 'longitude', 'price'] \n",
      " ['neighbourhood_group', 'room_type']\n"
     ]
    }
   ],
   "source": [
    "cat_list = list(df.dtypes[df.dtypes == 'object'].index)\n",
    "num_list = list(set(list(df.columns)) - set(cat_list))\n",
    "print(num_list , '\\n' , cat_list)"
   ]
  },
  {
   "cell_type": "code",
   "execution_count": 47,
   "metadata": {
    "execution": {
     "iopub.execute_input": "2021-09-26T06:07:00.297336Z",
     "iopub.status.busy": "2021-09-26T06:07:00.296267Z",
     "iopub.status.idle": "2021-09-26T06:07:00.419969Z",
     "shell.execute_reply": "2021-09-26T06:07:00.418920Z",
     "shell.execute_reply.started": "2021-09-26T06:07:00.297263Z"
    }
   },
   "outputs": [],
   "source": [
    "for c in cat_list:\n",
    "    df[c] = df[c].str.lower().str.replace(' ', '_')"
   ]
  },
  {
   "cell_type": "code",
   "execution_count": 48,
   "metadata": {
    "execution": {
     "iopub.execute_input": "2021-09-26T06:07:01.124215Z",
     "iopub.status.busy": "2021-09-26T06:07:01.123925Z",
     "iopub.status.idle": "2021-09-26T06:07:01.136762Z",
     "shell.execute_reply": "2021-09-26T06:07:01.135719Z",
     "shell.execute_reply.started": "2021-09-26T06:07:01.124187Z"
    }
   },
   "outputs": [],
   "source": [
    "for n in num_list:\n",
    "    df[n].fillna(0,inplace=True)"
   ]
  },
  {
   "cell_type": "code",
   "execution_count": 49,
   "metadata": {
    "execution": {
     "iopub.execute_input": "2021-09-26T06:07:01.723404Z",
     "iopub.status.busy": "2021-09-26T06:07:01.723079Z",
     "iopub.status.idle": "2021-09-26T06:07:01.741903Z",
     "shell.execute_reply": "2021-09-26T06:07:01.740794Z",
     "shell.execute_reply.started": "2021-09-26T06:07:01.723367Z"
    }
   },
   "outputs": [
    {
     "data": {
      "text/plain": [
       "manhattan        21661\n",
       "brooklyn         20104\n",
       "queens            5666\n",
       "bronx             1091\n",
       "staten_island      373\n",
       "Name: neighbourhood_group, dtype: int64"
      ]
     },
     "execution_count": 49,
     "metadata": {},
     "output_type": "execute_result"
    }
   ],
   "source": [
    "df.neighbourhood_group.value_counts()"
   ]
  },
  {
   "cell_type": "code",
   "execution_count": 50,
   "metadata": {},
   "outputs": [
    {
     "data": {
      "text/plain": [
       "entire_home/apt    25409\n",
       "private_room       22326\n",
       "shared_room         1160\n",
       "Name: room_type, dtype: int64"
      ]
     },
     "execution_count": 50,
     "metadata": {},
     "output_type": "execute_result"
    }
   ],
   "source": [
    "df.room_type.value_counts()"
   ]
  },
  {
   "cell_type": "code",
   "execution_count": 51,
   "metadata": {
    "execution": {
     "iopub.execute_input": "2021-09-26T06:07:02.419288Z",
     "iopub.status.busy": "2021-09-26T06:07:02.418795Z",
     "iopub.status.idle": "2021-09-26T06:07:02.444635Z",
     "shell.execute_reply": "2021-09-26T06:07:02.443624Z",
     "shell.execute_reply.started": "2021-09-26T06:07:02.419254Z"
    }
   },
   "outputs": [],
   "source": [
    "from sklearn.model_selection import train_test_split\n",
    "x_train, x_vt, y_train, y_vt = train_test_split( df.drop(columns=['price']), df.price , test_size=0.4, random_state=42)\n"
   ]
  },
  {
   "cell_type": "code",
   "execution_count": 52,
   "metadata": {
    "execution": {
     "iopub.execute_input": "2021-09-26T06:07:21.786202Z",
     "iopub.status.busy": "2021-09-26T06:07:21.785877Z",
     "iopub.status.idle": "2021-09-26T06:07:21.799433Z",
     "shell.execute_reply": "2021-09-26T06:07:21.798763Z",
     "shell.execute_reply.started": "2021-09-26T06:07:21.786171Z"
    }
   },
   "outputs": [],
   "source": [
    "x_val, x_test, y_val, y_test = train_test_split( x_vt , y_vt , test_size=0.5, random_state=42)"
   ]
  },
  {
   "cell_type": "code",
   "execution_count": 53,
   "metadata": {
    "execution": {
     "iopub.execute_input": "2021-09-26T06:07:22.243465Z",
     "iopub.status.busy": "2021-09-26T06:07:22.242361Z",
     "iopub.status.idle": "2021-09-26T06:07:22.249426Z",
     "shell.execute_reply": "2021-09-26T06:07:22.248403Z",
     "shell.execute_reply.started": "2021-09-26T06:07:22.243423Z"
    }
   },
   "outputs": [
    {
     "name": "stdout",
     "output_type": "stream",
     "text": [
      "0.6 0.2 0.2\n"
     ]
    }
   ],
   "source": [
    "print(len(x_train)/len(df) , len(x_val)/len(df) , len(x_test)/len(df))"
   ]
  },
  {
   "cell_type": "code",
   "execution_count": 54,
   "metadata": {},
   "outputs": [],
   "source": [
    "x_train = x_train.reset_index(drop=True)\n",
    "x_val = x_val.reset_index(drop=True)\n",
    "x_test = x_test.reset_index(drop=True)\n",
    "\n",
    "y_train = y_train.reset_index(drop=True)\n",
    "y_val = y_val.reset_index(drop=True)\n",
    "y_test = y_test.reset_index(drop=True)"
   ]
  },
  {
   "cell_type": "code",
   "execution_count": 55,
   "metadata": {
    "execution": {
     "iopub.execute_input": "2021-09-26T06:07:22.590647Z",
     "iopub.status.busy": "2021-09-26T06:07:22.589861Z",
     "iopub.status.idle": "2021-09-26T06:07:22.617409Z",
     "shell.execute_reply": "2021-09-26T06:07:22.616596Z",
     "shell.execute_reply.started": "2021-09-26T06:07:22.590589Z"
    }
   },
   "outputs": [
    {
     "data": {
      "text/html": [
       "<div>\n",
       "<style scoped>\n",
       "    .dataframe tbody tr th:only-of-type {\n",
       "        vertical-align: middle;\n",
       "    }\n",
       "\n",
       "    .dataframe tbody tr th {\n",
       "        vertical-align: top;\n",
       "    }\n",
       "\n",
       "    .dataframe thead th {\n",
       "        text-align: right;\n",
       "    }\n",
       "</style>\n",
       "<table border=\"1\" class=\"dataframe\">\n",
       "  <thead>\n",
       "    <tr style=\"text-align: right;\">\n",
       "      <th></th>\n",
       "      <th>latitude</th>\n",
       "      <th>longitude</th>\n",
       "      <th>minimum_nights</th>\n",
       "      <th>number_of_reviews</th>\n",
       "      <th>reviews_per_month</th>\n",
       "      <th>calculated_host_listings_count</th>\n",
       "      <th>availability_365</th>\n",
       "    </tr>\n",
       "  </thead>\n",
       "  <tbody>\n",
       "    <tr>\n",
       "      <th>latitude</th>\n",
       "      <td>1.000000</td>\n",
       "      <td>0.087732</td>\n",
       "      <td>0.027252</td>\n",
       "      <td>0.010080</td>\n",
       "      <td>0.014699</td>\n",
       "      <td>0.019442</td>\n",
       "      <td>0.005975</td>\n",
       "    </tr>\n",
       "    <tr>\n",
       "      <th>longitude</th>\n",
       "      <td>0.087732</td>\n",
       "      <td>1.000000</td>\n",
       "      <td>0.067251</td>\n",
       "      <td>0.058775</td>\n",
       "      <td>0.132226</td>\n",
       "      <td>0.116669</td>\n",
       "      <td>0.080776</td>\n",
       "    </tr>\n",
       "    <tr>\n",
       "      <th>minimum_nights</th>\n",
       "      <td>0.027252</td>\n",
       "      <td>0.067251</td>\n",
       "      <td>1.000000</td>\n",
       "      <td>0.085092</td>\n",
       "      <td>0.127316</td>\n",
       "      <td>0.124060</td>\n",
       "      <td>0.141089</td>\n",
       "    </tr>\n",
       "    <tr>\n",
       "      <th>number_of_reviews</th>\n",
       "      <td>0.010080</td>\n",
       "      <td>0.058775</td>\n",
       "      <td>0.085092</td>\n",
       "      <td>1.000000</td>\n",
       "      <td>0.581124</td>\n",
       "      <td>0.072687</td>\n",
       "      <td>0.176481</td>\n",
       "    </tr>\n",
       "    <tr>\n",
       "      <th>reviews_per_month</th>\n",
       "      <td>0.014699</td>\n",
       "      <td>0.132226</td>\n",
       "      <td>0.127316</td>\n",
       "      <td>0.581124</td>\n",
       "      <td>1.000000</td>\n",
       "      <td>0.047254</td>\n",
       "      <td>0.166533</td>\n",
       "    </tr>\n",
       "    <tr>\n",
       "      <th>calculated_host_listings_count</th>\n",
       "      <td>0.019442</td>\n",
       "      <td>0.116669</td>\n",
       "      <td>0.124060</td>\n",
       "      <td>0.072687</td>\n",
       "      <td>0.047254</td>\n",
       "      <td>1.000000</td>\n",
       "      <td>0.222986</td>\n",
       "    </tr>\n",
       "    <tr>\n",
       "      <th>availability_365</th>\n",
       "      <td>0.005975</td>\n",
       "      <td>0.080776</td>\n",
       "      <td>0.141089</td>\n",
       "      <td>0.176481</td>\n",
       "      <td>0.166533</td>\n",
       "      <td>0.222986</td>\n",
       "      <td>1.000000</td>\n",
       "    </tr>\n",
       "  </tbody>\n",
       "</table>\n",
       "</div>"
      ],
      "text/plain": [
       "                                latitude  longitude  minimum_nights  \\\n",
       "latitude                        1.000000   0.087732        0.027252   \n",
       "longitude                       0.087732   1.000000        0.067251   \n",
       "minimum_nights                  0.027252   0.067251        1.000000   \n",
       "number_of_reviews               0.010080   0.058775        0.085092   \n",
       "reviews_per_month               0.014699   0.132226        0.127316   \n",
       "calculated_host_listings_count  0.019442   0.116669        0.124060   \n",
       "availability_365                0.005975   0.080776        0.141089   \n",
       "\n",
       "                                number_of_reviews  reviews_per_month  \\\n",
       "latitude                                 0.010080           0.014699   \n",
       "longitude                                0.058775           0.132226   \n",
       "minimum_nights                           0.085092           0.127316   \n",
       "number_of_reviews                        1.000000           0.581124   \n",
       "reviews_per_month                        0.581124           1.000000   \n",
       "calculated_host_listings_count           0.072687           0.047254   \n",
       "availability_365                         0.176481           0.166533   \n",
       "\n",
       "                                calculated_host_listings_count  \\\n",
       "latitude                                              0.019442   \n",
       "longitude                                             0.116669   \n",
       "minimum_nights                                        0.124060   \n",
       "number_of_reviews                                     0.072687   \n",
       "reviews_per_month                                     0.047254   \n",
       "calculated_host_listings_count                        1.000000   \n",
       "availability_365                                      0.222986   \n",
       "\n",
       "                                availability_365  \n",
       "latitude                                0.005975  \n",
       "longitude                               0.080776  \n",
       "minimum_nights                          0.141089  \n",
       "number_of_reviews                       0.176481  \n",
       "reviews_per_month                       0.166533  \n",
       "calculated_host_listings_count          0.222986  \n",
       "availability_365                        1.000000  "
      ]
     },
     "execution_count": 55,
     "metadata": {},
     "output_type": "execute_result"
    }
   ],
   "source": [
    "cm = x_train.corr().abs()\n",
    "cm"
   ]
  },
  {
   "cell_type": "code",
   "execution_count": 56,
   "metadata": {
    "execution": {
     "iopub.execute_input": "2021-09-26T06:07:22.901790Z",
     "iopub.status.busy": "2021-09-26T06:07:22.901494Z",
     "iopub.status.idle": "2021-09-26T06:07:23.429104Z",
     "shell.execute_reply": "2021-09-26T06:07:23.428053Z",
     "shell.execute_reply.started": "2021-09-26T06:07:22.901760Z"
    }
   },
   "outputs": [
    {
     "data": {
      "image/png": "[encoded data removed]",
      "text/plain": [
       "<Figure size 432x288 with 2 Axes>"
      ]
     },
     "metadata": {
      "needs_background": "light"
     },
     "output_type": "display_data"
    }
   ],
   "source": [
    "import seaborn as sb\n",
    "sb.heatmap(cm, annot=True)\n",
    "plt.show()"
   ]
  },
  {
   "cell_type": "code",
   "execution_count": 57,
   "metadata": {
    "execution": {
     "iopub.execute_input": "2021-09-26T06:07:23.431546Z",
     "iopub.status.busy": "2021-09-26T06:07:23.431234Z",
     "iopub.status.idle": "2021-09-26T06:07:23.447985Z",
     "shell.execute_reply": "2021-09-26T06:07:23.447218Z",
     "shell.execute_reply.started": "2021-09-26T06:07:23.431507Z"
    }
   },
   "outputs": [
    {
     "data": {
      "text/plain": [
       "['number_of_reviews', 'reviews_per_month']"
      ]
     },
     "execution_count": 57,
     "metadata": {},
     "output_type": "execute_result"
    }
   ],
   "source": [
    "cm = cm.replace(1,0)\n",
    "most_corr = list((cm.max().max() == cm.max())[(cm.max().max() == cm.max())].index)\n",
    "most_corr"
   ]
  },
  {
   "cell_type": "code",
   "execution_count": 58,
   "metadata": {
    "execution": {
     "iopub.execute_input": "2021-09-26T06:07:24.561659Z",
     "iopub.status.busy": "2021-09-26T06:07:24.560537Z",
     "iopub.status.idle": "2021-09-26T06:07:24.570157Z",
     "shell.execute_reply": "2021-09-26T06:07:24.569302Z",
     "shell.execute_reply.started": "2021-09-26T06:07:24.561616Z"
    }
   },
   "outputs": [
    {
     "data": {
      "text/plain": [
       "0        False\n",
       "1        False\n",
       "2         True\n",
       "3         True\n",
       "4         True\n",
       "         ...  \n",
       "29332    False\n",
       "29333    False\n",
       "29334    False\n",
       "29335    False\n",
       "29336    False\n",
       "Name: price, Length: 29337, dtype: bool"
      ]
     },
     "execution_count": 58,
     "metadata": {},
     "output_type": "execute_result"
    }
   ],
   "source": [
    "(y_train >= y_train.mean())"
   ]
  },
  {
   "cell_type": "code",
   "execution_count": 59,
   "metadata": {},
   "outputs": [],
   "source": [
    "y_train_bin = pd.Series(np.where(y_train>= 152, 1, 0)).astype('category')\n",
    "y_val_bin = pd.Series(np.where(y_val>= 152, 1, 0)).astype('category')\n",
    "y_test_bin = pd.Series(np.where(y_test>= 152, 1, 0)).astype('category')"
   ]
  },
  {
   "cell_type": "code",
   "execution_count": 60,
   "metadata": {
    "execution": {
     "iopub.execute_input": "2021-09-26T06:11:15.959073Z",
     "iopub.status.busy": "2021-09-26T06:11:15.958777Z",
     "iopub.status.idle": "2021-09-26T06:11:16.068844Z",
     "shell.execute_reply": "2021-09-26T06:11:16.068008Z",
     "shell.execute_reply.started": "2021-09-26T06:11:15.959043Z"
    }
   },
   "outputs": [
    {
     "name": "stdout",
     "output_type": "stream",
     "text": [
      "Mutual information score for neighbourhood_group is: 0.05\n",
      "Mutual information score for room_type is: 0.14\n"
     ]
    }
   ],
   "source": [
    "from sklearn.metrics import mutual_info_score\n",
    "print(f'Mutual information score for {cat_list[0]} is: {round(mutual_info_score(y_train_bin, x_train[cat_list[0]]),2)}')\n",
    "print(f'Mutual information score for {cat_list[1]} is: {round(mutual_info_score(y_train_bin, x_train[cat_list[1]]),2)}')"
   ]
  },
  {
   "cell_type": "code",
   "execution_count": 61,
   "metadata": {
    "execution": {
     "iopub.execute_input": "2021-09-26T06:11:17.348434Z",
     "iopub.status.busy": "2021-09-26T06:11:17.348164Z",
     "iopub.status.idle": "2021-09-26T06:11:17.356336Z",
     "shell.execute_reply": "2021-09-26T06:11:17.355597Z",
     "shell.execute_reply.started": "2021-09-26T06:11:17.348406Z"
    }
   },
   "outputs": [
    {
     "data": {
      "text/html": [
       "<div>\n",
       "<style scoped>\n",
       "    .dataframe tbody tr th:only-of-type {\n",
       "        vertical-align: middle;\n",
       "    }\n",
       "\n",
       "    .dataframe tbody tr th {\n",
       "        vertical-align: top;\n",
       "    }\n",
       "\n",
       "    .dataframe thead th {\n",
       "        text-align: right;\n",
       "    }\n",
       "</style>\n",
       "<table border=\"1\" class=\"dataframe\">\n",
       "  <thead>\n",
       "    <tr style=\"text-align: right;\">\n",
       "      <th></th>\n",
       "      <th>latitude</th>\n",
       "      <th>longitude</th>\n",
       "      <th>minimum_nights</th>\n",
       "      <th>number_of_reviews</th>\n",
       "      <th>reviews_per_month</th>\n",
       "      <th>calculated_host_listings_count</th>\n",
       "      <th>availability_365</th>\n",
       "      <th>neighbourhood_group_bronx</th>\n",
       "      <th>neighbourhood_group_brooklyn</th>\n",
       "      <th>neighbourhood_group_manhattan</th>\n",
       "      <th>neighbourhood_group_queens</th>\n",
       "      <th>neighbourhood_group_staten_island</th>\n",
       "      <th>room_type_entire_home/apt</th>\n",
       "      <th>room_type_private_room</th>\n",
       "      <th>room_type_shared_room</th>\n",
       "    </tr>\n",
       "  </thead>\n",
       "  <tbody>\n",
       "    <tr>\n",
       "      <th>0</th>\n",
       "      <td>40.72006</td>\n",
       "      <td>-73.99579</td>\n",
       "      <td>6</td>\n",
       "      <td>18</td>\n",
       "      <td>0.21</td>\n",
       "      <td>1</td>\n",
       "      <td>0</td>\n",
       "      <td>0</td>\n",
       "      <td>0</td>\n",
       "      <td>1</td>\n",
       "      <td>0</td>\n",
       "      <td>0</td>\n",
       "      <td>0</td>\n",
       "      <td>1</td>\n",
       "      <td>0</td>\n",
       "    </tr>\n",
       "    <tr>\n",
       "      <th>1</th>\n",
       "      <td>40.68048</td>\n",
       "      <td>-73.99322</td>\n",
       "      <td>4</td>\n",
       "      <td>8</td>\n",
       "      <td>0.24</td>\n",
       "      <td>1</td>\n",
       "      <td>0</td>\n",
       "      <td>0</td>\n",
       "      <td>1</td>\n",
       "      <td>0</td>\n",
       "      <td>0</td>\n",
       "      <td>0</td>\n",
       "      <td>1</td>\n",
       "      <td>0</td>\n",
       "      <td>0</td>\n",
       "    </tr>\n",
       "    <tr>\n",
       "      <th>2</th>\n",
       "      <td>40.75933</td>\n",
       "      <td>-73.98751</td>\n",
       "      <td>29</td>\n",
       "      <td>0</td>\n",
       "      <td>0.00</td>\n",
       "      <td>327</td>\n",
       "      <td>336</td>\n",
       "      <td>0</td>\n",
       "      <td>0</td>\n",
       "      <td>1</td>\n",
       "      <td>0</td>\n",
       "      <td>0</td>\n",
       "      <td>1</td>\n",
       "      <td>0</td>\n",
       "      <td>0</td>\n",
       "    </tr>\n",
       "    <tr>\n",
       "      <th>3</th>\n",
       "      <td>40.67886</td>\n",
       "      <td>-73.96802</td>\n",
       "      <td>1</td>\n",
       "      <td>2</td>\n",
       "      <td>0.04</td>\n",
       "      <td>1</td>\n",
       "      <td>0</td>\n",
       "      <td>0</td>\n",
       "      <td>1</td>\n",
       "      <td>0</td>\n",
       "      <td>0</td>\n",
       "      <td>0</td>\n",
       "      <td>1</td>\n",
       "      <td>0</td>\n",
       "      <td>0</td>\n",
       "    </tr>\n",
       "    <tr>\n",
       "      <th>4</th>\n",
       "      <td>40.72087</td>\n",
       "      <td>-73.98079</td>\n",
       "      <td>1</td>\n",
       "      <td>2</td>\n",
       "      <td>0.15</td>\n",
       "      <td>1</td>\n",
       "      <td>0</td>\n",
       "      <td>0</td>\n",
       "      <td>0</td>\n",
       "      <td>1</td>\n",
       "      <td>0</td>\n",
       "      <td>0</td>\n",
       "      <td>0</td>\n",
       "      <td>1</td>\n",
       "      <td>0</td>\n",
       "    </tr>\n",
       "  </tbody>\n",
       "</table>\n",
       "</div>"
      ],
      "text/plain": [
       "   latitude  longitude  minimum_nights  number_of_reviews  reviews_per_month  \\\n",
       "0  40.72006  -73.99579               6                 18               0.21   \n",
       "1  40.68048  -73.99322               4                  8               0.24   \n",
       "2  40.75933  -73.98751              29                  0               0.00   \n",
       "3  40.67886  -73.96802               1                  2               0.04   \n",
       "4  40.72087  -73.98079               1                  2               0.15   \n",
       "\n",
       "   calculated_host_listings_count  availability_365  \\\n",
       "0                               1                 0   \n",
       "1                               1                 0   \n",
       "2                             327               336   \n",
       "3                               1                 0   \n",
       "4                               1                 0   \n",
       "\n",
       "   neighbourhood_group_bronx  neighbourhood_group_brooklyn  \\\n",
       "0                          0                             0   \n",
       "1                          0                             1   \n",
       "2                          0                             0   \n",
       "3                          0                             1   \n",
       "4                          0                             0   \n",
       "\n",
       "   neighbourhood_group_manhattan  neighbourhood_group_queens  \\\n",
       "0                              1                           0   \n",
       "1                              0                           0   \n",
       "2                              1                           0   \n",
       "3                              0                           0   \n",
       "4                              1                           0   \n",
       "\n",
       "   neighbourhood_group_staten_island  room_type_entire_home/apt  \\\n",
       "0                                  0                          0   \n",
       "1                                  0                          1   \n",
       "2                                  0                          1   \n",
       "3                                  0                          1   \n",
       "4                                  0                          0   \n",
       "\n",
       "   room_type_private_room  room_type_shared_room  \n",
       "0                       1                      0  \n",
       "1                       0                      0  \n",
       "2                       0                      0  \n",
       "3                       0                      0  \n",
       "4                       1                      0  "
      ]
     },
     "execution_count": 61,
     "metadata": {},
     "output_type": "execute_result"
    }
   ],
   "source": [
    "X_train = pd.get_dummies(x_train , cat_list)\n",
    "X_val = pd.get_dummies(x_val , cat_list)\n",
    "X_test = pd.get_dummies(x_test , cat_list)\n",
    "X_train.head()"
   ]
  },
  {
   "cell_type": "code",
   "execution_count": 63,
   "metadata": {},
   "outputs": [
    {
     "data": {
      "text/plain": [
       "latitude                             float64\n",
       "longitude                            float64\n",
       "minimum_nights                         int64\n",
       "number_of_reviews                      int64\n",
       "reviews_per_month                    float64\n",
       "calculated_host_listings_count         int64\n",
       "availability_365                       int64\n",
       "neighbourhood_group_bronx              uint8\n",
       "neighbourhood_group_brooklyn           uint8\n",
       "neighbourhood_group_manhattan          uint8\n",
       "neighbourhood_group_queens             uint8\n",
       "neighbourhood_group_staten_island      uint8\n",
       "room_type_entire_home/apt              uint8\n",
       "room_type_private_room                 uint8\n",
       "room_type_shared_room                  uint8\n",
       "dtype: object"
      ]
     },
     "execution_count": 63,
     "metadata": {},
     "output_type": "execute_result"
    }
   ],
   "source": [
    "X_train.dtypes"
   ]
  },
  {
   "cell_type": "code",
   "execution_count": 62,
   "metadata": {},
   "outputs": [],
   "source": [
    "from sklearn.preprocessing import LabelEncoder\n",
    "le = LabelEncoder()\n",
    "y_train_enc = le.fit_transform(y_train_bin)\n",
    "y_val_enc = le.fit_transform(y_val_bin)\n",
    "y_test_enc = le.fit_transform(y_test_bin)"
   ]
  },
  {
   "cell_type": "code",
   "execution_count": 139,
   "metadata": {
    "execution": {
     "iopub.execute_input": "2021-09-26T06:11:18.173049Z",
     "iopub.status.busy": "2021-09-26T06:11:18.171864Z",
     "iopub.status.idle": "2021-09-26T06:11:18.866624Z",
     "shell.execute_reply": "2021-09-26T06:11:18.866008Z",
     "shell.execute_reply.started": "2021-09-26T06:11:18.173009Z"
    }
   },
   "outputs": [],
   "source": [
    "# from sklearn.feature_extraction import DictVectorizer\n",
    "\n",
    "# dv = DictVectorizer(sparse=False)\n",
    "\n",
    "# train_dict = x_train.to_dict(orient='records')\n",
    "# X_train = dv.fit_transform(train_dict)\n",
    "\n",
    "# val_dict = x_val.to_dict(orient='records')\n",
    "# X_val = dv.transform(val_dict)\n",
    "\n",
    "# test_dict = x_test.to_dict(orient='records')\n",
    "# X_test = dv.transform(val_dict)\n"
   ]
  },
  {
   "cell_type": "code",
   "execution_count": 140,
   "metadata": {
    "execution": {
     "iopub.execute_input": "2021-09-26T06:11:21.375337Z",
     "iopub.status.busy": "2021-09-26T06:11:21.374916Z",
     "iopub.status.idle": "2021-09-26T06:11:21.378900Z",
     "shell.execute_reply": "2021-09-26T06:11:21.378185Z",
     "shell.execute_reply.started": "2021-09-26T06:11:21.375308Z"
    }
   },
   "outputs": [],
   "source": [
    "from sklearn.linear_model import LogisticRegression"
   ]
  },
  {
   "cell_type": "code",
   "execution_count": 142,
   "metadata": {
    "execution": {
     "iopub.execute_input": "2021-09-26T06:25:13.267713Z",
     "iopub.status.busy": "2021-09-26T06:25:13.267340Z",
     "iopub.status.idle": "2021-09-26T06:25:13.273455Z",
     "shell.execute_reply": "2021-09-26T06:25:13.272149Z",
     "shell.execute_reply.started": "2021-09-26T06:25:13.267677Z"
    }
   },
   "outputs": [
    {
     "data": {
      "text/plain": [
       "0.7863789753553533"
      ]
     },
     "execution_count": 142,
     "metadata": {},
     "output_type": "execute_result"
    }
   ],
   "source": [
    "model = LogisticRegression(solver='lbfgs', C=1.0, random_state=42 , max_iter = 1500) # lbfgs or liblinear\n",
    "model.fit(X_train, y_train_enc)\n",
    "accuracy = (y_val_enc == model.predict(X_val)).mean()\n",
    "accuracy"
   ]
  },
  {
   "cell_type": "code",
   "execution_count": 143,
   "metadata": {},
   "outputs": [],
   "source": [
    "accuracy_w_feature_drop = {}\n",
    "for i in x_train.columns:\n",
    "    dummy_list = list(set(cat_list) - set([i]))\n",
    "    X_train = pd.get_dummies(x_train.drop([i], axis=1) , dummy_list)\n",
    "    X_val = pd.get_dummies(x_val.drop([i], axis=1) , dummy_list)\n",
    "    model = LogisticRegression(solver='lbfgs', C=1.0, random_state=42 , max_iter = 1500)\n",
    "    model.fit(X_train, y_train_enc)\n",
    "    accuracy_w_feature_drop[i] = (y_val_enc == model.predict(X_val)).mean()"
   ]
  },
  {
   "cell_type": "code",
   "execution_count": 144,
   "metadata": {},
   "outputs": [
    {
     "data": {
      "text/plain": [
       "{'neighbourhood_group': 0.7507925145720421,\n",
       " 'room_type': 0.7380100214745884,\n",
       " 'latitude': 0.7863789753553533,\n",
       " 'longitude': 0.7862767154105736,\n",
       " 'minimum_nights': 0.7880151344718274,\n",
       " 'number_of_reviews': 0.7857654156866756,\n",
       " 'reviews_per_month': 0.7856631557418959,\n",
       " 'calculated_host_listings_count': 0.7866857551896922,\n",
       " 'availability_365': 0.7789139993864403}"
      ]
     },
     "execution_count": 144,
     "metadata": {},
     "output_type": "execute_result"
    }
   ],
   "source": [
    "accuracy_w_feature_drop"
   ]
  },
  {
   "cell_type": "code",
   "execution_count": 145,
   "metadata": {},
   "outputs": [
    {
     "data": {
      "text/plain": [
       "{'neighbourhood_group': 0.03558646078331118,\n",
       " 'room_type': 0.0483689538807649,\n",
       " 'latitude': 0.0,\n",
       " 'longitude': 0.00010225994477963685,\n",
       " 'minimum_nights': -0.0016361591164740785,\n",
       " 'number_of_reviews': 0.0006135596686777101,\n",
       " 'reviews_per_month': 0.0007158196134573469,\n",
       " 'calculated_host_listings_count': -0.00030677983433891054,\n",
       " 'availability_365': 0.007464975968912935}"
      ]
     },
     "execution_count": 145,
     "metadata": {},
     "output_type": "execute_result"
    }
   ],
   "source": [
    "accuracy_drop_w_feature_drop = {k : accuracy - v for k , v in accuracy_w_feature_drop.items()}\n",
    "accuracy_drop_w_feature_drop"
   ]
  },
  {
   "cell_type": "code",
   "execution_count": 146,
   "metadata": {},
   "outputs": [
    {
     "data": {
      "text/plain": [
       "'minimum_nights'"
      ]
     },
     "execution_count": 146,
     "metadata": {},
     "output_type": "execute_result"
    }
   ],
   "source": [
    "min(accuracy_drop_w_feature_drop , key=accuracy_drop_w_feature_drop.get)"
   ]
  },
  {
   "cell_type": "code",
   "execution_count": 147,
   "metadata": {},
   "outputs": [],
   "source": [
    "y_train_t = np.log1p(y_train)\n",
    "y_val_t = np.log1p(y_val)\n",
    "y_test_t = np.log1p(y_test)"
   ]
  },
  {
   "cell_type": "code",
   "execution_count": 148,
   "metadata": {},
   "outputs": [],
   "source": [
    "from sklearn.linear_model import Ridge\n",
    "from sklearn.metrics import mean_squared_error\n"
   ]
  },
  {
   "cell_type": "code",
   "execution_count": 152,
   "metadata": {},
   "outputs": [
    {
     "name": "stderr",
     "output_type": "stream",
     "text": [
      "/home/brady/miniconda3/lib/python3.9/site-packages/sklearn/linear_model/_ridge.py:147: LinAlgWarning: Ill-conditioned matrix (rcond=2.85159e-21): result may not be accurate.\n",
      "  return linalg.solve(A, Xy, sym_pos=True,\n"
     ]
    }
   ],
   "source": [
    "alphas = [0, 0.01, 0.1, 1, 10]\n",
    "RMSEs = {}\n",
    "for a in alphas:\n",
    "    \n",
    "    rr = Ridge(alpha=a ,  max_iter = 1500)\n",
    "    rr.fit(X_train, y_train_t) \n",
    "    RMSEs[a] = round( np.sqrt(mean_squared_error( np.expm1(y_val_t) , np.expm1(rr.predict(X_val)))) ,3)"
   ]
  },
  {
   "cell_type": "code",
   "execution_count": 153,
   "metadata": {},
   "outputs": [
    {
     "data": {
      "text/plain": [
       "{0: 197.052, 0.01: 197.052, 0.1: 197.054, 1: 197.071, 10: 197.217}"
      ]
     },
     "execution_count": 153,
     "metadata": {},
     "output_type": "execute_result"
    }
   ],
   "source": [
    "RMSEs"
   ]
  },
  {
   "cell_type": "code",
   "execution_count": null,
   "metadata": {},
   "outputs": [],
   "source": []
  },
  {
   "cell_type": "code",
   "execution_count": 74,
   "metadata": {},
   "outputs": [],
   "source": [
    "import re\n",
    "def one_hot_encode_df(df):\n",
    "\n",
    "    cat_list = list(df.select_dtypes(include=['object','string','category']).columns)\n",
    "\n",
    "    for cat in cat_list:\n",
    "    \n",
    "        cat_val_dict = {key : value for key, value in enumerate(df[cat].unique())}\n",
    "    \n",
    "        for i, cat_val in cat_val_dict.items():\n",
    "            header = re.sub( r\"\\s+\", '_', cat.strip().lower()) + '_' + re.sub( r\"\\s+\", '_', cat_val.strip().lower())\n",
    "            df[header] = np.where(df[cat] == cat_val, 1, 0).astype('uint8')\n",
    "        \n",
    "        df.drop(columns=[cat] , inplace=True)\n",
    "    \n",
    "    return df"
   ]
  },
  {
   "cell_type": "code",
   "execution_count": 75,
   "metadata": {},
   "outputs": [],
   "source": [
    "df_ohe = one_hot_encode_df(df)"
   ]
  },
  {
   "cell_type": "code",
   "execution_count": 77,
   "metadata": {},
   "outputs": [
    {
     "data": {
      "text/html": [
       "<div>\n",
       "<style scoped>\n",
       "    .dataframe tbody tr th:only-of-type {\n",
       "        vertical-align: middle;\n",
       "    }\n",
       "\n",
       "    .dataframe tbody tr th {\n",
       "        vertical-align: top;\n",
       "    }\n",
       "\n",
       "    .dataframe thead th {\n",
       "        text-align: right;\n",
       "    }\n",
       "</style>\n",
       "<table border=\"1\" class=\"dataframe\">\n",
       "  <thead>\n",
       "    <tr style=\"text-align: right;\">\n",
       "      <th></th>\n",
       "      <th>latitude</th>\n",
       "      <th>longitude</th>\n",
       "      <th>price</th>\n",
       "      <th>minimum_nights</th>\n",
       "      <th>number_of_reviews</th>\n",
       "      <th>reviews_per_month</th>\n",
       "      <th>calculated_host_listings_count</th>\n",
       "      <th>availability_365</th>\n",
       "      <th>neighbourhood_group_brooklyn</th>\n",
       "      <th>neighbourhood_group_manhattan</th>\n",
       "      <th>neighbourhood_group_queens</th>\n",
       "      <th>neighbourhood_group_staten-island</th>\n",
       "      <th>neighbourhood_group_bronx</th>\n",
       "      <th>room_type_private-room</th>\n",
       "      <th>room_type_entire-home/apt</th>\n",
       "      <th>room_type_shared-room</th>\n",
       "    </tr>\n",
       "  </thead>\n",
       "  <tbody>\n",
       "    <tr>\n",
       "      <th>0</th>\n",
       "      <td>40.64749</td>\n",
       "      <td>-73.97237</td>\n",
       "      <td>149</td>\n",
       "      <td>1</td>\n",
       "      <td>9</td>\n",
       "      <td>0.21</td>\n",
       "      <td>6</td>\n",
       "      <td>365</td>\n",
       "      <td>1</td>\n",
       "      <td>0</td>\n",
       "      <td>0</td>\n",
       "      <td>0</td>\n",
       "      <td>0</td>\n",
       "      <td>1</td>\n",
       "      <td>0</td>\n",
       "      <td>0</td>\n",
       "    </tr>\n",
       "    <tr>\n",
       "      <th>1</th>\n",
       "      <td>40.75362</td>\n",
       "      <td>-73.98377</td>\n",
       "      <td>225</td>\n",
       "      <td>1</td>\n",
       "      <td>45</td>\n",
       "      <td>0.38</td>\n",
       "      <td>2</td>\n",
       "      <td>355</td>\n",
       "      <td>0</td>\n",
       "      <td>1</td>\n",
       "      <td>0</td>\n",
       "      <td>0</td>\n",
       "      <td>0</td>\n",
       "      <td>0</td>\n",
       "      <td>1</td>\n",
       "      <td>0</td>\n",
       "    </tr>\n",
       "    <tr>\n",
       "      <th>2</th>\n",
       "      <td>40.80902</td>\n",
       "      <td>-73.94190</td>\n",
       "      <td>150</td>\n",
       "      <td>3</td>\n",
       "      <td>0</td>\n",
       "      <td>NaN</td>\n",
       "      <td>1</td>\n",
       "      <td>365</td>\n",
       "      <td>0</td>\n",
       "      <td>1</td>\n",
       "      <td>0</td>\n",
       "      <td>0</td>\n",
       "      <td>0</td>\n",
       "      <td>1</td>\n",
       "      <td>0</td>\n",
       "      <td>0</td>\n",
       "    </tr>\n",
       "    <tr>\n",
       "      <th>3</th>\n",
       "      <td>40.68514</td>\n",
       "      <td>-73.95976</td>\n",
       "      <td>89</td>\n",
       "      <td>1</td>\n",
       "      <td>270</td>\n",
       "      <td>4.64</td>\n",
       "      <td>1</td>\n",
       "      <td>194</td>\n",
       "      <td>1</td>\n",
       "      <td>0</td>\n",
       "      <td>0</td>\n",
       "      <td>0</td>\n",
       "      <td>0</td>\n",
       "      <td>0</td>\n",
       "      <td>1</td>\n",
       "      <td>0</td>\n",
       "    </tr>\n",
       "    <tr>\n",
       "      <th>4</th>\n",
       "      <td>40.79851</td>\n",
       "      <td>-73.94399</td>\n",
       "      <td>80</td>\n",
       "      <td>10</td>\n",
       "      <td>9</td>\n",
       "      <td>0.10</td>\n",
       "      <td>1</td>\n",
       "      <td>0</td>\n",
       "      <td>0</td>\n",
       "      <td>1</td>\n",
       "      <td>0</td>\n",
       "      <td>0</td>\n",
       "      <td>0</td>\n",
       "      <td>0</td>\n",
       "      <td>1</td>\n",
       "      <td>0</td>\n",
       "    </tr>\n",
       "    <tr>\n",
       "      <th>...</th>\n",
       "      <td>...</td>\n",
       "      <td>...</td>\n",
       "      <td>...</td>\n",
       "      <td>...</td>\n",
       "      <td>...</td>\n",
       "      <td>...</td>\n",
       "      <td>...</td>\n",
       "      <td>...</td>\n",
       "      <td>...</td>\n",
       "      <td>...</td>\n",
       "      <td>...</td>\n",
       "      <td>...</td>\n",
       "      <td>...</td>\n",
       "      <td>...</td>\n",
       "      <td>...</td>\n",
       "      <td>...</td>\n",
       "    </tr>\n",
       "    <tr>\n",
       "      <th>48890</th>\n",
       "      <td>40.67853</td>\n",
       "      <td>-73.94995</td>\n",
       "      <td>70</td>\n",
       "      <td>2</td>\n",
       "      <td>0</td>\n",
       "      <td>NaN</td>\n",
       "      <td>2</td>\n",
       "      <td>9</td>\n",
       "      <td>1</td>\n",
       "      <td>0</td>\n",
       "      <td>0</td>\n",
       "      <td>0</td>\n",
       "      <td>0</td>\n",
       "      <td>1</td>\n",
       "      <td>0</td>\n",
       "      <td>0</td>\n",
       "    </tr>\n",
       "    <tr>\n",
       "      <th>48891</th>\n",
       "      <td>40.70184</td>\n",
       "      <td>-73.93317</td>\n",
       "      <td>40</td>\n",
       "      <td>4</td>\n",
       "      <td>0</td>\n",
       "      <td>NaN</td>\n",
       "      <td>2</td>\n",
       "      <td>36</td>\n",
       "      <td>1</td>\n",
       "      <td>0</td>\n",
       "      <td>0</td>\n",
       "      <td>0</td>\n",
       "      <td>0</td>\n",
       "      <td>1</td>\n",
       "      <td>0</td>\n",
       "      <td>0</td>\n",
       "    </tr>\n",
       "    <tr>\n",
       "      <th>48892</th>\n",
       "      <td>40.81475</td>\n",
       "      <td>-73.94867</td>\n",
       "      <td>115</td>\n",
       "      <td>10</td>\n",
       "      <td>0</td>\n",
       "      <td>NaN</td>\n",
       "      <td>1</td>\n",
       "      <td>27</td>\n",
       "      <td>0</td>\n",
       "      <td>1</td>\n",
       "      <td>0</td>\n",
       "      <td>0</td>\n",
       "      <td>0</td>\n",
       "      <td>0</td>\n",
       "      <td>1</td>\n",
       "      <td>0</td>\n",
       "    </tr>\n",
       "    <tr>\n",
       "      <th>48893</th>\n",
       "      <td>40.75751</td>\n",
       "      <td>-73.99112</td>\n",
       "      <td>55</td>\n",
       "      <td>1</td>\n",
       "      <td>0</td>\n",
       "      <td>NaN</td>\n",
       "      <td>6</td>\n",
       "      <td>2</td>\n",
       "      <td>0</td>\n",
       "      <td>1</td>\n",
       "      <td>0</td>\n",
       "      <td>0</td>\n",
       "      <td>0</td>\n",
       "      <td>0</td>\n",
       "      <td>0</td>\n",
       "      <td>1</td>\n",
       "    </tr>\n",
       "    <tr>\n",
       "      <th>48894</th>\n",
       "      <td>40.76404</td>\n",
       "      <td>-73.98933</td>\n",
       "      <td>90</td>\n",
       "      <td>7</td>\n",
       "      <td>0</td>\n",
       "      <td>NaN</td>\n",
       "      <td>1</td>\n",
       "      <td>23</td>\n",
       "      <td>0</td>\n",
       "      <td>1</td>\n",
       "      <td>0</td>\n",
       "      <td>0</td>\n",
       "      <td>0</td>\n",
       "      <td>1</td>\n",
       "      <td>0</td>\n",
       "      <td>0</td>\n",
       "    </tr>\n",
       "  </tbody>\n",
       "</table>\n",
       "<p>48895 rows × 16 columns</p>\n",
       "</div>"
      ],
      "text/plain": [
       "       latitude  longitude  price  minimum_nights  number_of_reviews  \\\n",
       "0      40.64749  -73.97237    149               1                  9   \n",
       "1      40.75362  -73.98377    225               1                 45   \n",
       "2      40.80902  -73.94190    150               3                  0   \n",
       "3      40.68514  -73.95976     89               1                270   \n",
       "4      40.79851  -73.94399     80              10                  9   \n",
       "...         ...        ...    ...             ...                ...   \n",
       "48890  40.67853  -73.94995     70               2                  0   \n",
       "48891  40.70184  -73.93317     40               4                  0   \n",
       "48892  40.81475  -73.94867    115              10                  0   \n",
       "48893  40.75751  -73.99112     55               1                  0   \n",
       "48894  40.76404  -73.98933     90               7                  0   \n",
       "\n",
       "       reviews_per_month  calculated_host_listings_count  availability_365  \\\n",
       "0                   0.21                               6               365   \n",
       "1                   0.38                               2               355   \n",
       "2                    NaN                               1               365   \n",
       "3                   4.64                               1               194   \n",
       "4                   0.10                               1                 0   \n",
       "...                  ...                             ...               ...   \n",
       "48890                NaN                               2                 9   \n",
       "48891                NaN                               2                36   \n",
       "48892                NaN                               1                27   \n",
       "48893                NaN                               6                 2   \n",
       "48894                NaN                               1                23   \n",
       "\n",
       "       neighbourhood_group_brooklyn  neighbourhood_group_manhattan  \\\n",
       "0                                 1                              0   \n",
       "1                                 0                              1   \n",
       "2                                 0                              1   \n",
       "3                                 1                              0   \n",
       "4                                 0                              1   \n",
       "...                             ...                            ...   \n",
       "48890                             1                              0   \n",
       "48891                             1                              0   \n",
       "48892                             0                              1   \n",
       "48893                             0                              1   \n",
       "48894                             0                              1   \n",
       "\n",
       "       neighbourhood_group_queens  neighbourhood_group_staten-island  \\\n",
       "0                               0                                  0   \n",
       "1                               0                                  0   \n",
       "2                               0                                  0   \n",
       "3                               0                                  0   \n",
       "4                               0                                  0   \n",
       "...                           ...                                ...   \n",
       "48890                           0                                  0   \n",
       "48891                           0                                  0   \n",
       "48892                           0                                  0   \n",
       "48893                           0                                  0   \n",
       "48894                           0                                  0   \n",
       "\n",
       "       neighbourhood_group_bronx  room_type_private-room  \\\n",
       "0                              0                       1   \n",
       "1                              0                       0   \n",
       "2                              0                       1   \n",
       "3                              0                       0   \n",
       "4                              0                       0   \n",
       "...                          ...                     ...   \n",
       "48890                          0                       1   \n",
       "48891                          0                       1   \n",
       "48892                          0                       0   \n",
       "48893                          0                       0   \n",
       "48894                          0                       1   \n",
       "\n",
       "       room_type_entire-home/apt  room_type_shared-room  \n",
       "0                              0                      0  \n",
       "1                              1                      0  \n",
       "2                              0                      0  \n",
       "3                              1                      0  \n",
       "4                              1                      0  \n",
       "...                          ...                    ...  \n",
       "48890                          0                      0  \n",
       "48891                          0                      0  \n",
       "48892                          1                      0  \n",
       "48893                          0                      1  \n",
       "48894                          0                      0  \n",
       "\n",
       "[48895 rows x 16 columns]"
      ]
     },
     "execution_count": 77,
     "metadata": {},
     "output_type": "execute_result"
    }
   ],
   "source": [
    "df_ohe"
   ]
  },
  {
   "cell_type": "code",
   "execution_count": null,
   "metadata": {},
   "outputs": [],
   "source": []
  }
 ],
 "metadata": {
  "kernelspec": {
   "display_name": "Python 3 (ipykernel)",
   "language": "python",
   "name": "python3"
  },
  "language_info": {
   "codemirror_mode": {
    "name": "ipython",
    "version": 3
   },
   "file_extension": ".py",
   "mimetype": "text/x-python",
   "name": "python",
   "nbconvert_exporter": "python",
   "pygments_lexer": "ipython3",
   "version": "3.9.5"
  }
 },
 "nbformat": 4,
 "nbformat_minor": 4
}
