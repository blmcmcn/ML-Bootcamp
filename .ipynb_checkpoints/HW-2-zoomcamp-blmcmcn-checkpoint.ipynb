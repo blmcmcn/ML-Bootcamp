{
 "cells": [
  {
   "cell_type": "code",
   "execution_count": 19,
   "metadata": {
    "_cell_guid": "b1076dfc-b9ad-4769-8c92-a6c4dae69d19",
    "_uuid": "8f2839f25d086af736a60e9eeb907d3b93b6e0e5",
    "execution": {
     "iopub.execute_input": "2021-09-18T03:41:27.448574Z",
     "iopub.status.busy": "2021-09-18T03:41:27.448237Z",
     "iopub.status.idle": "2021-09-18T03:41:27.453312Z",
     "shell.execute_reply": "2021-09-18T03:41:27.452287Z",
     "shell.execute_reply.started": "2021-09-18T03:41:27.448544Z"
    }
   },
   "outputs": [],
   "source": [
    "import numpy as np # linear algebra\n",
    "import pandas as pd # data processing, CSV file I/O (e.g. pd.read_csv)\n",
    "import seaborn as sns"
   ]
  },
  {
   "cell_type": "code",
   "execution_count": 20,
   "metadata": {
    "execution": {
     "iopub.execute_input": "2021-09-18T03:41:28.141318Z",
     "iopub.status.busy": "2021-09-18T03:41:28.141010Z",
     "iopub.status.idle": "2021-09-18T03:41:28.373327Z",
     "shell.execute_reply": "2021-09-18T03:41:28.372333Z",
     "shell.execute_reply.started": "2021-09-18T03:41:28.141290Z"
    }
   },
   "outputs": [
    {
     "data": {
      "text/html": [
       "<div>\n",
       "<style scoped>\n",
       "    .dataframe tbody tr th:only-of-type {\n",
       "        vertical-align: middle;\n",
       "    }\n",
       "\n",
       "    .dataframe tbody tr th {\n",
       "        vertical-align: top;\n",
       "    }\n",
       "\n",
       "    .dataframe thead th {\n",
       "        text-align: right;\n",
       "    }\n",
       "</style>\n",
       "<table border=\"1\" class=\"dataframe\">\n",
       "  <thead>\n",
       "    <tr style=\"text-align: right;\">\n",
       "      <th></th>\n",
       "      <th>id</th>\n",
       "      <th>name</th>\n",
       "      <th>host_id</th>\n",
       "      <th>host_name</th>\n",
       "      <th>neighbourhood_group</th>\n",
       "      <th>neighbourhood</th>\n",
       "      <th>latitude</th>\n",
       "      <th>longitude</th>\n",
       "      <th>room_type</th>\n",
       "      <th>price</th>\n",
       "      <th>minimum_nights</th>\n",
       "      <th>number_of_reviews</th>\n",
       "      <th>last_review</th>\n",
       "      <th>reviews_per_month</th>\n",
       "      <th>calculated_host_listings_count</th>\n",
       "      <th>availability_365</th>\n",
       "    </tr>\n",
       "  </thead>\n",
       "  <tbody>\n",
       "    <tr>\n",
       "      <th>0</th>\n",
       "      <td>2539</td>\n",
       "      <td>Clean &amp; quiet apt home by the park</td>\n",
       "      <td>2787</td>\n",
       "      <td>John</td>\n",
       "      <td>Brooklyn</td>\n",
       "      <td>Kensington</td>\n",
       "      <td>40.64749</td>\n",
       "      <td>-73.97237</td>\n",
       "      <td>Private room</td>\n",
       "      <td>149</td>\n",
       "      <td>1</td>\n",
       "      <td>9</td>\n",
       "      <td>2018-10-19</td>\n",
       "      <td>0.21</td>\n",
       "      <td>6</td>\n",
       "      <td>365</td>\n",
       "    </tr>\n",
       "    <tr>\n",
       "      <th>1</th>\n",
       "      <td>2595</td>\n",
       "      <td>Skylit Midtown Castle</td>\n",
       "      <td>2845</td>\n",
       "      <td>Jennifer</td>\n",
       "      <td>Manhattan</td>\n",
       "      <td>Midtown</td>\n",
       "      <td>40.75362</td>\n",
       "      <td>-73.98377</td>\n",
       "      <td>Entire home/apt</td>\n",
       "      <td>225</td>\n",
       "      <td>1</td>\n",
       "      <td>45</td>\n",
       "      <td>2019-05-21</td>\n",
       "      <td>0.38</td>\n",
       "      <td>2</td>\n",
       "      <td>355</td>\n",
       "    </tr>\n",
       "    <tr>\n",
       "      <th>2</th>\n",
       "      <td>3647</td>\n",
       "      <td>THE VILLAGE OF HARLEM....NEW YORK !</td>\n",
       "      <td>4632</td>\n",
       "      <td>Elisabeth</td>\n",
       "      <td>Manhattan</td>\n",
       "      <td>Harlem</td>\n",
       "      <td>40.80902</td>\n",
       "      <td>-73.94190</td>\n",
       "      <td>Private room</td>\n",
       "      <td>150</td>\n",
       "      <td>3</td>\n",
       "      <td>0</td>\n",
       "      <td>NaN</td>\n",
       "      <td>NaN</td>\n",
       "      <td>1</td>\n",
       "      <td>365</td>\n",
       "    </tr>\n",
       "    <tr>\n",
       "      <th>3</th>\n",
       "      <td>3831</td>\n",
       "      <td>Cozy Entire Floor of Brownstone</td>\n",
       "      <td>4869</td>\n",
       "      <td>LisaRoxanne</td>\n",
       "      <td>Brooklyn</td>\n",
       "      <td>Clinton Hill</td>\n",
       "      <td>40.68514</td>\n",
       "      <td>-73.95976</td>\n",
       "      <td>Entire home/apt</td>\n",
       "      <td>89</td>\n",
       "      <td>1</td>\n",
       "      <td>270</td>\n",
       "      <td>2019-07-05</td>\n",
       "      <td>4.64</td>\n",
       "      <td>1</td>\n",
       "      <td>194</td>\n",
       "    </tr>\n",
       "    <tr>\n",
       "      <th>4</th>\n",
       "      <td>5022</td>\n",
       "      <td>Entire Apt: Spacious Studio/Loft by central park</td>\n",
       "      <td>7192</td>\n",
       "      <td>Laura</td>\n",
       "      <td>Manhattan</td>\n",
       "      <td>East Harlem</td>\n",
       "      <td>40.79851</td>\n",
       "      <td>-73.94399</td>\n",
       "      <td>Entire home/apt</td>\n",
       "      <td>80</td>\n",
       "      <td>10</td>\n",
       "      <td>9</td>\n",
       "      <td>2018-11-19</td>\n",
       "      <td>0.10</td>\n",
       "      <td>1</td>\n",
       "      <td>0</td>\n",
       "    </tr>\n",
       "  </tbody>\n",
       "</table>\n",
       "</div>"
      ],
      "text/plain": [
       "     id                                              name  host_id  \\\n",
       "0  2539                Clean & quiet apt home by the park     2787   \n",
       "1  2595                             Skylit Midtown Castle     2845   \n",
       "2  3647               THE VILLAGE OF HARLEM....NEW YORK !     4632   \n",
       "3  3831                   Cozy Entire Floor of Brownstone     4869   \n",
       "4  5022  Entire Apt: Spacious Studio/Loft by central park     7192   \n",
       "\n",
       "     host_name neighbourhood_group neighbourhood  latitude  longitude  \\\n",
       "0         John            Brooklyn    Kensington  40.64749  -73.97237   \n",
       "1     Jennifer           Manhattan       Midtown  40.75362  -73.98377   \n",
       "2    Elisabeth           Manhattan        Harlem  40.80902  -73.94190   \n",
       "3  LisaRoxanne            Brooklyn  Clinton Hill  40.68514  -73.95976   \n",
       "4        Laura           Manhattan   East Harlem  40.79851  -73.94399   \n",
       "\n",
       "         room_type  price  minimum_nights  number_of_reviews last_review  \\\n",
       "0     Private room    149               1                  9  2018-10-19   \n",
       "1  Entire home/apt    225               1                 45  2019-05-21   \n",
       "2     Private room    150               3                  0         NaN   \n",
       "3  Entire home/apt     89               1                270  2019-07-05   \n",
       "4  Entire home/apt     80              10                  9  2018-11-19   \n",
       "\n",
       "   reviews_per_month  calculated_host_listings_count  availability_365  \n",
       "0               0.21                               6               365  \n",
       "1               0.38                               2               355  \n",
       "2                NaN                               1               365  \n",
       "3               4.64                               1               194  \n",
       "4               0.10                               1                 0  "
      ]
     },
     "execution_count": 20,
     "metadata": {},
     "output_type": "execute_result"
    }
   ],
   "source": [
    "df = pd.read_csv(\"../input/new-york-city-airbnb-open-data/AB_NYC_2019.csv\")\n",
    "df.head()"
   ]
  },
  {
   "cell_type": "code",
   "execution_count": 21,
   "metadata": {
    "execution": {
     "iopub.execute_input": "2021-09-18T03:41:28.660311Z",
     "iopub.status.busy": "2021-09-18T03:41:28.659281Z",
     "iopub.status.idle": "2021-09-18T03:41:28.675362Z",
     "shell.execute_reply": "2021-09-18T03:41:28.674776Z",
     "shell.execute_reply.started": "2021-09-18T03:41:28.660270Z"
    }
   },
   "outputs": [
    {
     "data": {
      "text/html": [
       "<div>\n",
       "<style scoped>\n",
       "    .dataframe tbody tr th:only-of-type {\n",
       "        vertical-align: middle;\n",
       "    }\n",
       "\n",
       "    .dataframe tbody tr th {\n",
       "        vertical-align: top;\n",
       "    }\n",
       "\n",
       "    .dataframe thead th {\n",
       "        text-align: right;\n",
       "    }\n",
       "</style>\n",
       "<table border=\"1\" class=\"dataframe\">\n",
       "  <thead>\n",
       "    <tr style=\"text-align: right;\">\n",
       "      <th></th>\n",
       "      <th>latitude</th>\n",
       "      <th>longitude</th>\n",
       "      <th>price</th>\n",
       "      <th>minimum_nights</th>\n",
       "      <th>number_of_reviews</th>\n",
       "      <th>reviews_per_month</th>\n",
       "      <th>calculated_host_listings_count</th>\n",
       "      <th>availability_365</th>\n",
       "    </tr>\n",
       "  </thead>\n",
       "  <tbody>\n",
       "    <tr>\n",
       "      <th>0</th>\n",
       "      <td>40.64749</td>\n",
       "      <td>-73.97237</td>\n",
       "      <td>149</td>\n",
       "      <td>1</td>\n",
       "      <td>9</td>\n",
       "      <td>0.21</td>\n",
       "      <td>6</td>\n",
       "      <td>365</td>\n",
       "    </tr>\n",
       "    <tr>\n",
       "      <th>1</th>\n",
       "      <td>40.75362</td>\n",
       "      <td>-73.98377</td>\n",
       "      <td>225</td>\n",
       "      <td>1</td>\n",
       "      <td>45</td>\n",
       "      <td>0.38</td>\n",
       "      <td>2</td>\n",
       "      <td>355</td>\n",
       "    </tr>\n",
       "    <tr>\n",
       "      <th>2</th>\n",
       "      <td>40.80902</td>\n",
       "      <td>-73.94190</td>\n",
       "      <td>150</td>\n",
       "      <td>3</td>\n",
       "      <td>0</td>\n",
       "      <td>NaN</td>\n",
       "      <td>1</td>\n",
       "      <td>365</td>\n",
       "    </tr>\n",
       "    <tr>\n",
       "      <th>3</th>\n",
       "      <td>40.68514</td>\n",
       "      <td>-73.95976</td>\n",
       "      <td>89</td>\n",
       "      <td>1</td>\n",
       "      <td>270</td>\n",
       "      <td>4.64</td>\n",
       "      <td>1</td>\n",
       "      <td>194</td>\n",
       "    </tr>\n",
       "    <tr>\n",
       "      <th>4</th>\n",
       "      <td>40.79851</td>\n",
       "      <td>-73.94399</td>\n",
       "      <td>80</td>\n",
       "      <td>10</td>\n",
       "      <td>9</td>\n",
       "      <td>0.10</td>\n",
       "      <td>1</td>\n",
       "      <td>0</td>\n",
       "    </tr>\n",
       "  </tbody>\n",
       "</table>\n",
       "</div>"
      ],
      "text/plain": [
       "   latitude  longitude  price  minimum_nights  number_of_reviews  \\\n",
       "0  40.64749  -73.97237    149               1                  9   \n",
       "1  40.75362  -73.98377    225               1                 45   \n",
       "2  40.80902  -73.94190    150               3                  0   \n",
       "3  40.68514  -73.95976     89               1                270   \n",
       "4  40.79851  -73.94399     80              10                  9   \n",
       "\n",
       "   reviews_per_month  calculated_host_listings_count  availability_365  \n",
       "0               0.21                               6               365  \n",
       "1               0.38                               2               355  \n",
       "2                NaN                               1               365  \n",
       "3               4.64                               1               194  \n",
       "4               0.10                               1                 0  "
      ]
     },
     "execution_count": 21,
     "metadata": {},
     "output_type": "execute_result"
    }
   ],
   "source": [
    "df = df[['latitude', 'longitude', 'price', 'minimum_nights', 'number_of_reviews', 'reviews_per_month'\n",
    "        , 'calculated_host_listings_count', 'availability_365']]\n",
    "df.head()"
   ]
  },
  {
   "cell_type": "code",
   "execution_count": 22,
   "metadata": {
    "execution": {
     "iopub.execute_input": "2021-09-18T03:41:28.991445Z",
     "iopub.status.busy": "2021-09-18T03:41:28.990619Z",
     "iopub.status.idle": "2021-09-18T03:41:29.038787Z",
     "shell.execute_reply": "2021-09-18T03:41:29.038074Z",
     "shell.execute_reply.started": "2021-09-18T03:41:28.991409Z"
    }
   },
   "outputs": [
    {
     "data": {
      "text/html": [
       "<div>\n",
       "<style scoped>\n",
       "    .dataframe tbody tr th:only-of-type {\n",
       "        vertical-align: middle;\n",
       "    }\n",
       "\n",
       "    .dataframe tbody tr th {\n",
       "        vertical-align: top;\n",
       "    }\n",
       "\n",
       "    .dataframe thead th {\n",
       "        text-align: right;\n",
       "    }\n",
       "</style>\n",
       "<table border=\"1\" class=\"dataframe\">\n",
       "  <thead>\n",
       "    <tr style=\"text-align: right;\">\n",
       "      <th></th>\n",
       "      <th>latitude</th>\n",
       "      <th>longitude</th>\n",
       "      <th>price</th>\n",
       "      <th>minimum_nights</th>\n",
       "      <th>number_of_reviews</th>\n",
       "      <th>reviews_per_month</th>\n",
       "      <th>calculated_host_listings_count</th>\n",
       "      <th>availability_365</th>\n",
       "    </tr>\n",
       "  </thead>\n",
       "  <tbody>\n",
       "    <tr>\n",
       "      <th>count</th>\n",
       "      <td>48895.000000</td>\n",
       "      <td>48895.000000</td>\n",
       "      <td>48895.000000</td>\n",
       "      <td>48895.000000</td>\n",
       "      <td>48895.000000</td>\n",
       "      <td>38843.000000</td>\n",
       "      <td>48895.000000</td>\n",
       "      <td>48895.000000</td>\n",
       "    </tr>\n",
       "    <tr>\n",
       "      <th>mean</th>\n",
       "      <td>40.728949</td>\n",
       "      <td>-73.952170</td>\n",
       "      <td>152.720687</td>\n",
       "      <td>7.029962</td>\n",
       "      <td>23.274466</td>\n",
       "      <td>1.373221</td>\n",
       "      <td>7.143982</td>\n",
       "      <td>112.781327</td>\n",
       "    </tr>\n",
       "    <tr>\n",
       "      <th>std</th>\n",
       "      <td>0.054530</td>\n",
       "      <td>0.046157</td>\n",
       "      <td>240.154170</td>\n",
       "      <td>20.510550</td>\n",
       "      <td>44.550582</td>\n",
       "      <td>1.680442</td>\n",
       "      <td>32.952519</td>\n",
       "      <td>131.622289</td>\n",
       "    </tr>\n",
       "    <tr>\n",
       "      <th>min</th>\n",
       "      <td>40.499790</td>\n",
       "      <td>-74.244420</td>\n",
       "      <td>0.000000</td>\n",
       "      <td>1.000000</td>\n",
       "      <td>0.000000</td>\n",
       "      <td>0.010000</td>\n",
       "      <td>1.000000</td>\n",
       "      <td>0.000000</td>\n",
       "    </tr>\n",
       "    <tr>\n",
       "      <th>25%</th>\n",
       "      <td>40.690100</td>\n",
       "      <td>-73.983070</td>\n",
       "      <td>69.000000</td>\n",
       "      <td>1.000000</td>\n",
       "      <td>1.000000</td>\n",
       "      <td>0.190000</td>\n",
       "      <td>1.000000</td>\n",
       "      <td>0.000000</td>\n",
       "    </tr>\n",
       "    <tr>\n",
       "      <th>50%</th>\n",
       "      <td>40.723070</td>\n",
       "      <td>-73.955680</td>\n",
       "      <td>106.000000</td>\n",
       "      <td>3.000000</td>\n",
       "      <td>5.000000</td>\n",
       "      <td>0.720000</td>\n",
       "      <td>1.000000</td>\n",
       "      <td>45.000000</td>\n",
       "    </tr>\n",
       "    <tr>\n",
       "      <th>75%</th>\n",
       "      <td>40.763115</td>\n",
       "      <td>-73.936275</td>\n",
       "      <td>175.000000</td>\n",
       "      <td>5.000000</td>\n",
       "      <td>24.000000</td>\n",
       "      <td>2.020000</td>\n",
       "      <td>2.000000</td>\n",
       "      <td>227.000000</td>\n",
       "    </tr>\n",
       "    <tr>\n",
       "      <th>max</th>\n",
       "      <td>40.913060</td>\n",
       "      <td>-73.712990</td>\n",
       "      <td>10000.000000</td>\n",
       "      <td>1250.000000</td>\n",
       "      <td>629.000000</td>\n",
       "      <td>58.500000</td>\n",
       "      <td>327.000000</td>\n",
       "      <td>365.000000</td>\n",
       "    </tr>\n",
       "  </tbody>\n",
       "</table>\n",
       "</div>"
      ],
      "text/plain": [
       "           latitude     longitude         price  minimum_nights  \\\n",
       "count  48895.000000  48895.000000  48895.000000    48895.000000   \n",
       "mean      40.728949    -73.952170    152.720687        7.029962   \n",
       "std        0.054530      0.046157    240.154170       20.510550   \n",
       "min       40.499790    -74.244420      0.000000        1.000000   \n",
       "25%       40.690100    -73.983070     69.000000        1.000000   \n",
       "50%       40.723070    -73.955680    106.000000        3.000000   \n",
       "75%       40.763115    -73.936275    175.000000        5.000000   \n",
       "max       40.913060    -73.712990  10000.000000     1250.000000   \n",
       "\n",
       "       number_of_reviews  reviews_per_month  calculated_host_listings_count  \\\n",
       "count       48895.000000       38843.000000                    48895.000000   \n",
       "mean           23.274466           1.373221                        7.143982   \n",
       "std            44.550582           1.680442                       32.952519   \n",
       "min             0.000000           0.010000                        1.000000   \n",
       "25%             1.000000           0.190000                        1.000000   \n",
       "50%             5.000000           0.720000                        1.000000   \n",
       "75%            24.000000           2.020000                        2.000000   \n",
       "max           629.000000          58.500000                      327.000000   \n",
       "\n",
       "       availability_365  \n",
       "count      48895.000000  \n",
       "mean         112.781327  \n",
       "std          131.622289  \n",
       "min            0.000000  \n",
       "25%            0.000000  \n",
       "50%           45.000000  \n",
       "75%          227.000000  \n",
       "max          365.000000  "
      ]
     },
     "execution_count": 22,
     "metadata": {},
     "output_type": "execute_result"
    }
   ],
   "source": [
    "df.describe()"
   ]
  },
  {
   "cell_type": "code",
   "execution_count": 23,
   "metadata": {
    "execution": {
     "iopub.execute_input": "2021-09-18T03:41:29.309032Z",
     "iopub.status.busy": "2021-09-18T03:41:29.308690Z",
     "iopub.status.idle": "2021-09-18T03:41:29.671115Z",
     "shell.execute_reply": "2021-09-18T03:41:29.670222Z",
     "shell.execute_reply.started": "2021-09-18T03:41:29.308986Z"
    }
   },
   "outputs": [
    {
     "data": {
      "image/png": "[encoded data removed]",
      "text/plain": [
       "<Figure size 720x576 with 1 Axes>"
      ]
     },
     "metadata": {
      "needs_background": "light"
     },
     "output_type": "display_data"
    }
   ],
   "source": [
    "df.hist(column=\"price\", bins=50, figsize=(10,8));"
   ]
  },
  {
   "cell_type": "code",
   "execution_count": 24,
   "metadata": {
    "execution": {
     "iopub.execute_input": "2021-09-18T03:41:29.673020Z",
     "iopub.status.busy": "2021-09-18T03:41:29.672748Z",
     "iopub.status.idle": "2021-09-18T03:41:30.005689Z",
     "shell.execute_reply": "2021-09-18T03:41:30.004805Z",
     "shell.execute_reply.started": "2021-09-18T03:41:29.672989Z"
    }
   },
   "outputs": [
    {
     "data": {
      "image/png": "[encoded data removed]",
      "text/plain": [
       "<Figure size 720x576 with 1 Axes>"
      ]
     },
     "metadata": {
      "needs_background": "light"
     },
     "output_type": "display_data"
    }
   ],
   "source": [
    "df[df.price>1000].hist(column=\"price\", bins=50, figsize=(10,8));"
   ]
  },
  {
   "cell_type": "code",
   "execution_count": 25,
   "metadata": {
    "execution": {
     "iopub.execute_input": "2021-09-18T03:41:30.029314Z",
     "iopub.status.busy": "2021-09-18T03:41:30.028999Z",
     "iopub.status.idle": "2021-09-18T03:41:30.422352Z",
     "shell.execute_reply": "2021-09-18T03:41:30.421453Z",
     "shell.execute_reply.started": "2021-09-18T03:41:30.029281Z"
    }
   },
   "outputs": [
    {
     "name": "stderr",
     "output_type": "stream",
     "text": [
      "/opt/conda/lib/python3.7/site-packages/pandas/core/arraylike.py:364: RuntimeWarning: divide by zero encountered in log\n",
      "  result = getattr(ufunc, method)(*inputs, **kwargs)\n"
     ]
    },
    {
     "data": {
      "image/png": "[encoded data removed]",
      "text/plain": [
       "<Figure size 432x288 with 1 Axes>"
      ]
     },
     "metadata": {
      "needs_background": "light"
     },
     "output_type": "display_data"
    }
   ],
   "source": [
    "sns.histplot(np.log(df.price), bins=50);"
   ]
  },
  {
   "cell_type": "code",
   "execution_count": 26,
   "metadata": {
    "execution": {
     "iopub.execute_input": "2021-09-18T03:41:30.426245Z",
     "iopub.status.busy": "2021-09-18T03:41:30.425986Z",
     "iopub.status.idle": "2021-09-18T03:41:30.779829Z",
     "shell.execute_reply": "2021-09-18T03:41:30.778825Z",
     "shell.execute_reply.started": "2021-09-18T03:41:30.426215Z"
    }
   },
   "outputs": [
    {
     "data": {
      "image/png": "[encoded data removed]",
      "text/plain": [
       "<Figure size 432x288 with 1 Axes>"
      ]
     },
     "metadata": {
      "needs_background": "light"
     },
     "output_type": "display_data"
    }
   ],
   "source": [
    "sns.histplot(np.log1p(df.price), bins=50);"
   ]
  },
  {
   "cell_type": "code",
   "execution_count": 27,
   "metadata": {
    "execution": {
     "iopub.execute_input": "2021-09-18T03:41:30.785824Z",
     "iopub.status.busy": "2021-09-18T03:41:30.785247Z",
     "iopub.status.idle": "2021-09-18T03:41:30.796414Z",
     "shell.execute_reply": "2021-09-18T03:41:30.795440Z",
     "shell.execute_reply.started": "2021-09-18T03:41:30.785778Z"
    }
   },
   "outputs": [
    {
     "data": {
      "text/plain": [
       "{'latitude': 0,\n",
       " 'longitude': 0,\n",
       " 'price': 0,\n",
       " 'minimum_nights': 0,\n",
       " 'number_of_reviews': 0,\n",
       " 'reviews_per_month': 10052,\n",
       " 'calculated_host_listings_count': 0,\n",
       " 'availability_365': 0}"
      ]
     },
     "execution_count": 27,
     "metadata": {},
     "output_type": "execute_result"
    }
   ],
   "source": [
    "num_nulls = df.isna().astype(int).sum(axis=0).to_dict()\n",
    "num_nulls"
   ]
  },
  {
   "cell_type": "code",
   "execution_count": 28,
   "metadata": {
    "execution": {
     "iopub.execute_input": "2021-09-18T03:41:31.163500Z",
     "iopub.status.busy": "2021-09-18T03:41:31.163157Z",
     "iopub.status.idle": "2021-09-18T03:41:31.169230Z",
     "shell.execute_reply": "2021-09-18T03:41:31.168660Z",
     "shell.execute_reply.started": "2021-09-18T03:41:31.163466Z"
    }
   },
   "outputs": [
    {
     "name": "stdout",
     "output_type": "stream",
     "text": [
      "The median number of minimum nights is 3.0\n"
     ]
    }
   ],
   "source": [
    "print(f\"The median number of minimum nights is {df['minimum_nights'].median()}\" )"
   ]
  },
  {
   "cell_type": "code",
   "execution_count": 29,
   "metadata": {
    "execution": {
     "iopub.execute_input": "2021-09-18T03:41:31.522303Z",
     "iopub.status.busy": "2021-09-18T03:41:31.521530Z",
     "iopub.status.idle": "2021-09-18T03:41:31.529166Z",
     "shell.execute_reply": "2021-09-18T03:41:31.528039Z",
     "shell.execute_reply.started": "2021-09-18T03:41:31.522260Z"
    }
   },
   "outputs": [
    {
     "name": "stdout",
     "output_type": "stream",
     "text": [
      "29337 9779 9779\n"
     ]
    }
   ],
   "source": [
    "n_val = int(len(df)*0.2)\n",
    "n_test = int(len(df)*0.2)\n",
    "n_train = len(df) - n_val - n_test\n",
    "print(n_train , n_val , n_test)"
   ]
  },
  {
   "cell_type": "code",
   "execution_count": 30,
   "metadata": {
    "execution": {
     "iopub.execute_input": "2021-09-18T03:41:31.900897Z",
     "iopub.status.busy": "2021-09-18T03:41:31.900577Z",
     "iopub.status.idle": "2021-09-18T03:41:31.906894Z",
     "shell.execute_reply": "2021-09-18T03:41:31.905995Z",
     "shell.execute_reply.started": "2021-09-18T03:41:31.900867Z"
    }
   },
   "outputs": [
    {
     "data": {
      "text/plain": [
       "array([    0,     1,     2, ..., 48892, 48893, 48894])"
      ]
     },
     "execution_count": 30,
     "metadata": {},
     "output_type": "execute_result"
    }
   ],
   "source": [
    "idx = np.arange(df.shape[0])\n",
    "idx"
   ]
  },
  {
   "cell_type": "code",
   "execution_count": 31,
   "metadata": {
    "execution": {
     "iopub.execute_input": "2021-09-18T03:41:32.268743Z",
     "iopub.status.busy": "2021-09-18T03:41:32.268446Z",
     "iopub.status.idle": "2021-09-18T03:41:32.276435Z",
     "shell.execute_reply": "2021-09-18T03:41:32.275539Z",
     "shell.execute_reply.started": "2021-09-18T03:41:32.268714Z"
    }
   },
   "outputs": [
    {
     "data": {
      "text/plain": [
       "array([  879, 44383, 15394, ..., 38158,   860, 15795])"
      ]
     },
     "execution_count": 31,
     "metadata": {},
     "output_type": "execute_result"
    }
   ],
   "source": [
    "np.random.seed(42)\n",
    "np.random.shuffle(idx)\n",
    "idx"
   ]
  },
  {
   "cell_type": "code",
   "execution_count": 32,
   "metadata": {
    "execution": {
     "iopub.execute_input": "2021-09-18T03:41:32.666534Z",
     "iopub.status.busy": "2021-09-18T03:41:32.666254Z",
     "iopub.status.idle": "2021-09-18T03:41:32.678758Z",
     "shell.execute_reply": "2021-09-18T03:41:32.677699Z",
     "shell.execute_reply.started": "2021-09-18T03:41:32.666507Z"
    }
   },
   "outputs": [
    {
     "name": "stdout",
     "output_type": "stream",
     "text": [
      "Number of train rows is 29337 \n",
      " Number of validation rows is 9779 \n",
      " Number of test rows is 9779\n"
     ]
    }
   ],
   "source": [
    "## split data set into train, validation, and test sets\n",
    "df_train = df.iloc[idx[0 : n_train]]\n",
    "df_val = df.iloc[idx[n_train : n_train + n_val]]\n",
    "df_test = df.iloc[idx[n_train + n_val : ]]\n",
    "print(f'Number of train rows is {len(df_train)} \\n Number of validation rows is {len(df_val)} \\n Number of test rows is {len(df_test)}')"
   ]
  },
  {
   "cell_type": "code",
   "execution_count": 33,
   "metadata": {
    "execution": {
     "iopub.execute_input": "2021-09-18T03:41:33.067460Z",
     "iopub.status.busy": "2021-09-18T03:41:33.067129Z",
     "iopub.status.idle": "2021-09-18T03:41:33.079951Z",
     "shell.execute_reply": "2021-09-18T03:41:33.079083Z",
     "shell.execute_reply.started": "2021-09-18T03:41:33.067422Z"
    }
   },
   "outputs": [],
   "source": [
    "## split features and target variables\n",
    "X_train = df_train.drop(columns=['price'])\n",
    "X_val = df_val.drop(columns=['price'])\n",
    "X_test = df_test.drop(columns=['price'])\n",
    "\n",
    "y_train = np.log1p(df_train['price'])\n",
    "y_val = np.log1p(df_val['price'])\n",
    "y_test = np.log1p(df_test['price'])\n",
    "\n",
    "del df_train , df_val , df_test"
   ]
  },
  {
   "cell_type": "code",
   "execution_count": 34,
   "metadata": {
    "execution": {
     "iopub.execute_input": "2021-09-18T03:41:33.397633Z",
     "iopub.status.busy": "2021-09-18T03:41:33.397320Z",
     "iopub.status.idle": "2021-09-18T03:41:33.429657Z",
     "shell.execute_reply": "2021-09-18T03:41:33.428706Z",
     "shell.execute_reply.started": "2021-09-18T03:41:33.397602Z"
    }
   },
   "outputs": [],
   "source": [
    "## add column of ones to data sets and fill nulls \n",
    "X_train_mean = np.column_stack( ( np.ones(X_train.shape[0]) , X_train.fillna( X_train[X_train.columns].mean() ).values ) )\n",
    "X_train_zero = np.column_stack( ( np.ones(X_train.shape[0]) , X_train.fillna( 0 ).values ) )\n",
    "\n",
    "X_val_mean = np.column_stack( ( np.ones(X_val.shape[0]) , X_val.fillna( X_val[X_val.columns].mean() ).values ) )\n",
    "X_val_zero = np.column_stack( ( np.ones(X_val.shape[0]) , X_val.fillna( 0 ).values ) )\n",
    "\n",
    "X_test_mean = np.column_stack( ( np.ones(X_test.shape[0]) , X_test.fillna( X_test[X_test.columns].mean() ).values ) )\n",
    "X_test_zero = np.column_stack( ( np.ones(X_test.shape[0]) , X_test.fillna( 0 ).values ) )\n",
    "\n",
    "del X_train , X_val , X_test"
   ]
  },
  {
   "cell_type": "code",
   "execution_count": 35,
   "metadata": {
    "execution": {
     "iopub.execute_input": "2021-09-18T03:41:33.775146Z",
     "iopub.status.busy": "2021-09-18T03:41:33.774579Z",
     "iopub.status.idle": "2021-09-18T03:41:33.794667Z",
     "shell.execute_reply": "2021-09-18T03:41:33.793512Z",
     "shell.execute_reply.started": "2021-09-18T03:41:33.775112Z"
    }
   },
   "outputs": [
    {
     "name": "stdout",
     "output_type": "stream",
     "text": [
      "The weights for model built with nulls filled with means is: [-4.23539308e+02  1.31148321e+00 -5.06799071e+00 -4.87741553e-04\n",
      " -6.63849280e-04  5.34563275e-03  1.32706019e-03  6.38794182e-04] \n",
      "The weights for model built with nulls filled with zeroes is: [-4.19912659e+02  1.30676225e+00 -5.02167855e+00 -5.59803110e-04\n",
      " -4.07634896e-04 -8.25470065e-03  1.33371320e-03  6.50203890e-04]\n"
     ]
    }
   ],
   "source": [
    "w_mean = np.linalg.inv(X_train_mean.T.dot(X_train_mean)).dot(X_train_mean.T).dot(y_train)\n",
    "w_zero = np.linalg.inv(X_train_zero.T.dot(X_train_zero)).dot(X_train_zero.T).dot(y_train)\n",
    "\n",
    "print(f'The weights for model built with nulls filled with means is: {w_mean} \\nThe weights for model built with nulls filled with zeroes is: {w_zero}')"
   ]
  },
  {
   "cell_type": "code",
   "execution_count": 36,
   "metadata": {
    "execution": {
     "iopub.execute_input": "2021-09-18T03:41:34.205931Z",
     "iopub.status.busy": "2021-09-18T03:41:34.205573Z",
     "iopub.status.idle": "2021-09-18T03:41:34.221017Z",
     "shell.execute_reply": "2021-09-18T03:41:34.219654Z",
     "shell.execute_reply.started": "2021-09-18T03:41:34.205897Z"
    }
   },
   "outputs": [
    {
     "name": "stdout",
     "output_type": "stream",
     "text": [
      "The RMSE for model built with nulls filled with means is: 0.64 \n",
      "The weights for model built with nulls filled with zeroes is: 0.64\n"
     ]
    }
   ],
   "source": [
    "val_mean_RMSE = np.sqrt(((X_val_mean.dot(w_mean) - y_val)**2).mean())\n",
    "val_zero_RMSE = np.sqrt(((X_val_zero.dot(w_zero) - y_val)**2).mean())\n",
    "#val_mean_RMSE = np.sqrt(((np.expm1(X_val_mean.dot(w_mean)) - np.expm1(y_val))**2).mean())\n",
    "#val_zero_RMSE = np.sqrt(((np.expm1(X_val_zero.dot(w_zero)) - np.expm1(y_val))**2).mean())\n",
    "np.expm1\n",
    "print(f'The RMSE for model built with nulls filled with means is: {np.round(val_mean_RMSE,2)} \\nThe weights for model built with nulls filled with zeroes is: {np.round(val_zero_RMSE,2)}')"
   ]
  },
  {
   "cell_type": "code",
   "execution_count": 37,
   "metadata": {
    "execution": {
     "iopub.execute_input": "2021-09-18T03:41:34.579978Z",
     "iopub.status.busy": "2021-09-18T03:41:34.579692Z",
     "iopub.status.idle": "2021-09-18T03:41:34.604770Z",
     "shell.execute_reply": "2021-09-18T03:41:34.603699Z",
     "shell.execute_reply.started": "2021-09-18T03:41:34.579951Z"
    }
   },
   "outputs": [],
   "source": [
    "r = [0, 0.000001, 0.0001, 0.001, 0.01, 0.1, 1, 5, 10]\n",
    "rd = dict(zip(range(len(r)),r))\n",
    "\n",
    "w_zero_reg = dict()\n",
    "for key , value in rd.items():\n",
    "    XTX = X_train_zero.T.dot(X_train_zero)\n",
    "    w_zero_reg[value] = np.linalg.inv(XTX + value*np.eye(XTX.shape[0])).dot(X_train_zero.T).dot(y_train) \n",
    "    "
   ]
  },
  {
   "cell_type": "code",
   "execution_count": 38,
   "metadata": {
    "execution": {
     "iopub.execute_input": "2021-09-18T03:41:34.998273Z",
     "iopub.status.busy": "2021-09-18T03:41:34.997513Z",
     "iopub.status.idle": "2021-09-18T03:41:35.006664Z",
     "shell.execute_reply": "2021-09-18T03:41:35.005823Z",
     "shell.execute_reply.started": "2021-09-18T03:41:34.998233Z"
    }
   },
   "outputs": [
    {
     "data": {
      "text/plain": [
       "{0: array([-4.19912659e+02,  1.30676225e+00, -5.02167855e+00, -5.59803110e-04,\n",
       "        -4.07634896e-04, -8.25470065e-03,  1.33371320e-03,  6.50203890e-04]),\n",
       " 1e-06: array([-4.19862716e+02,  1.30652265e+00, -5.02113521e+00, -5.59738885e-04,\n",
       "        -4.07604005e-04, -8.25721683e-03,  1.33381904e-03,  6.50181820e-04]),\n",
       " 0.0001: array([-4.14976492e+02,  1.28308132e+00, -4.96797695e+00, -5.53455367e-04,\n",
       "        -4.04581728e-04, -8.50338984e-03,  1.34417423e-03,  6.48022556e-04]),\n",
       " 0.001: array([-3.75273653e+02,  1.09261034e+00, -4.53604091e+00, -5.02398869e-04,\n",
       "        -3.80024288e-04, -1.05036619e-02,  1.42831499e-03,  6.30477516e-04]),\n",
       " 0.01: array([-1.91783841e+02,  2.12374891e-01, -2.53979165e+00, -2.66437572e-04,\n",
       "        -2.66528619e-04, -1.97481648e-02,  1.81718085e-03,  5.49391207e-04]),\n",
       " 0.1: array([-3.25625606e+01, -5.50740434e-01, -8.07182995e-01, -6.16905910e-05,\n",
       "        -1.68018272e-04, -2.77714631e-02,  2.15466061e-03,  4.79020575e-04]),\n",
       " 1: array([-3.49921684e+00, -6.82602844e-01, -4.86829381e-01, -2.43794482e-05,\n",
       "        -1.49763553e-04, -2.92517312e-02,  2.21674736e-03,  4.66081219e-04]),\n",
       " 5: array([-7.03362316e-01, -6.64170286e-01, -4.38874738e-01, -2.10495829e-05,\n",
       "        -1.46866508e-04, -2.94598904e-02,  2.22475123e-03,  4.64441524e-04]),\n",
       " 10: array([-3.51276759e-01, -6.29775592e-01, -4.15172249e-01, -2.08954469e-05,\n",
       "        -1.45331885e-04, -2.95535704e-02,  2.22785299e-03,  4.63827701e-04])}"
      ]
     },
     "execution_count": 38,
     "metadata": {},
     "output_type": "execute_result"
    }
   ],
   "source": [
    "w_zero_reg"
   ]
  },
  {
   "cell_type": "code",
   "execution_count": 39,
   "metadata": {
    "execution": {
     "iopub.execute_input": "2021-09-18T03:41:35.483149Z",
     "iopub.status.busy": "2021-09-18T03:41:35.482854Z",
     "iopub.status.idle": "2021-09-18T03:41:35.499356Z",
     "shell.execute_reply": "2021-09-18T03:41:35.498246Z",
     "shell.execute_reply.started": "2021-09-18T03:41:35.483121Z"
    }
   },
   "outputs": [],
   "source": [
    "val_zero_RMSE_reg = dict()\n",
    "for key , value in w_zero_reg.items():\n",
    "    #val_zero_RMSE_reg[key] = round(np.sqrt(((np.expm1(X_val_zero.dot(value)) - np.expm1(y_val))**2).mean()),2)\n",
    "    val_zero_RMSE_reg[key] = round(np.sqrt(((X_val_zero.dot(value) - y_val)**2).mean()),2)"
   ]
  },
  {
   "cell_type": "code",
   "execution_count": 40,
   "metadata": {
    "execution": {
     "iopub.execute_input": "2021-09-18T03:41:35.838367Z",
     "iopub.status.busy": "2021-09-18T03:41:35.837530Z",
     "iopub.status.idle": "2021-09-18T03:41:35.845431Z",
     "shell.execute_reply": "2021-09-18T03:41:35.844206Z",
     "shell.execute_reply.started": "2021-09-18T03:41:35.838323Z"
    }
   },
   "outputs": [
    {
     "data": {
      "text/plain": [
       "{0: 0.64,\n",
       " 1e-06: 0.64,\n",
       " 0.0001: 0.64,\n",
       " 0.001: 0.64,\n",
       " 0.01: 0.66,\n",
       " 0.1: 0.68,\n",
       " 1: 0.68,\n",
       " 5: 0.68,\n",
       " 10: 0.68}"
      ]
     },
     "execution_count": 40,
     "metadata": {},
     "output_type": "execute_result"
    }
   ],
   "source": [
    "val_zero_RMSE_reg"
   ]
  },
  {
   "cell_type": "code",
   "execution_count": 41,
   "metadata": {
    "execution": {
     "iopub.execute_input": "2021-09-18T03:41:36.195759Z",
     "iopub.status.busy": "2021-09-18T03:41:36.195195Z",
     "iopub.status.idle": "2021-09-18T03:41:36.208412Z",
     "shell.execute_reply": "2021-09-18T03:41:36.207632Z",
     "shell.execute_reply.started": "2021-09-18T03:41:36.195721Z"
    }
   },
   "outputs": [],
   "source": [
    "def val_RMSE(s , df):\n",
    "   \n",
    "    idx = np.arange(df.shape[0])\n",
    "    np.random.seed(s)\n",
    "    np.random.shuffle(idx)\n",
    "    \n",
    "    n_val = int(len(df)*0.2)\n",
    "    n_test = int(len(df)*0.2)\n",
    "    n_train = len(df) - n_val - n_test\n",
    "    \n",
    "    df_train = df.iloc[idx[0 : n_train]]\n",
    "    df_val = df.iloc[idx[n_train : n_train + n_val]]\n",
    "    df_test = df.iloc[idx[n_train + n_val : ]]\n",
    "    \n",
    "    ## split features and target variables\n",
    "    X_train = df_train.drop(columns=['price'])\n",
    "    X_val = df_val.drop(columns=['price'])\n",
    "    X_test = df_test.drop(columns=['price'])\n",
    "\n",
    "    y_train = np.log1p(df_train['price'])\n",
    "    y_val = np.log1p(df_val['price'])\n",
    "    y_test = np.log1p(df_test['price'])\n",
    "\n",
    "    del df_train , df_val , df_test\n",
    "    \n",
    "    X_train_zero = np.column_stack( ( np.ones(X_train.shape[0]) , X_train.fillna( 0 ).values ) )\n",
    "    X_val_zero = np.column_stack( ( np.ones(X_val.shape[0]) , X_val.fillna( 0 ).values ) )\n",
    "    X_test_zero = np.column_stack( ( np.ones(X_test.shape[0]) , X_test.fillna( 0 ).values ) )\n",
    "\n",
    "    w_zero = np.linalg.inv(X_train_zero.T.dot(X_train_zero)).dot(X_train_zero.T).dot(y_train)\n",
    "\n",
    "    return np.sqrt(((X_val_zero.dot(w_zero) - y_val)**2).mean())\n",
    "    ### np.sqrt(((np.expm1(X_val_zero.dot(w_zero)) - np.expm1(y_val))**2).mean())\n",
    "    ### np.sqrt(((X_val_zero.dot(w_zero) - y_val)**2).mean())"
   ]
  },
  {
   "cell_type": "code",
   "execution_count": 42,
   "metadata": {
    "execution": {
     "iopub.execute_input": "2021-09-18T03:41:36.546289Z",
     "iopub.status.busy": "2021-09-18T03:41:36.546009Z",
     "iopub.status.idle": "2021-09-18T03:41:36.838203Z",
     "shell.execute_reply": "2021-09-18T03:41:36.837200Z",
     "shell.execute_reply.started": "2021-09-18T03:41:36.546260Z"
    }
   },
   "outputs": [],
   "source": [
    "s = [0, 1, 2, 3, 4, 5, 6, 7, 8, 9]\n",
    "val_RMSE_seeds = dict()\n",
    "\n",
    "for i in s:\n",
    "    val_RMSE_seeds[i] = val_RMSE( i , df)"
   ]
  },
  {
   "cell_type": "code",
   "execution_count": 43,
   "metadata": {
    "execution": {
     "iopub.execute_input": "2021-09-18T03:41:36.910232Z",
     "iopub.status.busy": "2021-09-18T03:41:36.906820Z",
     "iopub.status.idle": "2021-09-18T03:41:36.923351Z",
     "shell.execute_reply": "2021-09-18T03:41:36.922368Z",
     "shell.execute_reply.started": "2021-09-18T03:41:36.910158Z"
    }
   },
   "outputs": [
    {
     "data": {
      "text/plain": [
       "{0: 0.654977996088746,\n",
       " 1: 0.6462523685757932,\n",
       " 2: 0.6476558177137807,\n",
       " 3: 0.63751450703486,\n",
       " 4: 0.6445809083518489,\n",
       " 5: 0.6305809996967066,\n",
       " 6: 0.6297851918260075,\n",
       " 7: 0.65061842664655,\n",
       " 8: 0.6489780353303392,\n",
       " 9: 0.6437565168390073}"
      ]
     },
     "execution_count": 43,
     "metadata": {},
     "output_type": "execute_result"
    }
   ],
   "source": [
    "val_RMSE_seeds"
   ]
  },
  {
   "cell_type": "code",
   "execution_count": 44,
   "metadata": {
    "execution": {
     "iopub.execute_input": "2021-09-18T03:41:37.308811Z",
     "iopub.status.busy": "2021-09-18T03:41:37.307636Z",
     "iopub.status.idle": "2021-09-18T03:41:37.315657Z",
     "shell.execute_reply": "2021-09-18T03:41:37.314786Z",
     "shell.execute_reply.started": "2021-09-18T03:41:37.308765Z"
    }
   },
   "outputs": [
    {
     "data": {
      "text/plain": [
       "0.007932965931893769"
      ]
     },
     "execution_count": 44,
     "metadata": {},
     "output_type": "execute_result"
    }
   ],
   "source": [
    "val_RMSE_std = np.std(list(val_RMSE_seeds.values()))\n",
    "val_RMSE_std"
   ]
  },
  {
   "cell_type": "code",
   "execution_count": 45,
   "metadata": {
    "execution": {
     "iopub.execute_input": "2021-09-18T03:41:37.699955Z",
     "iopub.status.busy": "2021-09-18T03:41:37.699383Z",
     "iopub.status.idle": "2021-09-18T03:41:37.706123Z",
     "shell.execute_reply": "2021-09-18T03:41:37.705299Z",
     "shell.execute_reply.started": "2021-09-18T03:41:37.699917Z"
    }
   },
   "outputs": [
    {
     "data": {
      "text/plain": [
       "0.008"
      ]
     },
     "execution_count": 45,
     "metadata": {},
     "output_type": "execute_result"
    }
   ],
   "source": [
    "round(val_RMSE_std,3)"
   ]
  },
  {
   "cell_type": "code",
   "execution_count": 46,
   "metadata": {
    "execution": {
     "iopub.execute_input": "2021-09-18T03:41:38.116799Z",
     "iopub.status.busy": "2021-09-18T03:41:38.115937Z",
     "iopub.status.idle": "2021-09-18T03:41:38.129756Z",
     "shell.execute_reply": "2021-09-18T03:41:38.128544Z",
     "shell.execute_reply.started": "2021-09-18T03:41:38.116741Z"
    }
   },
   "outputs": [],
   "source": [
    "def test_RMSE(s , df , r):\n",
    "   \n",
    "    idx = np.arange(df.shape[0])\n",
    "    np.random.seed(s)\n",
    "    np.random.shuffle(idx)\n",
    "    \n",
    "    n_test = int(len(df)*0.2)\n",
    "    n_train = len(df) - n_test\n",
    "    \n",
    "    df_train = df.iloc[idx[0 : n_train]]\n",
    "    df_test = df.iloc[idx[n_train : ]]\n",
    "    \n",
    "    ## split features and target variables\n",
    "    X_train = df_train.drop(columns=['price'])\n",
    "    X_test = df_test.drop(columns=['price'])\n",
    "\n",
    "    y_train = np.log1p(df_train['price'])\n",
    "    y_test = np.log1p(df_test['price'])\n",
    "\n",
    "    del df_train , df_test\n",
    "    \n",
    "    X_train_zero = np.column_stack( ( np.ones(X_train.shape[0]) , X_train.fillna( 0 ).values ) )\n",
    "    X_test_zero = np.column_stack( ( np.ones(X_test.shape[0]) , X_test.fillna( 0 ).values ) )\n",
    "\n",
    "    XTX = X_train_zero.T.dot(X_train_zero)\n",
    "    w_zero = np.linalg.inv(XTX + r * np.eye(XTX.shape[0])).dot(X_train_zero.T).dot(y_train) \n",
    "\n",
    "    return np.sqrt(((X_test_zero.dot(w_zero) - y_test)**2).mean())\n",
    "    ### np.sqrt(((np.expm1(X_val_zero.dot(w_zero)) - np.expm1(y_val))**2).mean())\n",
    "    ### np.sqrt(((X_val_zero.dot(w_zero) - y_val)**2).mean())"
   ]
  },
  {
   "cell_type": "code",
   "execution_count": 49,
   "metadata": {
    "execution": {
     "iopub.execute_input": "2021-09-18T03:58:44.131765Z",
     "iopub.status.busy": "2021-09-18T03:58:44.131425Z",
     "iopub.status.idle": "2021-09-18T03:58:44.163004Z",
     "shell.execute_reply": "2021-09-18T03:58:44.161816Z",
     "shell.execute_reply.started": "2021-09-18T03:58:44.131736Z"
    }
   },
   "outputs": [
    {
     "data": {
      "text/plain": [
       "0.65"
      ]
     },
     "execution_count": 49,
     "metadata": {},
     "output_type": "execute_result"
    }
   ],
   "source": [
    "round(test_RMSE(9 , df , 0.001),2)"
   ]
  },
  {
   "cell_type": "code",
   "execution_count": null,
   "metadata": {},
   "outputs": [],
   "source": []
  }
 ],
 "metadata": {
  "kernelspec": {
   "display_name": "Python 3 (ipykernel)",
   "language": "python",
   "name": "python3"
  },
  "language_info": {
   "codemirror_mode": {
    "name": "ipython",
    "version": 3
   },
   "file_extension": ".py",
   "mimetype": "text/x-python",
   "name": "python",
   "nbconvert_exporter": "python",
   "pygments_lexer": "ipython3",
   "version": "3.9.5"
  }
 },
 "nbformat": 4,
 "nbformat_minor": 4
}
