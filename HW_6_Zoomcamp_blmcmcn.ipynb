{
  "nbformat": 4,
  "nbformat_minor": 0,
  "metadata": {
    "colab": {
      "name": "HW-6_Zoomcamp_blmcmcn.ipynb",
      "provenance": []
    },
    "kernelspec": {
      "name": "python3",
      "display_name": "Python 3"
    },
    "language_info": {
      "name": "python"
    }
  },
  "cells": [
    {
      "cell_type": "code",
      "metadata": {
        "colab": {
          "base_uri": "https://localhost:8080/"
        },
        "id": "aWSKp6Ph18Oa",
        "outputId": "dca9e439-bde9-48f7-a3ef-29a9a4a1d305"
      },
      "source": [
        "!wget https://raw.githubusercontent.com/alexeygrigorev/datasets/master/AB_NYC_2019.csv"
      ],
      "execution_count": 58,
      "outputs": [
        {
          "output_type": "stream",
          "name": "stdout",
          "text": [
            "--2021-10-16 23:14:17--  https://raw.githubusercontent.com/alexeygrigorev/datasets/master/AB_NYC_2019.csv\n",
            "Resolving raw.githubusercontent.com (raw.githubusercontent.com)... 185.199.111.133, 185.199.108.133, 185.199.109.133, ...\n",
            "Connecting to raw.githubusercontent.com (raw.githubusercontent.com)|185.199.111.133|:443... connected.\n",
            "HTTP request sent, awaiting response... 200 OK\n",
            "Length: 7077973 (6.8M) [text/plain]\n",
            "Saving to: ‘AB_NYC_2019.csv.1’\n",
            "\n",
            "AB_NYC_2019.csv.1   100%[===================>]   6.75M  --.-KB/s    in 0.09s   \n",
            "\n",
            "2021-10-16 23:14:18 (79.1 MB/s) - ‘AB_NYC_2019.csv.1’ saved [7077973/7077973]\n",
            "\n"
          ]
        }
      ]
    },
    {
      "cell_type": "code",
      "metadata": {
        "colab": {
          "base_uri": "https://localhost:8080/"
        },
        "id": "ty9PuXpu2Fnp",
        "outputId": "9867e976-b209-4a30-c6b9-24df2e102e8d"
      },
      "source": [
        "!ls"
      ],
      "execution_count": 59,
      "outputs": [
        {
          "output_type": "stream",
          "name": "stdout",
          "text": [
            "AB_NYC_2019.csv  AB_NYC_2019.csv.1  sample_data\n"
          ]
        }
      ]
    },
    {
      "cell_type": "code",
      "metadata": {
        "id": "kDwb1SVB2KkA"
      },
      "source": [
        "import pandas as pd\n",
        "import numpy as np\n",
        "\n",
        "import matplotlib.pyplot as plt\n",
        "import seaborn as sns\n",
        "\n",
        "%matplotlib inline"
      ],
      "execution_count": 60,
      "outputs": []
    },
    {
      "cell_type": "code",
      "metadata": {
        "colab": {
          "base_uri": "https://localhost:8080/",
          "height": 258
        },
        "id": "ioZ4qwaS2RtI",
        "outputId": "f06ed488-c331-4ed0-f62f-997e57cffb00"
      },
      "source": [
        "columns = ['neighbourhood_group', 'room_type', 'latitude', 'longitude', 'minimum_nights', 'number_of_reviews','reviews_per_month',\n",
        "    'calculated_host_listings_count', 'availability_365', 'price']\n",
        "\n",
        "df = pd.read_csv('AB_NYC_2019.csv', usecols=columns)\n",
        "df.head()"
      ],
      "execution_count": 61,
      "outputs": [
        {
          "output_type": "execute_result",
          "data": {
            "text/html": [
              "<div>\n",
              "<style scoped>\n",
              "    .dataframe tbody tr th:only-of-type {\n",
              "        vertical-align: middle;\n",
              "    }\n",
              "\n",
              "    .dataframe tbody tr th {\n",
              "        vertical-align: top;\n",
              "    }\n",
              "\n",
              "    .dataframe thead th {\n",
              "        text-align: right;\n",
              "    }\n",
              "</style>\n",
              "<table border=\"1\" class=\"dataframe\">\n",
              "  <thead>\n",
              "    <tr style=\"text-align: right;\">\n",
              "      <th></th>\n",
              "      <th>neighbourhood_group</th>\n",
              "      <th>latitude</th>\n",
              "      <th>longitude</th>\n",
              "      <th>room_type</th>\n",
              "      <th>price</th>\n",
              "      <th>minimum_nights</th>\n",
              "      <th>number_of_reviews</th>\n",
              "      <th>reviews_per_month</th>\n",
              "      <th>calculated_host_listings_count</th>\n",
              "      <th>availability_365</th>\n",
              "    </tr>\n",
              "  </thead>\n",
              "  <tbody>\n",
              "    <tr>\n",
              "      <th>0</th>\n",
              "      <td>Brooklyn</td>\n",
              "      <td>40.64749</td>\n",
              "      <td>-73.97237</td>\n",
              "      <td>Private room</td>\n",
              "      <td>149</td>\n",
              "      <td>1</td>\n",
              "      <td>9</td>\n",
              "      <td>0.21</td>\n",
              "      <td>6</td>\n",
              "      <td>365</td>\n",
              "    </tr>\n",
              "    <tr>\n",
              "      <th>1</th>\n",
              "      <td>Manhattan</td>\n",
              "      <td>40.75362</td>\n",
              "      <td>-73.98377</td>\n",
              "      <td>Entire home/apt</td>\n",
              "      <td>225</td>\n",
              "      <td>1</td>\n",
              "      <td>45</td>\n",
              "      <td>0.38</td>\n",
              "      <td>2</td>\n",
              "      <td>355</td>\n",
              "    </tr>\n",
              "    <tr>\n",
              "      <th>2</th>\n",
              "      <td>Manhattan</td>\n",
              "      <td>40.80902</td>\n",
              "      <td>-73.94190</td>\n",
              "      <td>Private room</td>\n",
              "      <td>150</td>\n",
              "      <td>3</td>\n",
              "      <td>0</td>\n",
              "      <td>NaN</td>\n",
              "      <td>1</td>\n",
              "      <td>365</td>\n",
              "    </tr>\n",
              "    <tr>\n",
              "      <th>3</th>\n",
              "      <td>Brooklyn</td>\n",
              "      <td>40.68514</td>\n",
              "      <td>-73.95976</td>\n",
              "      <td>Entire home/apt</td>\n",
              "      <td>89</td>\n",
              "      <td>1</td>\n",
              "      <td>270</td>\n",
              "      <td>4.64</td>\n",
              "      <td>1</td>\n",
              "      <td>194</td>\n",
              "    </tr>\n",
              "    <tr>\n",
              "      <th>4</th>\n",
              "      <td>Manhattan</td>\n",
              "      <td>40.79851</td>\n",
              "      <td>-73.94399</td>\n",
              "      <td>Entire home/apt</td>\n",
              "      <td>80</td>\n",
              "      <td>10</td>\n",
              "      <td>9</td>\n",
              "      <td>0.10</td>\n",
              "      <td>1</td>\n",
              "      <td>0</td>\n",
              "    </tr>\n",
              "  </tbody>\n",
              "</table>\n",
              "</div>"
            ],
            "text/plain": [
              "  neighbourhood_group  ...  availability_365\n",
              "0            Brooklyn  ...               365\n",
              "1           Manhattan  ...               355\n",
              "2           Manhattan  ...               365\n",
              "3            Brooklyn  ...               194\n",
              "4           Manhattan  ...                 0\n",
              "\n",
              "[5 rows x 10 columns]"
            ]
          },
          "metadata": {},
          "execution_count": 61
        }
      ]
    },
    {
      "cell_type": "code",
      "metadata": {
        "colab": {
          "base_uri": "https://localhost:8080/"
        },
        "id": "9QQtJheF3YpJ",
        "outputId": "dd160acc-6688-4bd9-9e75-4c132486292c"
      },
      "source": [
        "df.isna().sum()"
      ],
      "execution_count": 62,
      "outputs": [
        {
          "output_type": "execute_result",
          "data": {
            "text/plain": [
              "neighbourhood_group                   0\n",
              "latitude                              0\n",
              "longitude                             0\n",
              "room_type                             0\n",
              "price                                 0\n",
              "minimum_nights                        0\n",
              "number_of_reviews                     0\n",
              "reviews_per_month                 10052\n",
              "calculated_host_listings_count        0\n",
              "availability_365                      0\n",
              "dtype: int64"
            ]
          },
          "metadata": {},
          "execution_count": 62
        }
      ]
    },
    {
      "cell_type": "code",
      "metadata": {
        "id": "GldMqhNE3xn3"
      },
      "source": [
        "df.reviews_per_month = df.reviews_per_month.fillna(0)"
      ],
      "execution_count": 63,
      "outputs": []
    },
    {
      "cell_type": "code",
      "metadata": {
        "colab": {
          "base_uri": "https://localhost:8080/",
          "height": 265
        },
        "id": "iE-xGRdn4w4i",
        "outputId": "df230050-d473-4ed6-df2d-e112c2e112f9"
      },
      "source": [
        "plt.hist(df.price, bins=50);"
      ],
      "execution_count": 64,
      "outputs": [
        {
          "output_type": "display_data",
          "data": {
            "image/png": "[encoded data removed]",
            "text/plain": [
              "<Figure size 432x288 with 1 Axes>"
            ]
          },
          "metadata": {
            "needs_background": "light"
          }
        }
      ]
    },
    {
      "cell_type": "code",
      "metadata": {
        "id": "7IdnBM-337rD"
      },
      "source": [
        "df.price = np.log1p(df.price)"
      ],
      "execution_count": 65,
      "outputs": []
    },
    {
      "cell_type": "code",
      "metadata": {
        "colab": {
          "base_uri": "https://localhost:8080/",
          "height": 265
        },
        "id": "TipS4ag3392n",
        "outputId": "268005ff-9496-4247-ea94-a4977b07e510"
      },
      "source": [
        "plt.hist(df.price, bins=50);"
      ],
      "execution_count": 66,
      "outputs": [
        {
          "output_type": "display_data",
          "data": {
            "image/png": "[encoded data removed]",
            "text/plain": [
              "<Figure size 432x288 with 1 Axes>"
            ]
          },
          "metadata": {
            "needs_background": "light"
          }
        }
      ]
    },
    {
      "cell_type": "code",
      "metadata": {
        "id": "-L90L-6P5B_T"
      },
      "source": [
        "from sklearn.model_selection import train_test_split\n",
        "\n",
        "df_train_val , df_test = train_test_split(df , random_state=1 , test_size = 0.2)\n",
        "# 0.8*x = 0.2 ----> x = 0.2/0.8 = 0.25\n",
        "df_train , df_val = train_test_split(df_train_val , random_state=1 , test_size = 0.25)\n",
        "del df_train_val , df"
      ],
      "execution_count": 67,
      "outputs": []
    },
    {
      "cell_type": "code",
      "metadata": {
        "id": "bvirk1D26ecX"
      },
      "source": [
        "df_train = df_train.reset_index(drop=True)\n",
        "df_val = df_val.reset_index(drop=True)\n",
        "df_test = df_test.reset_index(drop=True)"
      ],
      "execution_count": 68,
      "outputs": []
    },
    {
      "cell_type": "code",
      "metadata": {
        "id": "TF3EzKMi_XhE"
      },
      "source": [
        "y_train = df_train.price \n",
        "y_val = df_val.price \n",
        "y_test = df_test.price \n",
        "\n",
        "df_train.drop(columns=['price'], inplace=True)\n",
        "df_val.drop(columns=['price'], inplace=True)\n",
        "df_test.drop(columns=['price'], inplace=True)"
      ],
      "execution_count": 69,
      "outputs": []
    },
    {
      "cell_type": "code",
      "metadata": {
        "id": "mhytruAM9xkk"
      },
      "source": [
        "train_dict = df_train.to_dict(orient=\"records\")\n",
        "val_dict = df_val.to_dict(orient=\"records\")\n",
        "test_dict = df_test.to_dict(orient=\"records\")"
      ],
      "execution_count": 70,
      "outputs": []
    },
    {
      "cell_type": "code",
      "metadata": {
        "id": "Wf6XoKqwA178"
      },
      "source": [
        "from sklearn.feature_extraction import DictVectorizer\n",
        "\n",
        "dv = DictVectorizer(sparse=False)\n",
        "\n",
        "X_train = dv.fit_transform(train_dict)\n",
        "\n",
        "X_val = dv.transform(val_dict)\n",
        "X_test = dv.transform(test_dict)"
      ],
      "execution_count": 71,
      "outputs": []
    },
    {
      "cell_type": "code",
      "metadata": {
        "id": "2GwRrV1vCFLM"
      },
      "source": [
        "from sklearn.tree import DecisionTreeRegressor\n",
        "from sklearn.metrics import roc_auc_score\n",
        "from sklearn.tree import export_text\n"
      ],
      "execution_count": 72,
      "outputs": []
    },
    {
      "cell_type": "code",
      "metadata": {
        "colab": {
          "base_uri": "https://localhost:8080/"
        },
        "id": "-73pCvXRD-S8",
        "outputId": "d6a4f3bf-966a-4123-daf4-a4cd638cc8e5"
      },
      "source": [
        "dtr = DecisionTreeRegressor(max_depth=1)\n",
        "dtr.fit(X_train, y_train)"
      ],
      "execution_count": 73,
      "outputs": [
        {
          "output_type": "execute_result",
          "data": {
            "text/plain": [
              "DecisionTreeRegressor(ccp_alpha=0.0, criterion='mse', max_depth=1,\n",
              "                      max_features=None, max_leaf_nodes=None,\n",
              "                      min_impurity_decrease=0.0, min_impurity_split=None,\n",
              "                      min_samples_leaf=1, min_samples_split=2,\n",
              "                      min_weight_fraction_leaf=0.0, presort='deprecated',\n",
              "                      random_state=None, splitter='best')"
            ]
          },
          "metadata": {},
          "execution_count": 73
        }
      ]
    },
    {
      "cell_type": "code",
      "metadata": {
        "colab": {
          "base_uri": "https://localhost:8080/"
        },
        "id": "IsLj3xyFFL3H",
        "outputId": "9cd14d89-bcca-482d-f06a-3f17941e231a"
      },
      "source": [
        "y_val_pred = dtr.predict(X_val)\n",
        "rmse = np.sqrt(((np.expm1(y_val) - np.expm1(y_val_pred))**2).sum()/len(y_val))\n",
        "rmse"
      ],
      "execution_count": 74,
      "outputs": [
        {
          "output_type": "execute_result",
          "data": {
            "text/plain": [
              "210.6549597853951"
            ]
          },
          "metadata": {},
          "execution_count": 74
        }
      ]
    },
    {
      "cell_type": "code",
      "metadata": {
        "colab": {
          "base_uri": "https://localhost:8080/"
        },
        "id": "TdO6ofTdFWKe",
        "outputId": "48bdedcf-b428-454b-9f91-c2ebfb293cb5"
      },
      "source": [
        "print(dtr.feature_importances_)\n",
        "print(dv.get_feature_names())\n",
        "print(export_text(dtr, feature_names=dv.get_feature_names()))\n"
      ],
      "execution_count": 75,
      "outputs": [
        {
          "output_type": "stream",
          "name": "stdout",
          "text": [
            "[0. 0. 0. 0. 0. 0. 0. 0. 0. 0. 0. 0. 1. 0. 0.]\n",
            "['availability_365', 'calculated_host_listings_count', 'latitude', 'longitude', 'minimum_nights', 'neighbourhood_group=Bronx', 'neighbourhood_group=Brooklyn', 'neighbourhood_group=Manhattan', 'neighbourhood_group=Queens', 'neighbourhood_group=Staten Island', 'number_of_reviews', 'reviews_per_month', 'room_type=Entire home/apt', 'room_type=Private room', 'room_type=Shared room']\n",
            "|--- room_type=Entire home/apt <= 0.50\n",
            "|   |--- value: [4.29]\n",
            "|--- room_type=Entire home/apt >  0.50\n",
            "|   |--- value: [5.15]\n",
            "\n"
          ]
        }
      ]
    },
    {
      "cell_type": "code",
      "metadata": {
        "colab": {
          "base_uri": "https://localhost:8080/"
        },
        "id": "FAeOmuSlHq5X",
        "outputId": "7ba68f78-4050-45bc-c2de-0da96f62ba03"
      },
      "source": [
        "from sklearn.ensemble import RandomForestRegressor\n",
        "\n",
        "rf = RandomForestRegressor(n_estimators=10, random_state=1 , n_jobs=-1)\n",
        "rf.fit(X_train, y_train)"
      ],
      "execution_count": 77,
      "outputs": [
        {
          "output_type": "execute_result",
          "data": {
            "text/plain": [
              "RandomForestRegressor(bootstrap=True, ccp_alpha=0.0, criterion='mse',\n",
              "                      max_depth=None, max_features='auto', max_leaf_nodes=None,\n",
              "                      max_samples=None, min_impurity_decrease=0.0,\n",
              "                      min_impurity_split=None, min_samples_leaf=1,\n",
              "                      min_samples_split=2, min_weight_fraction_leaf=0.0,\n",
              "                      n_estimators=10, n_jobs=-1, oob_score=False,\n",
              "                      random_state=1, verbose=0, warm_start=False)"
            ]
          },
          "metadata": {},
          "execution_count": 77
        }
      ]
    },
    {
      "cell_type": "code",
      "metadata": {
        "colab": {
          "base_uri": "https://localhost:8080/"
        },
        "id": "EjAOHSvgIEb-",
        "outputId": "87500f4b-e893-458b-84f3-4e4a6a57b0a8"
      },
      "source": [
        "from sklearn import metrics\n",
        "y_val_pred = rf.predict(X_val)\n",
        "rmse = np.sqrt(((y_val - y_val_pred)**2).sum()/len(y_val))\n",
        "print(rmse)\n",
        "print(np.sqrt(metrics.mean_squared_error(y_val , y_val_pred)))"
      ],
      "execution_count": 80,
      "outputs": [
        {
          "output_type": "stream",
          "name": "stdout",
          "text": [
            "0.460888788095762\n",
            "0.460888788095762\n"
          ]
        }
      ]
    },
    {
      "cell_type": "code",
      "metadata": {
        "id": "K4IDIr1Daapg"
      },
      "source": [
        "RMSEs = []\n",
        "\n",
        "for i in range(10 , 201 , 10):\n",
        "    rf = RandomForestRegressor(n_estimators=i, random_state=1 , n_jobs=-1)\n",
        "    rf.fit(X_train, y_train)\n",
        "    y_val_pred = rf.predict(X_val)\n",
        "    rmse = np.sqrt(metrics.mean_squared_error(y_val , y_val_pred))\n",
        "    RMSEs.append((i,rmse))"
      ],
      "execution_count": 83,
      "outputs": []
    },
    {
      "cell_type": "code",
      "metadata": {
        "id": "tuwFhzjHcBZK"
      },
      "source": [
        "trees_n , scores = list(zip(*RMSEs))"
      ],
      "execution_count": 89,
      "outputs": []
    },
    {
      "cell_type": "code",
      "metadata": {
        "colab": {
          "base_uri": "https://localhost:8080/",
          "height": 282
        },
        "id": "zhBSpXTheGsy",
        "outputId": "0e94b7ec-05ff-482b-ff23-48f9384d5845"
      },
      "source": [
        "plt.plot(trees_n , scores)"
      ],
      "execution_count": 92,
      "outputs": [
        {
          "output_type": "execute_result",
          "data": {
            "text/plain": [
              "[<matplotlib.lines.Line2D at 0x7fd64c52cbd0>]"
            ]
          },
          "metadata": {},
          "execution_count": 92
        },
        {
          "output_type": "display_data",
          "data": {
            "image/png": "[encoded data removed]",
            "text/plain": [
              "<Figure size 432x288 with 1 Axes>"
            ]
          },
          "metadata": {
            "needs_background": "light"
          }
        }
      ]
    },
    {
      "cell_type": "code",
      "metadata": {
        "id": "jm3vLJPyfsKU"
      },
      "source": [
        "RMSEs = []\n",
        "for j in [10, 15, 20, 25]:\n",
        "    for i in range(10 , 201 , 10):\n",
        "        rf = RandomForestRegressor(n_estimators=i, random_state=1 , n_jobs=-1 , max_depth=j)\n",
        "        rf.fit(X_train, y_train)\n",
        "        y_val_pred = rf.predict(X_val)\n",
        "        rmse = np.sqrt(metrics.mean_squared_error(y_val , y_val_pred))\n",
        "        RMSEs.append((i, j , rmse))"
      ],
      "execution_count": 95,
      "outputs": []
    },
    {
      "cell_type": "code",
      "metadata": {
        "colab": {
          "base_uri": "https://localhost:8080/",
          "height": 424
        },
        "id": "Jcn7m4ylhD8u",
        "outputId": "0ebad98c-91ff-44b2-b6a8-e76a6c77cef4"
      },
      "source": [
        "columns = ['n_estimators', 'max_depth', 'RMSE']\n",
        "df_scores = pd.DataFrame(RMSEs, columns=columns)\n",
        "df_scores"
      ],
      "execution_count": 97,
      "outputs": [
        {
          "output_type": "execute_result",
          "data": {
            "text/html": [
              "<div>\n",
              "<style scoped>\n",
              "    .dataframe tbody tr th:only-of-type {\n",
              "        vertical-align: middle;\n",
              "    }\n",
              "\n",
              "    .dataframe tbody tr th {\n",
              "        vertical-align: top;\n",
              "    }\n",
              "\n",
              "    .dataframe thead th {\n",
              "        text-align: right;\n",
              "    }\n",
              "</style>\n",
              "<table border=\"1\" class=\"dataframe\">\n",
              "  <thead>\n",
              "    <tr style=\"text-align: right;\">\n",
              "      <th></th>\n",
              "      <th>n_estimators</th>\n",
              "      <th>max_depth</th>\n",
              "      <th>RMSE</th>\n",
              "    </tr>\n",
              "  </thead>\n",
              "  <tbody>\n",
              "    <tr>\n",
              "      <th>0</th>\n",
              "      <td>10</td>\n",
              "      <td>10</td>\n",
              "      <td>0.445210</td>\n",
              "    </tr>\n",
              "    <tr>\n",
              "      <th>1</th>\n",
              "      <td>20</td>\n",
              "      <td>10</td>\n",
              "      <td>0.441888</td>\n",
              "    </tr>\n",
              "    <tr>\n",
              "      <th>2</th>\n",
              "      <td>30</td>\n",
              "      <td>10</td>\n",
              "      <td>0.441207</td>\n",
              "    </tr>\n",
              "    <tr>\n",
              "      <th>3</th>\n",
              "      <td>40</td>\n",
              "      <td>10</td>\n",
              "      <td>0.441303</td>\n",
              "    </tr>\n",
              "    <tr>\n",
              "      <th>4</th>\n",
              "      <td>50</td>\n",
              "      <td>10</td>\n",
              "      <td>0.440947</td>\n",
              "    </tr>\n",
              "    <tr>\n",
              "      <th>...</th>\n",
              "      <td>...</td>\n",
              "      <td>...</td>\n",
              "      <td>...</td>\n",
              "    </tr>\n",
              "    <tr>\n",
              "      <th>75</th>\n",
              "      <td>160</td>\n",
              "      <td>25</td>\n",
              "      <td>0.438766</td>\n",
              "    </tr>\n",
              "    <tr>\n",
              "      <th>76</th>\n",
              "      <td>170</td>\n",
              "      <td>25</td>\n",
              "      <td>0.438641</td>\n",
              "    </tr>\n",
              "    <tr>\n",
              "      <th>77</th>\n",
              "      <td>180</td>\n",
              "      <td>25</td>\n",
              "      <td>0.438762</td>\n",
              "    </tr>\n",
              "    <tr>\n",
              "      <th>78</th>\n",
              "      <td>190</td>\n",
              "      <td>25</td>\n",
              "      <td>0.438670</td>\n",
              "    </tr>\n",
              "    <tr>\n",
              "      <th>79</th>\n",
              "      <td>200</td>\n",
              "      <td>25</td>\n",
              "      <td>0.438618</td>\n",
              "    </tr>\n",
              "  </tbody>\n",
              "</table>\n",
              "<p>80 rows × 3 columns</p>\n",
              "</div>"
            ],
            "text/plain": [
              "    n_estimators  max_depth      RMSE\n",
              "0             10         10  0.445210\n",
              "1             20         10  0.441888\n",
              "2             30         10  0.441207\n",
              "3             40         10  0.441303\n",
              "4             50         10  0.440947\n",
              "..           ...        ...       ...\n",
              "75           160         25  0.438766\n",
              "76           170         25  0.438641\n",
              "77           180         25  0.438762\n",
              "78           190         25  0.438670\n",
              "79           200         25  0.438618\n",
              "\n",
              "[80 rows x 3 columns]"
            ]
          },
          "metadata": {},
          "execution_count": 97
        }
      ]
    },
    {
      "cell_type": "code",
      "metadata": {
        "colab": {
          "base_uri": "https://localhost:8080/",
          "height": 282
        },
        "id": "FPyECIJ-n79p",
        "outputId": "ca2a12bf-7228-4310-9811-4a9dd5b06842"
      },
      "source": [
        "for j in [10, 15, 20, 25]:\n",
        "    df_temp = df_scores[df_scores.max_depth==j]\n",
        "    plt.plot(df_temp.n_estimators , df_temp.RMSE , label=\"max_depth=%d\" %j)\n",
        "plt.legend()"
      ],
      "execution_count": 99,
      "outputs": [
        {
          "output_type": "execute_result",
          "data": {
            "text/plain": [
              "<matplotlib.legend.Legend at 0x7fd6535ffd50>"
            ]
          },
          "metadata": {},
          "execution_count": 99
        },
        {
          "output_type": "display_data",
          "data": {
            "image/png": "[encoded data removed]",
            "text/plain": [
              "<Figure size 432x288 with 1 Axes>"
            ]
          },
          "metadata": {
            "needs_background": "light"
          }
        }
      ]
    },
    {
      "cell_type": "code",
      "metadata": {
        "colab": {
          "base_uri": "https://localhost:8080/"
        },
        "id": "999YKB0RpjJ6",
        "outputId": "798366b8-c3ba-44c1-86d7-27de6482a186"
      },
      "source": [
        "rf = RandomForestRegressor(n_estimators=10, max_depth=20 , random_state=1 , n_jobs=-1)\n",
        "rf.fit(X_train, y_train)\n",
        "print(rf.feature_importances_)\n",
        "print(dv.get_feature_names())\n"
      ],
      "execution_count": 103,
      "outputs": [
        {
          "output_type": "stream",
          "name": "stdout",
          "text": [
            "[7.65160846e-02 3.09063525e-02 1.52053975e-01 1.53219337e-01\n",
            " 5.36452300e-02 2.83822549e-04 1.16611621e-03 3.40167443e-02\n",
            " 1.15324234e-03 1.18026952e-04 4.35248857e-02 5.24379349e-02\n",
            " 3.91896837e-01 4.52061759e-03 4.54079353e-03]\n",
            "['availability_365', 'calculated_host_listings_count', 'latitude', 'longitude', 'minimum_nights', 'neighbourhood_group=Bronx', 'neighbourhood_group=Brooklyn', 'neighbourhood_group=Manhattan', 'neighbourhood_group=Queens', 'neighbourhood_group=Staten Island', 'number_of_reviews', 'reviews_per_month', 'room_type=Entire home/apt', 'room_type=Private room', 'room_type=Shared room']\n"
          ]
        }
      ]
    },
    {
      "cell_type": "code",
      "metadata": {
        "colab": {
          "base_uri": "https://localhost:8080/"
        },
        "id": "lwYWgJSVr3fa",
        "outputId": "cc23b71b-bc9b-4599-ab44-4b4bcf79c5af"
      },
      "source": [
        "list(zip(np.round(rf.feature_importances_,3),dv.get_feature_names()))"
      ],
      "execution_count": 111,
      "outputs": [
        {
          "output_type": "execute_result",
          "data": {
            "text/plain": [
              "[(0.077, 'availability_365'),\n",
              " (0.031, 'calculated_host_listings_count'),\n",
              " (0.152, 'latitude'),\n",
              " (0.153, 'longitude'),\n",
              " (0.054, 'minimum_nights'),\n",
              " (0.0, 'neighbourhood_group=Bronx'),\n",
              " (0.001, 'neighbourhood_group=Brooklyn'),\n",
              " (0.034, 'neighbourhood_group=Manhattan'),\n",
              " (0.001, 'neighbourhood_group=Queens'),\n",
              " (0.0, 'neighbourhood_group=Staten Island'),\n",
              " (0.044, 'number_of_reviews'),\n",
              " (0.052, 'reviews_per_month'),\n",
              " (0.392, 'room_type=Entire home/apt'),\n",
              " (0.005, 'room_type=Private room'),\n",
              " (0.005, 'room_type=Shared room')]"
            ]
          },
          "metadata": {},
          "execution_count": 111
        }
      ]
    },
    {
      "cell_type": "code",
      "metadata": {
        "id": "0dPTFIvys4zn"
      },
      "source": [
        "import xgboost as xgb\n",
        "\n",
        "features = dv.get_feature_names()\n",
        "dtrain = xgb.DMatrix(X_train, label=y_train, feature_names=features)\n",
        "dval = xgb.DMatrix(X_val, label=y_val , feature_names=features)\n"
      ],
      "execution_count": 141,
      "outputs": []
    },
    {
      "cell_type": "code",
      "metadata": {
        "id": "K6kNvhovtsp5"
      },
      "source": [
        "%%capture output\n",
        "\n",
        "xgb_params = {\n",
        "    'eta': 0.3, \n",
        "    'max_depth': 6,\n",
        "    'min_child_weight': 1,\n",
        "    'objective': 'reg:squarederror',\n",
        "    'nthread': 8,\n",
        "    'seed': 1,\n",
        "    'verbosity': 1\n",
        "}\n",
        "\n",
        "watchlist = [(dtrain, 'train'), (dval, 'val')]\n",
        "\n",
        "model = xgb.train(xgb_params, dtrain, num_boost_round=100 , evals=watchlist , verbose_eval=5)\n"
      ],
      "execution_count": 142,
      "outputs": []
    },
    {
      "cell_type": "code",
      "metadata": {
        "colab": {
          "base_uri": "https://localhost:8080/"
        },
        "id": "v-M9FKdn2MA4",
        "outputId": "85090419-8fea-42f1-b1f3-f922f4b927af"
      },
      "source": [
        "print(output)"
      ],
      "execution_count": 143,
      "outputs": [
        {
          "output_type": "stream",
          "name": "stdout",
          "text": [
            "[0]\ttrain-rmse:3.02752\tval-rmse:3.02415\n",
            "[5]\ttrain-rmse:0.674904\tval-rmse:0.677523\n",
            "[10]\ttrain-rmse:0.439151\tval-rmse:0.449813\n",
            "[15]\ttrain-rmse:0.423031\tval-rmse:0.439126\n",
            "[20]\ttrain-rmse:0.417246\tval-rmse:0.437226\n",
            "[25]\ttrain-rmse:0.412681\tval-rmse:0.436174\n",
            "[30]\ttrain-rmse:0.407564\tval-rmse:0.435124\n",
            "[35]\ttrain-rmse:0.404793\tval-rmse:0.434324\n",
            "[40]\ttrain-rmse:0.401326\tval-rmse:0.434602\n",
            "[45]\ttrain-rmse:0.399043\tval-rmse:0.434132\n",
            "[50]\ttrain-rmse:0.395527\tval-rmse:0.433357\n",
            "[55]\ttrain-rmse:0.391777\tval-rmse:0.433642\n",
            "[60]\ttrain-rmse:0.388646\tval-rmse:0.43327\n",
            "[65]\ttrain-rmse:0.383917\tval-rmse:0.432713\n",
            "[70]\ttrain-rmse:0.380675\tval-rmse:0.432784\n",
            "[75]\ttrain-rmse:0.377159\tval-rmse:0.432945\n",
            "[80]\ttrain-rmse:0.374531\tval-rmse:0.432804\n",
            "[85]\ttrain-rmse:0.37268\tval-rmse:0.4331\n",
            "[90]\ttrain-rmse:0.370312\tval-rmse:0.433563\n",
            "[95]\ttrain-rmse:0.366663\tval-rmse:0.433719\n",
            "[99]\ttrain-rmse:0.36437\tval-rmse:0.434066\n",
            "\n"
          ]
        }
      ]
    },
    {
      "cell_type": "code",
      "metadata": {
        "colab": {
          "base_uri": "https://localhost:8080/",
          "height": 708
        },
        "id": "P6jiTx_ywj-u",
        "outputId": "366e65ba-a7a7-4eae-b154-faf1f4f00669"
      },
      "source": [
        "results = []\n",
        "for line in output.stdout.strip().split('\\n'):\n",
        "    it_line, train_line, val_line = line.split('\\t')\n",
        "\n",
        "    it = int(it_line.strip('[]'))\n",
        "    train = float(train_line.split(':')[1])\n",
        "    val = float(val_line.split(':')[1])\n",
        "\n",
        "    results.append((it, train, val))\n",
        "    \n",
        "columns = ['num_iter', 'train_rmse', 'val_rmse']\n",
        "df_results = pd.DataFrame(results, columns=columns)\n",
        "df_results"
      ],
      "execution_count": 144,
      "outputs": [
        {
          "output_type": "execute_result",
          "data": {
            "text/html": [
              "<div>\n",
              "<style scoped>\n",
              "    .dataframe tbody tr th:only-of-type {\n",
              "        vertical-align: middle;\n",
              "    }\n",
              "\n",
              "    .dataframe tbody tr th {\n",
              "        vertical-align: top;\n",
              "    }\n",
              "\n",
              "    .dataframe thead th {\n",
              "        text-align: right;\n",
              "    }\n",
              "</style>\n",
              "<table border=\"1\" class=\"dataframe\">\n",
              "  <thead>\n",
              "    <tr style=\"text-align: right;\">\n",
              "      <th></th>\n",
              "      <th>num_iter</th>\n",
              "      <th>train_rmse</th>\n",
              "      <th>val_rmse</th>\n",
              "    </tr>\n",
              "  </thead>\n",
              "  <tbody>\n",
              "    <tr>\n",
              "      <th>0</th>\n",
              "      <td>0</td>\n",
              "      <td>3.027520</td>\n",
              "      <td>3.024150</td>\n",
              "    </tr>\n",
              "    <tr>\n",
              "      <th>1</th>\n",
              "      <td>5</td>\n",
              "      <td>0.674904</td>\n",
              "      <td>0.677523</td>\n",
              "    </tr>\n",
              "    <tr>\n",
              "      <th>2</th>\n",
              "      <td>10</td>\n",
              "      <td>0.439151</td>\n",
              "      <td>0.449813</td>\n",
              "    </tr>\n",
              "    <tr>\n",
              "      <th>3</th>\n",
              "      <td>15</td>\n",
              "      <td>0.423031</td>\n",
              "      <td>0.439126</td>\n",
              "    </tr>\n",
              "    <tr>\n",
              "      <th>4</th>\n",
              "      <td>20</td>\n",
              "      <td>0.417246</td>\n",
              "      <td>0.437226</td>\n",
              "    </tr>\n",
              "    <tr>\n",
              "      <th>5</th>\n",
              "      <td>25</td>\n",
              "      <td>0.412681</td>\n",
              "      <td>0.436174</td>\n",
              "    </tr>\n",
              "    <tr>\n",
              "      <th>6</th>\n",
              "      <td>30</td>\n",
              "      <td>0.407564</td>\n",
              "      <td>0.435124</td>\n",
              "    </tr>\n",
              "    <tr>\n",
              "      <th>7</th>\n",
              "      <td>35</td>\n",
              "      <td>0.404793</td>\n",
              "      <td>0.434324</td>\n",
              "    </tr>\n",
              "    <tr>\n",
              "      <th>8</th>\n",
              "      <td>40</td>\n",
              "      <td>0.401326</td>\n",
              "      <td>0.434602</td>\n",
              "    </tr>\n",
              "    <tr>\n",
              "      <th>9</th>\n",
              "      <td>45</td>\n",
              "      <td>0.399043</td>\n",
              "      <td>0.434132</td>\n",
              "    </tr>\n",
              "    <tr>\n",
              "      <th>10</th>\n",
              "      <td>50</td>\n",
              "      <td>0.395527</td>\n",
              "      <td>0.433357</td>\n",
              "    </tr>\n",
              "    <tr>\n",
              "      <th>11</th>\n",
              "      <td>55</td>\n",
              "      <td>0.391777</td>\n",
              "      <td>0.433642</td>\n",
              "    </tr>\n",
              "    <tr>\n",
              "      <th>12</th>\n",
              "      <td>60</td>\n",
              "      <td>0.388646</td>\n",
              "      <td>0.433270</td>\n",
              "    </tr>\n",
              "    <tr>\n",
              "      <th>13</th>\n",
              "      <td>65</td>\n",
              "      <td>0.383917</td>\n",
              "      <td>0.432713</td>\n",
              "    </tr>\n",
              "    <tr>\n",
              "      <th>14</th>\n",
              "      <td>70</td>\n",
              "      <td>0.380675</td>\n",
              "      <td>0.432784</td>\n",
              "    </tr>\n",
              "    <tr>\n",
              "      <th>15</th>\n",
              "      <td>75</td>\n",
              "      <td>0.377159</td>\n",
              "      <td>0.432945</td>\n",
              "    </tr>\n",
              "    <tr>\n",
              "      <th>16</th>\n",
              "      <td>80</td>\n",
              "      <td>0.374531</td>\n",
              "      <td>0.432804</td>\n",
              "    </tr>\n",
              "    <tr>\n",
              "      <th>17</th>\n",
              "      <td>85</td>\n",
              "      <td>0.372680</td>\n",
              "      <td>0.433100</td>\n",
              "    </tr>\n",
              "    <tr>\n",
              "      <th>18</th>\n",
              "      <td>90</td>\n",
              "      <td>0.370312</td>\n",
              "      <td>0.433563</td>\n",
              "    </tr>\n",
              "    <tr>\n",
              "      <th>19</th>\n",
              "      <td>95</td>\n",
              "      <td>0.366663</td>\n",
              "      <td>0.433719</td>\n",
              "    </tr>\n",
              "    <tr>\n",
              "      <th>20</th>\n",
              "      <td>99</td>\n",
              "      <td>0.364370</td>\n",
              "      <td>0.434066</td>\n",
              "    </tr>\n",
              "  </tbody>\n",
              "</table>\n",
              "</div>"
            ],
            "text/plain": [
              "    num_iter  train_rmse  val_rmse\n",
              "0          0    3.027520  3.024150\n",
              "1          5    0.674904  0.677523\n",
              "2         10    0.439151  0.449813\n",
              "3         15    0.423031  0.439126\n",
              "4         20    0.417246  0.437226\n",
              "5         25    0.412681  0.436174\n",
              "6         30    0.407564  0.435124\n",
              "7         35    0.404793  0.434324\n",
              "8         40    0.401326  0.434602\n",
              "9         45    0.399043  0.434132\n",
              "10        50    0.395527  0.433357\n",
              "11        55    0.391777  0.433642\n",
              "12        60    0.388646  0.433270\n",
              "13        65    0.383917  0.432713\n",
              "14        70    0.380675  0.432784\n",
              "15        75    0.377159  0.432945\n",
              "16        80    0.374531  0.432804\n",
              "17        85    0.372680  0.433100\n",
              "18        90    0.370312  0.433563\n",
              "19        95    0.366663  0.433719\n",
              "20        99    0.364370  0.434066"
            ]
          },
          "metadata": {},
          "execution_count": 144
        }
      ]
    },
    {
      "cell_type": "code",
      "metadata": {
        "colab": {
          "base_uri": "https://localhost:8080/",
          "height": 282
        },
        "id": "ZpIQEXsQ27JN",
        "outputId": "56f17f6d-fadf-4b7a-cdea-404a3515c177"
      },
      "source": [
        "plt.plot(df_results.num_iter, df_results.train_rmse, label='train')\n",
        "plt.plot(df_results.num_iter, df_results.val_rmse, label='val')\n",
        "plt.legend()\n"
      ],
      "execution_count": 145,
      "outputs": [
        {
          "output_type": "execute_result",
          "data": {
            "text/plain": [
              "<matplotlib.legend.Legend at 0x7fd652138b10>"
            ]
          },
          "metadata": {},
          "execution_count": 145
        },
        {
          "output_type": "display_data",
          "data": {
            "image/png": "[encoded data removed]",
            "text/plain": [
              "<Figure size 432x288 with 1 Axes>"
            ]
          },
          "metadata": {
            "needs_background": "light"
          }
        }
      ]
    },
    {
      "cell_type": "code",
      "metadata": {
        "colab": {
          "base_uri": "https://localhost:8080/"
        },
        "id": "sqYcFvlVw4c4",
        "outputId": "8d0cbef7-e7db-4cf5-cd5d-5a6667e3eda2"
      },
      "source": [
        "dval = xgb.DMatrix(X_val, feature_names=features)\n",
        "\n",
        "y_val_pred = model.predict(dval)\n",
        "print(np.sqrt(((y_val - y_val_pred)**2).sum()/len(y_val)))\n"
      ],
      "execution_count": 149,
      "outputs": [
        {
          "output_type": "stream",
          "name": "stdout",
          "text": [
            "0.43406553396155145\n"
          ]
        }
      ]
    },
    {
      "cell_type": "code",
      "metadata": {
        "id": "aHNoE_YKzOC8"
      },
      "source": [
        "features = dv.get_feature_names()\n",
        "dtrain = xgb.DMatrix(X_train, label=y_train, feature_names=features)\n",
        "dval = xgb.DMatrix(X_val , feature_names=features)\n",
        "\n",
        "\n",
        "scores = {}\n",
        "\n",
        "for i in [0.01,0.1,0.3]:\n",
        "    xgb_params = {\n",
        "    'eta': i,\n",
        "    'max_depth': 6,\n",
        "    'min_child_weight': 1,\n",
        "    'objective': 'reg:squarederror',\n",
        "    'nthread': 8,\n",
        "    'seed': 1,\n",
        "    'verbosity': 1\n",
        "    }\n",
        "    model = xgb.train(xgb_params, dtrain, num_boost_round=100 )\n",
        "    y_val_pred = model.predict(dval)\n",
        "    scores[i] = np.sqrt(((y_val - y_val_pred)**2).sum()/len(y_val))\n"
      ],
      "execution_count": 157,
      "outputs": []
    },
    {
      "cell_type": "code",
      "metadata": {
        "colab": {
          "base_uri": "https://localhost:8080/"
        },
        "id": "5elQrrsoAA4d",
        "outputId": "cfdc7d0d-f4c1-407f-94f7-81cdddcd7f53"
      },
      "source": [
        "scores"
      ],
      "execution_count": 158,
      "outputs": [
        {
          "output_type": "execute_result",
          "data": {
            "text/plain": [
              "{0.01: 1.6304937543510767, 0.1: 0.43287300538946744, 0.3: 0.43406553396155145}"
            ]
          },
          "metadata": {},
          "execution_count": 158
        }
      ]
    },
    {
      "cell_type": "code",
      "metadata": {
        "id": "OI6KjorSBDye"
      },
      "source": [
        "%%capture output3\n",
        "\n",
        "features = dv.get_feature_names()\n",
        "dtrain = xgb.DMatrix(X_train, label=y_train, feature_names=features)\n",
        "dval = xgb.DMatrix(X_val, label=y_val , feature_names=features)\n",
        "\n",
        "xgb_params = {\n",
        "    'eta': 0.3, \n",
        "    'max_depth': 6,\n",
        "    'min_child_weight': 1,\n",
        "    'objective': 'reg:squarederror',\n",
        "    'nthread': 8,\n",
        "    'seed': 1,\n",
        "    'verbosity': 1\n",
        "}\n",
        "\n",
        "watchlist = [(dtrain, 'train'), (dval, 'val')]\n",
        "\n",
        "model = xgb.train(xgb_params, dtrain, num_boost_round=100 , evals=watchlist , verbose_eval=5)\n"
      ],
      "execution_count": 170,
      "outputs": []
    },
    {
      "cell_type": "code",
      "metadata": {
        "colab": {
          "base_uri": "https://localhost:8080/",
          "height": 282
        },
        "id": "Ve-NZw5tNAkx",
        "outputId": "46333bcf-1676-4cdd-a916-6d2f53b64663"
      },
      "source": [
        "results = []\n",
        "for line in output3.stdout.strip().split('\\n'):\n",
        "    it_line, train_line, val_line = line.split('\\t')\n",
        "\n",
        "    it = int(it_line.strip('[]'))\n",
        "    train = float(train_line.split(':')[1])\n",
        "    val = float(val_line.split(':')[1])\n",
        "\n",
        "    results.append((it, train, val))\n",
        "    \n",
        "columns = ['num_iter', 'train_rmse', 'val_rmse']\n",
        "df_results = pd.DataFrame(results, columns=columns)\n",
        "plt.plot(df_results.num_iter, df_results.train_rmse, label='train')\n",
        "plt.plot(df_results.num_iter, df_results.val_rmse, label='val')\n",
        "plt.legend()"
      ],
      "execution_count": 171,
      "outputs": [
        {
          "output_type": "execute_result",
          "data": {
            "text/plain": [
              "<matplotlib.legend.Legend at 0x7fd64c512350>"
            ]
          },
          "metadata": {},
          "execution_count": 171
        },
        {
          "output_type": "display_data",
          "data": {
            "image/png": "[encoded data removed]",
            "text/plain": [
              "<Figure size 432x288 with 1 Axes>"
            ]
          },
          "metadata": {
            "needs_background": "light"
          }
        }
      ]
    },
    {
      "cell_type": "code",
      "metadata": {
        "id": "C6MvJdrmNnmS"
      },
      "source": [
        ""
      ],
      "execution_count": null,
      "outputs": []
    }
  ]
}