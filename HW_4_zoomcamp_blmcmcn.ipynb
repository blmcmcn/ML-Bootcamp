{
  "nbformat": 4,
  "nbformat_minor": 0,
  "metadata": {
    "kernelspec": {
      "display_name": "Python 3",
      "language": "python",
      "name": "python3"
    },
    "language_info": {
      "codemirror_mode": {
        "name": "ipython",
        "version": 3
      },
      "file_extension": ".py",
      "mimetype": "text/x-python",
      "name": "python",
      "nbconvert_exporter": "python",
      "pygments_lexer": "ipython3",
      "version": "3.6.9"
    },
    "colab": {
      "name": "HW-4-zoomcamp-blmcmcn.ipynb",
      "provenance": [],
      "collapsed_sections": [
        "V1Fa44IjwUw8",
        "kBb9iFwJwUxF"
      ]
    }
  },
  "cells": [
    {
      "cell_type": "markdown",
      "metadata": {
        "id": "cWmt3vHGwUwL"
      },
      "source": [
        "## Homework 4\n",
        "\n",
        "Use this notebook as a starter"
      ]
    },
    {
      "cell_type": "code",
      "metadata": {
        "id": "5d8JgLatwUwW"
      },
      "source": [
        "import pandas as pd\n",
        "import numpy as np\n",
        "\n",
        "import matplotlib.pyplot as plt\n",
        "import seaborn as sns\n",
        "\n",
        "%matplotlib inline"
      ],
      "execution_count": 419,
      "outputs": []
    },
    {
      "cell_type": "code",
      "metadata": {
        "id": "QrarwVodwrqv",
        "colab": {
          "base_uri": "https://localhost:8080/",
          "height": 35
        },
        "outputId": "100e94b0-d708-450b-9867-f6ec1975b093"
      },
      "source": [
        "%pwd"
      ],
      "execution_count": 420,
      "outputs": [
        {
          "output_type": "execute_result",
          "data": {
            "application/vnd.google.colaboratory.intrinsic+json": {
              "type": "string"
            },
            "text/plain": [
              "'/content'"
            ]
          },
          "metadata": {},
          "execution_count": 420
        }
      ]
    },
    {
      "cell_type": "markdown",
      "metadata": {
        "id": "_W-RI9fhwUwb"
      },
      "source": [
        "Data:\n",
        "\n",
        "- https://github.com/gastonstat/CreditScoring\n",
        "- Also available [here](https://raw.githubusercontent.com/alexeygrigorev/mlbookcamp-code/master/chapter-06-trees/CreditScoring.csv)"
      ]
    },
    {
      "cell_type": "code",
      "metadata": {
        "scrolled": true,
        "id": "VjANAYMBwUwd",
        "colab": {
          "base_uri": "https://localhost:8080/"
        },
        "outputId": "f8518d91-e78d-427c-89be-548b2e12c200"
      },
      "source": [
        "!wget https://raw.githubusercontent.com/alexeygrigorev/mlbookcamp-code/master/chapter-06-trees/CreditScoring.csv"
      ],
      "execution_count": 421,
      "outputs": [
        {
          "output_type": "stream",
          "name": "stdout",
          "text": [
            "--2021-10-03 02:14:40--  https://raw.githubusercontent.com/alexeygrigorev/mlbookcamp-code/master/chapter-06-trees/CreditScoring.csv\n",
            "Resolving raw.githubusercontent.com (raw.githubusercontent.com)... 185.199.109.133, 185.199.110.133, 185.199.111.133, ...\n",
            "Connecting to raw.githubusercontent.com (raw.githubusercontent.com)|185.199.109.133|:443... connected.\n",
            "HTTP request sent, awaiting response... 200 OK\n",
            "Length: 182489 (178K) [text/plain]\n",
            "Saving to: ‘CreditScoring.csv.11’\n",
            "\n",
            "CreditScoring.csv.1 100%[===================>] 178.21K  --.-KB/s    in 0.02s   \n",
            "\n",
            "2021-10-03 02:14:40 (10.7 MB/s) - ‘CreditScoring.csv.11’ saved [182489/182489]\n",
            "\n"
          ]
        }
      ]
    },
    {
      "cell_type": "markdown",
      "metadata": {
        "id": "DirZiH1owUwj"
      },
      "source": [
        "## Preparation \n",
        "\n",
        "We'll talk about this dataset in more details in week 6. But for now, use the following code to get started"
      ]
    },
    {
      "cell_type": "code",
      "metadata": {
        "id": "i14pQvj_wUwl"
      },
      "source": [
        "df = pd.read_csv('CreditScoring.csv')\n",
        "df.columns = df.columns.str.lower().str.strip()"
      ],
      "execution_count": 422,
      "outputs": []
    },
    {
      "cell_type": "code",
      "metadata": {
        "id": "n4p9AeXMw9Kz",
        "colab": {
          "base_uri": "https://localhost:8080/",
          "height": 206
        },
        "outputId": "cb3aa78e-cb14-4b81-9741-3f282a3a2ef9"
      },
      "source": [
        "df.head()"
      ],
      "execution_count": 423,
      "outputs": [
        {
          "output_type": "execute_result",
          "data": {
            "text/html": [
              "<div>\n",
              "<style scoped>\n",
              "    .dataframe tbody tr th:only-of-type {\n",
              "        vertical-align: middle;\n",
              "    }\n",
              "\n",
              "    .dataframe tbody tr th {\n",
              "        vertical-align: top;\n",
              "    }\n",
              "\n",
              "    .dataframe thead th {\n",
              "        text-align: right;\n",
              "    }\n",
              "</style>\n",
              "<table border=\"1\" class=\"dataframe\">\n",
              "  <thead>\n",
              "    <tr style=\"text-align: right;\">\n",
              "      <th></th>\n",
              "      <th>status</th>\n",
              "      <th>seniority</th>\n",
              "      <th>home</th>\n",
              "      <th>time</th>\n",
              "      <th>age</th>\n",
              "      <th>marital</th>\n",
              "      <th>records</th>\n",
              "      <th>job</th>\n",
              "      <th>expenses</th>\n",
              "      <th>income</th>\n",
              "      <th>assets</th>\n",
              "      <th>debt</th>\n",
              "      <th>amount</th>\n",
              "      <th>price</th>\n",
              "    </tr>\n",
              "  </thead>\n",
              "  <tbody>\n",
              "    <tr>\n",
              "      <th>0</th>\n",
              "      <td>1</td>\n",
              "      <td>9</td>\n",
              "      <td>1</td>\n",
              "      <td>60</td>\n",
              "      <td>30</td>\n",
              "      <td>2</td>\n",
              "      <td>1</td>\n",
              "      <td>3</td>\n",
              "      <td>73</td>\n",
              "      <td>129</td>\n",
              "      <td>0</td>\n",
              "      <td>0</td>\n",
              "      <td>800</td>\n",
              "      <td>846</td>\n",
              "    </tr>\n",
              "    <tr>\n",
              "      <th>1</th>\n",
              "      <td>1</td>\n",
              "      <td>17</td>\n",
              "      <td>1</td>\n",
              "      <td>60</td>\n",
              "      <td>58</td>\n",
              "      <td>3</td>\n",
              "      <td>1</td>\n",
              "      <td>1</td>\n",
              "      <td>48</td>\n",
              "      <td>131</td>\n",
              "      <td>0</td>\n",
              "      <td>0</td>\n",
              "      <td>1000</td>\n",
              "      <td>1658</td>\n",
              "    </tr>\n",
              "    <tr>\n",
              "      <th>2</th>\n",
              "      <td>2</td>\n",
              "      <td>10</td>\n",
              "      <td>2</td>\n",
              "      <td>36</td>\n",
              "      <td>46</td>\n",
              "      <td>2</td>\n",
              "      <td>2</td>\n",
              "      <td>3</td>\n",
              "      <td>90</td>\n",
              "      <td>200</td>\n",
              "      <td>3000</td>\n",
              "      <td>0</td>\n",
              "      <td>2000</td>\n",
              "      <td>2985</td>\n",
              "    </tr>\n",
              "    <tr>\n",
              "      <th>3</th>\n",
              "      <td>1</td>\n",
              "      <td>0</td>\n",
              "      <td>1</td>\n",
              "      <td>60</td>\n",
              "      <td>24</td>\n",
              "      <td>1</td>\n",
              "      <td>1</td>\n",
              "      <td>1</td>\n",
              "      <td>63</td>\n",
              "      <td>182</td>\n",
              "      <td>2500</td>\n",
              "      <td>0</td>\n",
              "      <td>900</td>\n",
              "      <td>1325</td>\n",
              "    </tr>\n",
              "    <tr>\n",
              "      <th>4</th>\n",
              "      <td>1</td>\n",
              "      <td>0</td>\n",
              "      <td>1</td>\n",
              "      <td>36</td>\n",
              "      <td>26</td>\n",
              "      <td>1</td>\n",
              "      <td>1</td>\n",
              "      <td>1</td>\n",
              "      <td>46</td>\n",
              "      <td>107</td>\n",
              "      <td>0</td>\n",
              "      <td>0</td>\n",
              "      <td>310</td>\n",
              "      <td>910</td>\n",
              "    </tr>\n",
              "  </tbody>\n",
              "</table>\n",
              "</div>"
            ],
            "text/plain": [
              "   status  seniority  home  time  age  ...  income  assets  debt  amount  price\n",
              "0       1          9     1    60   30  ...     129       0     0     800    846\n",
              "1       1         17     1    60   58  ...     131       0     0    1000   1658\n",
              "2       2         10     2    36   46  ...     200    3000     0    2000   2985\n",
              "3       1          0     1    60   24  ...     182    2500     0     900   1325\n",
              "4       1          0     1    36   26  ...     107       0     0     310    910\n",
              "\n",
              "[5 rows x 14 columns]"
            ]
          },
          "metadata": {},
          "execution_count": 423
        }
      ]
    },
    {
      "cell_type": "markdown",
      "metadata": {
        "id": "NY5RrHmnwUwn"
      },
      "source": [
        "Some of the features are encoded as numbers. Use the following code to de-code them:"
      ]
    },
    {
      "cell_type": "code",
      "metadata": {
        "id": "zAS_3rd9wUwp"
      },
      "source": [
        "status_values = {\n",
        "    1: 'ok',\n",
        "    2: 'default',\n",
        "    0: 'unk'\n",
        "}\n",
        "\n",
        "df.status = df.status.map(status_values)\n",
        "\n",
        "\n",
        "home_values = {\n",
        "    1: 'rent',\n",
        "    2: 'owner',\n",
        "    3: 'private',\n",
        "    4: 'ignore',\n",
        "    5: 'parents',\n",
        "    6: 'other',\n",
        "    0: 'unk'\n",
        "}\n",
        "\n",
        "df.home = df.home.map(home_values)\n",
        "\n",
        "marital_values = {\n",
        "    1: 'single',\n",
        "    2: 'married',\n",
        "    3: 'widow',\n",
        "    4: 'separated',\n",
        "    5: 'divorced',\n",
        "    0: 'unk'\n",
        "}\n",
        "\n",
        "df.marital = df.marital.map(marital_values)\n",
        "\n",
        "records_values = {\n",
        "    1: 'no',\n",
        "    2: 'yes',\n",
        "    0: 'unk'\n",
        "}\n",
        "\n",
        "df.records = df.records.map(records_values)\n",
        "\n",
        "job_values = {\n",
        "    1: 'fixed',\n",
        "    2: 'partime',\n",
        "    3: 'freelance',\n",
        "    4: 'others',\n",
        "    0: 'unk'\n",
        "}\n",
        "\n",
        "df.job = df.job.map(job_values)"
      ],
      "execution_count": 424,
      "outputs": []
    },
    {
      "cell_type": "markdown",
      "metadata": {
        "id": "kU5EsQx1wUws"
      },
      "source": [
        "Prepare the numerical variables:"
      ]
    },
    {
      "cell_type": "code",
      "metadata": {
        "id": "aZ6nMdE3wUwu"
      },
      "source": [
        "for c in ['income', 'assets', 'debt']:\n",
        "    df[c] = df[c].replace(to_replace=99999999, value=0)"
      ],
      "execution_count": 425,
      "outputs": []
    },
    {
      "cell_type": "markdown",
      "metadata": {
        "id": "XdDq1razwUwv"
      },
      "source": [
        "Remove clients with unknown default status"
      ]
    },
    {
      "cell_type": "code",
      "metadata": {
        "id": "2HbFUxaZwUwx"
      },
      "source": [
        "df = df[df.status != 'unk'].reset_index(drop=True)"
      ],
      "execution_count": 426,
      "outputs": []
    },
    {
      "cell_type": "markdown",
      "metadata": {
        "id": "poz3FV1bwUwy"
      },
      "source": [
        "Create the target variable"
      ]
    },
    {
      "cell_type": "code",
      "metadata": {
        "id": "rDUAFnTpwUwz"
      },
      "source": [
        "df['default'] = (df.status == 'default').astype(int)\n",
        "del df['status']"
      ],
      "execution_count": 427,
      "outputs": []
    },
    {
      "cell_type": "markdown",
      "metadata": {
        "id": "1g-d9jTEwUw0"
      },
      "source": [
        "## Your code"
      ]
    },
    {
      "cell_type": "markdown",
      "metadata": {
        "id": "XuS--uUhwUw1"
      },
      "source": [
        "What are the categorical variables? What are the numerical?"
      ]
    },
    {
      "cell_type": "code",
      "metadata": {
        "id": "wf2Ub4V3wUw1"
      },
      "source": [
        "cat_list = list(df.drop(columns=['default']).select_dtypes(['object']).columns)\n",
        "num_list = list(set(df.drop(columns=['default']).columns) - set(cat_list))"
      ],
      "execution_count": 428,
      "outputs": []
    },
    {
      "cell_type": "code",
      "metadata": {
        "colab": {
          "base_uri": "https://localhost:8080/"
        },
        "id": "rO2J0nwT0CYm",
        "outputId": "e89c68bb-3128-4523-cfeb-e9ecf9296b65"
      },
      "source": [
        "print(f'Categorical variables are : {cat_list}')\n",
        "print(f'Numerical variables are : {num_list}')"
      ],
      "execution_count": 429,
      "outputs": [
        {
          "output_type": "stream",
          "name": "stdout",
          "text": [
            "Categorical variables are : ['home', 'marital', 'records', 'job']\n",
            "Numerical variables are : ['income', 'seniority', 'expenses', 'time', 'age', 'debt', 'price', 'assets', 'amount']\n"
          ]
        }
      ]
    },
    {
      "cell_type": "markdown",
      "metadata": {
        "id": "aKUmVvz5wUw2"
      },
      "source": [
        "Split the data into 3 parts: train/validation/test with 60%/20%/20% distribution. Use `train_test_split` funciton for that with `random_state=1`"
      ]
    },
    {
      "cell_type": "code",
      "metadata": {
        "id": "QPuzwomIwUw3"
      },
      "source": [
        "from sklearn .model_selection import train_test_split\n",
        "df_full_train, df_test = train_test_split(df, test_size=0.2, random_state=1)\n",
        "df_train, df_val = train_test_split(df_full_train, test_size=0.25, random_state=1)\n",
        "\n",
        "\n"
      ],
      "execution_count": 430,
      "outputs": []
    },
    {
      "cell_type": "code",
      "metadata": {
        "colab": {
          "base_uri": "https://localhost:8080/"
        },
        "id": "WoXfreVDTxzt",
        "outputId": "addced97-72e6-4aa5-fa17-9192f1c902af"
      },
      "source": [
        "df_train.dtypes"
      ],
      "execution_count": 431,
      "outputs": [
        {
          "output_type": "execute_result",
          "data": {
            "text/plain": [
              "seniority     int64\n",
              "home         object\n",
              "time          int64\n",
              "age           int64\n",
              "marital      object\n",
              "records      object\n",
              "job          object\n",
              "expenses      int64\n",
              "income        int64\n",
              "assets        int64\n",
              "debt          int64\n",
              "amount        int64\n",
              "price         int64\n",
              "default       int64\n",
              "dtype: object"
            ]
          },
          "metadata": {},
          "execution_count": 431
        }
      ]
    },
    {
      "cell_type": "markdown",
      "metadata": {
        "id": "IC1ikaHlwUw3"
      },
      "source": [
        "## Question 1\n",
        "\n",
        "ROC AUC could also be used to evaluate feature importance of numerical variables. \n",
        "\n",
        "Let's do that\n",
        "\n",
        "* For each numerical variable, use it as score and compute AUC with the \"default\" variable\n",
        "* Use the training dataset for that\n",
        "\n",
        "\n",
        "If your AUC is < 0.5, invert this variable by putting \"-\" in front\n",
        "\n",
        "(e.g. `-df_train['expenses']`)\n",
        "\n",
        "AUC can go below 0.5 if the variable is negatively correlated with the target varialble. You can change the direction of the correlation by negating this variable - then negative correlation becomes positive."
      ]
    },
    {
      "cell_type": "code",
      "metadata": {
        "id": "yxc94X7JSG1w"
      },
      "source": [
        "from tqdm.auto import tqdm\n",
        "\n",
        "neg = df_train[df_train.default == 0].reset_index(drop=True)\n",
        "pos = df_train[df_train.default == 1].reset_index(drop=True)\n",
        "\n",
        "trials = 10000000\n",
        "auc_scores = {}\n",
        "\n",
        "for num in num_list:\n",
        "\n",
        "    neg_idxs = np.random.randint(0 , len(neg) , size=trials)\n",
        "    pos_idxs = np.random.randint(0 , len(pos) , size=trials)\n",
        "\n",
        "    auc_scores[num] = (pos[num][pos_idxs].values > neg[num][neg_idxs].values).mean() "
      ],
      "execution_count": 432,
      "outputs": []
    },
    {
      "cell_type": "code",
      "metadata": {
        "colab": {
          "base_uri": "https://localhost:8080/"
        },
        "id": "XcYth82RVRSH",
        "outputId": "fdf84fa8-f576-415f-eb67-e05de5b5da5a"
      },
      "source": [
        "auc_scores"
      ],
      "execution_count": 433,
      "outputs": [
        {
          "output_type": "execute_result",
          "data": {
            "text/plain": [
              "{'age': 0.4135201,\n",
              " 'amount': 0.574411,\n",
              " 'assets': 0.258413,\n",
              " 'debt': 0.1500384,\n",
              " 'expenses': 0.4247533,\n",
              " 'income': 0.3102305,\n",
              " 'price': 0.503243,\n",
              " 'seniority': 0.2590683,\n",
              " 'time': 0.4160643}"
            ]
          },
          "metadata": {},
          "execution_count": 433
        }
      ]
    },
    {
      "cell_type": "markdown",
      "metadata": {
        "id": "2Y3nlCcqwUw4"
      },
      "source": [
        "Which numerical variable (among the following 4) has the highest AUC?\n",
        "\n",
        "- seniority\n",
        "- time\n",
        "- income\n",
        "- debt"
      ]
    },
    {
      "cell_type": "code",
      "metadata": {
        "colab": {
          "base_uri": "https://localhost:8080/"
        },
        "id": "wELp81wagRsx",
        "outputId": "0fdfc13f-1d98-4125-ae04-253945f2cc1a"
      },
      "source": [
        "auc_scores = sorted(auc_scores.items(), key=lambda x: x[1], reverse=True)\n",
        "auc_scores"
      ],
      "execution_count": 434,
      "outputs": [
        {
          "output_type": "execute_result",
          "data": {
            "text/plain": [
              "[('amount', 0.574411),\n",
              " ('price', 0.503243),\n",
              " ('expenses', 0.4247533),\n",
              " ('time', 0.4160643),\n",
              " ('age', 0.4135201),\n",
              " ('income', 0.3102305),\n",
              " ('seniority', 0.2590683),\n",
              " ('assets', 0.258413),\n",
              " ('debt', 0.1500384)]"
            ]
          },
          "metadata": {},
          "execution_count": 434
        }
      ]
    },
    {
      "cell_type": "markdown",
      "metadata": {
        "id": "q_E3aehmwUw5"
      },
      "source": [
        "## Training the model\n",
        "\n",
        "From now on, use these columns only:\n",
        "\n",
        "```\n",
        "['seniority', 'income', 'assets', 'records', 'job', 'home']\n",
        "```\n",
        "\n",
        "Apply one-hot-encoding using `DictVectorizer` and train the logistic regression with these parameters:\n",
        "\n",
        "```\n",
        "LogisticRegression(solver='liblinear', C=1.0, max_iter=1000)\n",
        "```"
      ]
    },
    {
      "cell_type": "code",
      "metadata": {
        "id": "CTC3ZA3KwUw7",
        "colab": {
          "base_uri": "https://localhost:8080/"
        },
        "outputId": "d60d8953-f02b-42d3-a2b8-1921cb637755"
      },
      "source": [
        "y_train = df_train.default\n",
        "y_val = df_val.default\n",
        "y_test = df_test.default\n",
        "x_train = df_train[['seniority', 'income', 'assets', 'records', 'job', 'home']]\n",
        "x_val = df_val[['seniority', 'income', 'assets', 'records', 'job', 'home']]\n",
        "x_test = df_test[['seniority', 'income', 'assets', 'records', 'job', 'home']]\n",
        "print(x_train['job'].value_counts())\n",
        "print(x_val['job'].value_counts())\n",
        "print(x_test['job'].value_counts())"
      ],
      "execution_count": 435,
      "outputs": [
        {
          "output_type": "stream",
          "name": "stdout",
          "text": [
            "fixed        1712\n",
            "freelance     588\n",
            "partime       254\n",
            "others        117\n",
            "unk             1\n",
            "Name: job, dtype: int64\n",
            "fixed        550\n",
            "freelance    216\n",
            "partime       96\n",
            "others        28\n",
            "unk            1\n",
            "Name: job, dtype: int64\n",
            "fixed        543\n",
            "freelance    220\n",
            "partime      102\n",
            "others        26\n",
            "Name: job, dtype: int64\n"
          ]
        }
      ]
    },
    {
      "cell_type": "code",
      "metadata": {
        "id": "GDa0xpP2lEgt"
      },
      "source": [
        "# from sklearn import preprocessing\n",
        "\n",
        "# ohe = preprocessing.OneHotEncoder(handle_unknown='ignore')\n",
        "# ohe.fit(x_train)\n",
        "\n",
        "# X_train = ohe.transform(x_train).toarray()\n",
        "# X_val = ohe.transform(x_val).toarray()\n",
        "# X_test = ohe.transform(x_test).toarray()\n"
      ],
      "execution_count": 436,
      "outputs": []
    },
    {
      "cell_type": "code",
      "metadata": {
        "id": "NtCBoxsBQldL"
      },
      "source": [
        "dicts = x_train.to_dict(orient='records')\n",
        "dv = DictVectorizer(sparse=False)\n",
        "X_train = dv.fit_transform(dicts)\n",
        "\n",
        "dicts = x_val.to_dict(orient='records')\n",
        "X_val = dv.transform(dicts)\n",
        "\n",
        "dicts = x_test.to_dict(orient='records')\n",
        "X_test = dv.transform(dicts)"
      ],
      "execution_count": 437,
      "outputs": []
    },
    {
      "cell_type": "code",
      "metadata": {
        "colab": {
          "base_uri": "https://localhost:8080/"
        },
        "id": "BMgdWjeA44XB",
        "outputId": "76c556fb-30d7-434c-85de-7acb1f3baa20"
      },
      "source": [
        "from sklearn.linear_model import LogisticRegression\n",
        "\n",
        "model = LogisticRegression(solver='liblinear', C=1.0, max_iter=1000)\n",
        "model.fit(X_train, y_train)"
      ],
      "execution_count": 438,
      "outputs": [
        {
          "output_type": "execute_result",
          "data": {
            "text/plain": [
              "LogisticRegression(C=1.0, class_weight=None, dual=False, fit_intercept=True,\n",
              "                   intercept_scaling=1, l1_ratio=None, max_iter=1000,\n",
              "                   multi_class='auto', n_jobs=None, penalty='l2',\n",
              "                   random_state=None, solver='liblinear', tol=0.0001, verbose=0,\n",
              "                   warm_start=False)"
            ]
          },
          "metadata": {},
          "execution_count": 438
        }
      ]
    },
    {
      "cell_type": "code",
      "metadata": {
        "colab": {
          "base_uri": "https://localhost:8080/"
        },
        "id": "2T-2WglY7YKH",
        "outputId": "bfe8cc3f-7221-4e4f-b43a-919838e17916"
      },
      "source": [
        "p_hat = model.predict_proba(X_val)[:,1]\n",
        "y_hat = (p_hat >= 0.5).astype('uint8')\n",
        "(y_val == y_hat).mean()"
      ],
      "execution_count": 439,
      "outputs": [
        {
          "output_type": "execute_result",
          "data": {
            "text/plain": [
              "0.7800224466891134"
            ]
          },
          "metadata": {},
          "execution_count": 439
        }
      ]
    },
    {
      "cell_type": "code",
      "metadata": {
        "colab": {
          "base_uri": "https://localhost:8080/"
        },
        "id": "lrdZf-3JLN0j",
        "outputId": "0a25414b-1a1b-40e9-8d94-50fc7c814223"
      },
      "source": [
        "from sklearn.metrics import roc_auc_score\n",
        "\n",
        "roc_auc_score(y_val, p_hat)"
      ],
      "execution_count": 440,
      "outputs": [
        {
          "output_type": "execute_result",
          "data": {
            "text/plain": [
              "0.8120879813449298"
            ]
          },
          "metadata": {},
          "execution_count": 440
        }
      ]
    },
    {
      "cell_type": "markdown",
      "metadata": {
        "id": "V1Fa44IjwUw8"
      },
      "source": [
        "## Question 2\n",
        "\n",
        "What's the AUC of this model on the validation dataset? (round to 3 digits)\n",
        "\n",
        "- 0.512\n",
        "- 0.612\n",
        "- 0.712\n",
        "- 0.812"
      ]
    },
    {
      "cell_type": "markdown",
      "metadata": {
        "id": "DFb79a1zwUw8"
      },
      "source": [
        "## Question 3\n",
        "\n",
        "Now let's compute precision and recall for our model.\n",
        "\n",
        "* Evaluate the model on all thresholds from 0.0 to 1.0 with step 0.01\n",
        "* For each threshold, compute precision and recall\n",
        "* Plot them"
      ]
    },
    {
      "cell_type": "code",
      "metadata": {
        "colab": {
          "base_uri": "https://localhost:8080/"
        },
        "id": "iZDNZf1ST_Wd",
        "outputId": "03074e1c-7f21-4e1d-8895-c903d27c1186"
      },
      "source": [
        "thresholds = np.linspace(0,1,101)\n",
        "recall = []\n",
        "precision = []\n",
        "for t in thresholds:\n",
        "    y_hat = (p_hat >= t).astype('uint8')\n",
        "    recall.append(y_val.dot(y_hat)/y_val.sum())\n",
        "    precision.append(y_val.dot(y_hat)/y_hat.sum())\n"
      ],
      "execution_count": 441,
      "outputs": [
        {
          "output_type": "stream",
          "name": "stderr",
          "text": [
            "/usr/local/lib/python3.7/dist-packages/ipykernel_launcher.py:7: RuntimeWarning: invalid value encountered in true_divide\n",
            "  import sys\n"
          ]
        }
      ]
    },
    {
      "cell_type": "code",
      "metadata": {
        "colab": {
          "base_uri": "https://localhost:8080/",
          "height": 282
        },
        "id": "OctFiRGBW3sP",
        "outputId": "5f49312c-64f7-4370-8604-bddd8e21320f"
      },
      "source": [
        "plt.plot(thresholds,recall , label='recall')\n",
        "plt.plot(thresholds,precision , label = 'precision')\n",
        "plt.legend()"
      ],
      "execution_count": 442,
      "outputs": [
        {
          "output_type": "execute_result",
          "data": {
            "text/plain": [
              "<matplotlib.legend.Legend at 0x7f4d90386a90>"
            ]
          },
          "metadata": {},
          "execution_count": 442
        },
        {
          "output_type": "display_data",
          "data": {
            "image/png": "[encoded data removed]",
            "text/plain": [
              "<Figure size 432x288 with 1 Axes>"
            ]
          },
          "metadata": {
            "needs_background": "light"
          }
        }
      ]
    },
    {
      "cell_type": "code",
      "metadata": {
        "colab": {
          "base_uri": "https://localhost:8080/"
        },
        "id": "fkCc0Kjdj97M",
        "outputId": "8419165b-c657-4933-d8d3-7f97f08fdcea"
      },
      "source": [
        "thresholds[np.nanargmin(np.abs(np.asarray(recall) - np.asarray(precision)) )]"
      ],
      "execution_count": 443,
      "outputs": [
        {
          "output_type": "execute_result",
          "data": {
            "text/plain": [
              "0.4"
            ]
          },
          "metadata": {},
          "execution_count": 443
        }
      ]
    },
    {
      "cell_type": "markdown",
      "metadata": {
        "id": "g39mQgIWwUw-"
      },
      "source": [
        "At which threshold precision and recall curves intersect?\n",
        "\n",
        "* 0.2\n",
        "* 0.4\n",
        "* 0.6\n",
        "* 0.8"
      ]
    },
    {
      "cell_type": "markdown",
      "metadata": {
        "id": "OO4OfnDowUw-"
      },
      "source": [
        "## Question 4\n",
        "\n",
        "Precision and recall are conflicting - when one grows, the other goes down. That's why they are often combined into the F1 score - a metrics that takes into account both\n",
        "\n",
        "This is the formula for computing F1:\n",
        "\n",
        "$$F_1 = 2 \\cdot \\cfrac{P \\cdot R}{P + R}$$\n",
        "\n",
        "Where $P$ is precision and $R$ is recall.\n",
        "\n",
        "Let's compute F1 for all thresholds from 0.0 to 1.0 with increment 0.01"
      ]
    },
    {
      "cell_type": "code",
      "metadata": {
        "id": "QI1lkfR_wUw_",
        "colab": {
          "base_uri": "https://localhost:8080/"
        },
        "outputId": "88f9131a-7f7e-4f97-eeb0-9534ec34a402"
      },
      "source": [
        "thresholds = np.linspace(0,1,101)\n",
        "f1 = []\n",
        "for t in thresholds:\n",
        "    y_hat = (p_hat >= t).astype('uint8')\n",
        "    p = y_val.dot(y_hat)/y_val.sum()\n",
        "    r = y_val.dot(y_hat)/y_hat.sum()\n",
        "    f1.append(2*p*r/(p+r))\n"
      ],
      "execution_count": 444,
      "outputs": [
        {
          "output_type": "stream",
          "name": "stderr",
          "text": [
            "/usr/local/lib/python3.7/dist-packages/ipykernel_launcher.py:6: RuntimeWarning: invalid value encountered in true_divide\n",
            "  \n"
          ]
        }
      ]
    },
    {
      "cell_type": "code",
      "metadata": {
        "colab": {
          "base_uri": "https://localhost:8080/"
        },
        "id": "9_rDLCQrpYRy",
        "outputId": "30385042-0853-4bc5-ef10-619228381124"
      },
      "source": [
        "thresholds[np.nanargmax(f1)]"
      ],
      "execution_count": 445,
      "outputs": [
        {
          "output_type": "execute_result",
          "data": {
            "text/plain": [
              "0.3"
            ]
          },
          "metadata": {},
          "execution_count": 445
        }
      ]
    },
    {
      "cell_type": "markdown",
      "metadata": {
        "id": "QeMIK76NwUw_"
      },
      "source": [
        "At which threshold F1 is maximal?\n",
        "\n",
        "- 0.1\n",
        "- 0.3\n",
        "- 0.5\n",
        "- 0.7"
      ]
    },
    {
      "cell_type": "markdown",
      "metadata": {
        "id": "S0FTJPB_wUxA"
      },
      "source": [
        "## Question 5\n",
        "\n",
        "\n",
        "Use the `KFold` class from Scikit-Learn to evaluate our model on 5 different folds:\n",
        "\n",
        "```\n",
        "KFold(n_splits=5, shuffle=True, random_state=1)\n",
        "```\n",
        "\n",
        "* Iterate over different folds of `df_full_train`\n",
        "* Split the data into train and validation\n",
        "* Train the model on train with these parameters: `LogisticRegression(solver='liblinear', C=1.0, max_iter=1000)`\n",
        "* Use AUC to evaluate the model on validation\n"
      ]
    },
    {
      "cell_type": "code",
      "metadata": {
        "id": "zxALUOhZ9hvf"
      },
      "source": [
        "y_full_train = df_full_train.default\n",
        "\n",
        "x_full_train = df_full_train[['seniority', 'income', 'assets', 'records', 'job', 'home']]\n",
        "\n",
        "dicts = x_full_train.to_dict(orient='records')\n",
        "dv = DictVectorizer(sparse=False)\n",
        "X_full_train = dv.fit_transform(dicts)\n",
        "dicts = x_test.to_dict(orient='records')\n",
        "X_test = dv.transform(dicts)"
      ],
      "execution_count": 448,
      "outputs": []
    },
    {
      "cell_type": "code",
      "metadata": {
        "colab": {
          "base_uri": "https://localhost:8080/"
        },
        "id": "JVVCicJdCLOh",
        "outputId": "bb3d963f-de08-4ce5-a4bf-e28e9b55c731"
      },
      "source": [
        "y_full_train"
      ],
      "execution_count": 451,
      "outputs": [
        {
          "output_type": "execute_result",
          "data": {
            "text/plain": [
              "1034    0\n",
              "3955    0\n",
              "398     0\n",
              "3994    0\n",
              "1355    1\n",
              "       ..\n",
              "2895    0\n",
              "2763    0\n",
              "905     0\n",
              "3980    0\n",
              "235     0\n",
              "Name: default, Length: 3563, dtype: int64"
            ]
          },
          "metadata": {},
          "execution_count": 451
        }
      ]
    },
    {
      "cell_type": "code",
      "metadata": {
        "id": "fL4HsR3AwUxB"
      },
      "source": [
        "from sklearn.model_selection import KFold\n",
        "\n",
        "kfold = KFold(n_splits=5, shuffle=True, random_state=1)\n",
        "\n",
        "scores = []\n",
        "\n",
        "for train_idx, val_idx in kfold.split(X_full_train):\n",
        "    # the k-fold split uses index to shuffle the data\n",
        "    cv_train = X_full_train[train_idx]\n",
        "    cv_val = X_full_train[val_idx]\n",
        "    \n",
        "    # y values come from dataset\n",
        "    y_cv_train = y_full_train.iloc[train_idx]\n",
        "    y_cv_val = y_full_train.iloc[val_idx]\n",
        "    \n",
        "    model = LogisticRegression(solver='liblinear', C=1.0, max_iter=1000)\n",
        "    model.fit(cv_train , y_cv_train)    \n",
        "    p_hat = model.predict_proba(cv_val)[:, 1]\n",
        "    scores.append(roc_auc_score(y_cv_val, p_hat))\n",
        "    "
      ],
      "execution_count": 452,
      "outputs": []
    },
    {
      "cell_type": "code",
      "metadata": {
        "colab": {
          "base_uri": "https://localhost:8080/"
        },
        "id": "hQRQOk5yE2pa",
        "outputId": "172fed84-bea8-45a5-d9a4-afb3fd5bdc06"
      },
      "source": [
        "print('%.3f +- %.3f' % (np.mean(scores), np.std(scores)))"
      ],
      "execution_count": 454,
      "outputs": [
        {
          "output_type": "stream",
          "name": "stdout",
          "text": [
            "0.812 +- 0.014\n"
          ]
        }
      ]
    },
    {
      "cell_type": "markdown",
      "metadata": {
        "id": "BMb4xRclwUxB"
      },
      "source": [
        "How large is standard devidation of the scores across different folds?\n",
        "\n",
        "- 0.001\n",
        "- 0.014\n",
        "- 0.09\n",
        "- 0.14"
      ]
    },
    {
      "cell_type": "markdown",
      "metadata": {
        "id": "ZloxJaYIwUxC"
      },
      "source": [
        "## Question 6\n",
        "\n",
        "Now let's use 5-Fold cross-validation to find the best parameter C\n",
        "\n",
        "* Iterate over the following C values: `[0.01, 0.1, 1, 10]`\n",
        "* Initialize `KFold` with the same parameters as previously\n",
        "* Use these parametes for the model: `LogisticRegression(solver='liblinear', C=C, max_iter=1000)`\n",
        "* Compute the mean score as well as the std (round the mean and std to 3 decimal digits)"
      ]
    },
    {
      "cell_type": "code",
      "metadata": {
        "id": "x5GLxcfgwUxD"
      },
      "source": [
        "C_scores = {}\n",
        "\n",
        "for i in [0.01, 0.1, 1, 10 , 100]:\n",
        "\n",
        "    kfold = KFold(n_splits=5, shuffle=True, random_state=1)\n",
        "\n",
        "    scores = []\n",
        "\n",
        "    for train_idx, val_idx in kfold.split(X_full_train):\n",
        "        # the k-fold split uses index to shuffle the data\n",
        "        cv_train = X_full_train[train_idx]\n",
        "        cv_val = X_full_train[val_idx]\n",
        "        \n",
        "        # y values come from dataset\n",
        "        y_cv_train = y_full_train.iloc[train_idx]\n",
        "        y_cv_val = y_full_train.iloc[val_idx]\n",
        "        \n",
        "        model = LogisticRegression(solver='liblinear', C=i, max_iter=1000)\n",
        "        model.fit(cv_train , y_cv_train)    \n",
        "        p_hat = model.predict_proba(cv_val)[:, 1]\n",
        "        scores.append(roc_auc_score(y_cv_val, p_hat))\n",
        "\n",
        "    C_scores[i] = (round(np.mean(scores),3), round(np.std(scores),3))\n",
        "        "
      ],
      "execution_count": 461,
      "outputs": []
    },
    {
      "cell_type": "markdown",
      "metadata": {
        "id": "wRYDlv1OwUxD"
      },
      "source": [
        "Which C leads to the best mean score?\n",
        "\n",
        "- 0.01\n",
        "- 0.1\n",
        "- 1\n",
        "- 10\n",
        "\n",
        "If you have ties, select the score with the lowest std. If you still have ties, select the smallest C"
      ]
    },
    {
      "cell_type": "code",
      "metadata": {
        "id": "1ylu-MxuwUxE",
        "colab": {
          "base_uri": "https://localhost:8080/"
        },
        "outputId": "dd442d05-6e72-4969-975d-49db06d48f41"
      },
      "source": [
        " C_scores"
      ],
      "execution_count": 462,
      "outputs": [
        {
          "output_type": "execute_result",
          "data": {
            "text/plain": [
              "{0.01: (0.808, 0.012),\n",
              " 0.1: (0.813, 0.014),\n",
              " 1: (0.812, 0.014),\n",
              " 10: (0.814, 0.015),\n",
              " 100: (0.814, 0.015)}"
            ]
          },
          "metadata": {},
          "execution_count": 462
        }
      ]
    },
    {
      "cell_type": "markdown",
      "metadata": {
        "id": "kBb9iFwJwUxF"
      },
      "source": [
        "## Submit the results\n",
        "\n",
        "Submit your results here: https://forms.gle/e497sR5iB36mM9Cs5\n",
        "\n",
        "It's possible that your answers won't match exactly. If it's the case, select the closest one.\n",
        "\n",
        "## Deadline\n",
        "\n",
        "The deadline for submitting is 04 October 2021, 17:00 CET. After that, the form will be closed."
      ]
    },
    {
      "cell_type": "code",
      "metadata": {
        "id": "dAo-Lhk3wUxF"
      },
      "source": [
        "\n",
        "\n",
        "thresholds = np.linspace(0,1,101)\n",
        "\n",
        "y_hat_ohe = np.zeros(shape=(len(y_hat) , len(set(y_hat))))\n",
        "\n",
        "for i in range(len(y_hat)):\n",
        "    y_hat_ohe[i,y_hat[i]] = 1\n",
        "\n",
        "y_val_ohe = np.zeros(shape=(len(y_val) , len(set(y_val))))\n",
        "\n",
        "for i in range(len(y_val)):\n",
        "    y_val_ohe[i,y_val.values[i]] = 1"
      ],
      "execution_count": 391,
      "outputs": []
    }
  ]
}